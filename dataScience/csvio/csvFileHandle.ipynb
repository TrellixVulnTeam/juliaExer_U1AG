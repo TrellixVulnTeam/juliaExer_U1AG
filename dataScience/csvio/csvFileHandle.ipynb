{
 "cells": [
  {
   "cell_type": "code",
   "execution_count": 1,
   "metadata": {},
   "outputs": [],
   "source": [
    "using DataFrames"
   ]
  },
  {
   "cell_type": "code",
   "execution_count": 12,
   "metadata": {},
   "outputs": [
    {
     "data": {
      "text/html": [
       "<table class=\"data-frame\"><thead><tr><th></th><th>x1</th><th>x2</th><th>x3</th></tr></thead><tbody><tr><th>1</th><td>1</td><td>2</td><td>3</td></tr><tr><th>2</th><td>4</td><td>5</td><td>6</td></tr><tr><th>3</th><td>7</td><td>8</td><td>9</td></tr></tbody></table>"
      ],
      "text/plain": [
       "3×3 DataFrames.DataFrame\n",
       "│ Row │ x1 │ x2 │ x3 │\n",
       "├─────┼────┼────┼────┤\n",
       "│ 1   │ 1  │ 2  │ 3  │\n",
       "│ 2   │ 4  │ 5  │ 6  │\n",
       "│ 3   │ 7  │ 8  │ 9  │"
      ]
     },
     "execution_count": 12,
     "metadata": {},
     "output_type": "execute_result"
    }
   ],
   "source": [
    "dataframe=readtable(\"sample.csv\",header=false,separator=',')"
   ]
  },
  {
   "cell_type": "code",
   "execution_count": 13,
   "metadata": {},
   "outputs": [],
   "source": [
    "row,col=size(dataframe)\n",
    "for  c =1:col\n",
    "    dataframe[:,c] *= c\n",
    "end"
   ]
  },
  {
   "cell_type": "code",
   "execution_count": 14,
   "metadata": {},
   "outputs": [
    {
     "data": {
      "text/html": [
       "<table class=\"data-frame\"><thead><tr><th></th><th>x1</th><th>x2</th><th>x3</th></tr></thead><tbody><tr><th>1</th><td>1</td><td>4</td><td>9</td></tr><tr><th>2</th><td>4</td><td>10</td><td>18</td></tr><tr><th>3</th><td>7</td><td>16</td><td>27</td></tr></tbody></table>"
      ],
      "text/plain": [
       "3×3 DataFrames.DataFrame\n",
       "│ Row │ x1 │ x2 │ x3 │\n",
       "├─────┼────┼────┼────┤\n",
       "│ 1   │ 1  │ 4  │ 9  │\n",
       "│ 2   │ 4  │ 10 │ 18 │\n",
       "│ 3   │ 7  │ 16 │ 27 │"
      ]
     },
     "execution_count": 14,
     "metadata": {},
     "output_type": "execute_result"
    }
   ],
   "source": [
    "dataframe"
   ]
  },
  {
   "cell_type": "code",
   "execution_count": 15,
   "metadata": {},
   "outputs": [],
   "source": [
    "writetable(\"output.csv\",dataframe,header=false,separator=',')"
   ]
  },
  {
   "cell_type": "code",
   "execution_count": 16,
   "metadata": {},
   "outputs": [
    {
     "name": "stdout",
     "output_type": "stream",
     "text": [
      "1,4,9\n",
      "4,10,18\n",
      "7,16,27\n"
     ]
    }
   ],
   "source": [
    ";cat output.csv"
   ]
  },
  {
   "cell_type": "code",
   "execution_count": null,
   "metadata": {},
   "outputs": [],
   "source": []
  }
 ],
 "metadata": {
  "kernelspec": {
   "display_name": "Julia 0.6.1",
   "language": "julia",
   "name": "julia-0.6"
  },
  "language_info": {
   "file_extension": ".jl",
   "mimetype": "application/julia",
   "name": "julia",
   "version": "0.6.1"
  }
 },
 "nbformat": 4,
 "nbformat_minor": 2
}
