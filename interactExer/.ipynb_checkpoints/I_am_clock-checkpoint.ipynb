{
 "cells": [
  {
   "cell_type": "code",
   "execution_count": null,
   "metadata": {},
   "outputs": [],
   "source": [
    "using Interact\n",
    "using Plots\n",
    "using Dates"
   ]
  },
  {
   "cell_type": "code",
   "execution_count": null,
   "metadata": {},
   "outputs": [],
   "source": [
    "using Plots\n",
    "\n",
    "function tick_clock(sec)\n",
    "    rad = sec * 2pi / 60\n",
    "    r = mod(rad, 2pi)\n",
    "    s = mod(sec, 60)\n",
    "    r = pi / 2 - r\n",
    "    # make needle\n",
    "    q = quiver([0], [0],\n",
    "                  quiver = ([cos(r)], [sin(r)]),\n",
    "                  color = :black,\n",
    "                  linewidth = 4,\n",
    "                  linealpha = 0.5)\n",
    "    # draw tick\n",
    "    for k in 0:59\n",
    "        offset=15\n",
    "        t=k-offset\n",
    "        if mod(k, 5) == 0\n",
    "            b, e = 0.9, 1.1\n",
    "            plot!([b * cos(-t * 2pi / 60), e * cos(-t * 2pi / 60)],\n",
    "                  [b * sin(-t * 2pi / 60), e * sin(-t * 2pi / 60)],\n",
    "                  color = :black)\n",
    "            annotate!([(1.2*cos(-t * 2pi/60),1.2*sin(-t*2pi/60),\"$k\")])\n",
    "        else\n",
    "            b, e = 0.95, 1.05\n",
    "            plot!([b * cos(-t * 2pi / 60), e * cos(-t * 2pi / 60)],\n",
    "                  [b * sin(-t * 2pi / 60), e * sin(-t * 2pi / 60)],\n",
    "                  color = :black)\n",
    "        end\n",
    "    end\n",
    "    # adjust style\n",
    "    plot!(xlim = (-1.1, 1.1), ylim = (-1.1, 1.5),\n",
    "    aspect_ratio = :equal,\n",
    "    leg = false,\n",
    "    showaxis = false,\n",
    "    grid = false,\n",
    "    title = \"$(s) [s]\")\n",
    "end\n",
    "\n",
    "\n",
    "function run_clock(maxsec)\n",
    "    init_state=0\n",
    "    interval=1\n",
    "    counter=init_state\n",
    "    d=now()\n",
    "    while true\n",
    "        dnow=now()\n",
    "        sleep(interval)\n",
    "        #print(\"\") # force flush\n",
    "        tick_counter[]=counter\n",
    "        d=dnow\n",
    "        counter+=interval\n",
    "        if counter>maxsec\n",
    "            break\n",
    "        end\n",
    "    end\n",
    "    # reset\n",
    "    sleep(interval)\n",
    "    tick_counter[]=init_state\n",
    "end"
   ]
  },
  {
   "cell_type": "code",
   "execution_count": null,
   "metadata": {},
   "outputs": [],
   "source": [
    "tick_counter=slider(1:60,value=0,label=\"radian\")\n",
    "\n",
    "on(sec->tick_clock(sec),tick_counter)\n",
    "\n",
    "startbutton=button(\"Start\")\n",
    "on(_->run_clock(60),observe(startbutton))\n",
    "\n",
    "ui=map(sec->tick_clock(sec),observe(tick_counter))\n",
    "hbox(startbutton,ui)|>display"
   ]
  }
 ],
 "metadata": {
  "@webio": {
   "lastCommId": null,
   "lastKernelId": null
  },
  "kernelspec": {
   "display_name": "Julia 1.1.1",
   "language": "julia",
   "name": "julia-1.1"
  },
  "language_info": {
   "file_extension": ".jl",
   "mimetype": "application/julia",
   "name": "julia",
   "version": "1.1.1"
  }
 },
 "nbformat": 4,
 "nbformat_minor": 2
}
