{
 "cells": [
  {
   "cell_type": "code",
   "execution_count": null,
   "metadata": {},
   "outputs": [],
   "source": [
    "using Interact\n",
    "using Colors"
   ]
  },
  {
   "cell_type": "code",
   "execution_count": null,
   "metadata": {},
   "outputs": [],
   "source": [
    "r = slider(0:0.01:1, value=0.25,label=\"R\")\n",
    "g = slider(0:0.01:1, value=0.9,label=\"G\")\n",
    "b = slider(0:0.01:1, value=0.8,label=\"B\")\n",
    "color = map((x, y, z) -> RGB(x, y, z), observe(r), observe(g), observe(b))\n",
    "html_msg=map(\n",
    "    c -> HTML(\n",
    "        string(\n",
    "            \"<div style='color:#\", \n",
    "            hex(c), \n",
    "            \"'>Hello, World!</div>\"\n",
    "        )\n",
    "    ), \n",
    "    color\n",
    ")\n",
    "\n",
    "map(display,[hbox(r,g,b),html_msg]);"
   ]
  },
  {
   "cell_type": "code",
   "execution_count": null,
   "metadata": {},
   "outputs": [],
   "source": [
    "@manipulate for r in 0:.05:1, g in 0:.05:1, b in 0:.05:1\n",
    "    HTML(\n",
    "        string(\n",
    "            \"<div style='color:#\",\n",
    "            hex(RGB(r,g,b)),\n",
    "            \"'>Color me</div>\"\n",
    "        )\n",
    "    )\n",
    "end\n"
   ]
  },
  {
   "cell_type": "markdown",
   "metadata": {},
   "source": [
    "## How do I set initial value ?\n",
    "\n",
    "- https://github.com/JuliaGizmos/Interact.jl/issues/85"
   ]
  },
  {
   "cell_type": "code",
   "execution_count": null,
   "metadata": {},
   "outputs": [],
   "source": [
    "@manipulate for r in slider(0:0.05:1,value=0.25,label=\"r\"), \n",
    "                     g in slider(0:0.05:1,value=0.35,label=\"g\"), \n",
    "                     b in slider(0:0.05:1,value=0.9,label=\"b\")\n",
    "    HTML(\n",
    "        string(\n",
    "            \"<div style='color:#\",\n",
    "            hex(RGB(r,g,b)),\n",
    "            \"'>Color me</div>\"\n",
    "        )\n",
    "    )\n",
    "end\n"
   ]
  },
  {
   "cell_type": "code",
   "execution_count": null,
   "metadata": {},
   "outputs": [],
   "source": [
    "using Plots\n",
    "using LaTeXStrings\n",
    "@manipulate for a in slider(0:0.05:π, value=0.3, label=\"a\")\n",
    "    x=-π:0.05:π\n",
    "    y=sin.(x.-a)\n",
    "    plot(x, y, xlabel=L\"x\",ylabel=L\"y\", title=L\"\\sin (x-a),\\ \\cos(x-a)\", label=L\"\\sin\")\n",
    "    plot!(θ->cos(θ-a), -π, π,label=L\"\\cos\")\n",
    "end"
   ]
  }
 ],
 "metadata": {
  "@webio": {
   "lastCommId": null,
   "lastKernelId": null
  },
  "kernelspec": {
   "display_name": "Julia 1.1.0",
   "language": "julia",
   "name": "julia-1.1"
  },
  "language_info": {
   "file_extension": ".jl",
   "mimetype": "application/julia",
   "name": "julia",
   "version": "1.1.0"
  }
 },
 "nbformat": 4,
 "nbformat_minor": 2
}
