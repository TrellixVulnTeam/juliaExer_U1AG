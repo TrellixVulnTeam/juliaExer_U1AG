{
 "cells": [
  {
   "cell_type": "code",
   "execution_count": null,
   "metadata": {},
   "outputs": [],
   "source": [
    "using Interact\n",
    "using Plots\n",
    "using Dates"
   ]
  },
  {
   "cell_type": "code",
   "execution_count": null,
   "metadata": {},
   "outputs": [],
   "source": [
    "function tick_clock(sec)\n",
    "    rad = sec * 2pi / 60\n",
    "    r = mod(rad, 2pi)\n",
    "    r = pi / 2 - r\n",
    "    # make needle\n",
    "    q = quiver([0], [0],\n",
    "              quiver = ([cos(r)], [sin(r)]),\n",
    "              color = :black,\n",
    "              linewidth = 4,\n",
    "              linealpha = 0.5)\n",
    "    # draw tick\n",
    "    for k in 0:59\n",
    "        offset = 15\n",
    "        t = k - offset\n",
    "        if mod(k, 5) == 0\n",
    "            b, e = 0.9, 1.1\n",
    "            plot!([b * cos(-t * 2pi / 60), e * cos(-t * 2pi / 60)],\n",
    "                  [b * sin(-t * 2pi / 60), e * sin(-t * 2pi / 60)],\n",
    "                  color = :black)\n",
    "            annotate!([(1.2 * cos(-t * 2pi / 60), 1.2 * sin(-t * 2pi / 60), \"$k\")])\n",
    "        else\n",
    "            b, e = 0.95, 1.05\n",
    "            plot!([b * cos(-t * 2pi / 60), e * cos(-t * 2pi / 60)],\n",
    "                  [b * sin(-t * 2pi / 60), e * sin(-t * 2pi / 60)],\n",
    "                  color = :black)\n",
    "        end\n",
    "    end\n",
    "    # adjust style\n",
    "    plot!(xlim = (-1.1, 1.1), ylim = (-1.1, 1.5),\n",
    "        aspect_ratio = :equal,\n",
    "        leg = false,\n",
    "        showaxis = false,\n",
    "        grid = false,\n",
    "        title = \"$(sec) [s]\")\n",
    "end"
   ]
  },
  {
   "cell_type": "code",
   "execution_count": null,
   "metadata": {},
   "outputs": [],
   "source": [
    "timestatus = Observable(0)\n",
    "function run_clock(maxsec)\n",
    "    init_state = 0\n",
    "    interval = 1\n",
    "    count = init_state\n",
    "    while true\n",
    "        sleep(interval)\n",
    "        timestatus[] = count\n",
    "        count += interval\n",
    "        if count > maxsec\n",
    "            break\n",
    "        end\n",
    "    end\n",
    "    # reset\n",
    "    sleep(interval)\n",
    "    timestatus[] = init_state\n",
    "end\n"
   ]
  },
  {
   "cell_type": "code",
   "execution_count": null,
   "metadata": {},
   "outputs": [],
   "source": [
    "btn₊ = button(\"+\")\n",
    "btn₋ = button(\"-\")\n",
    "btn₊10 = button(\"+10\")\n",
    "btn₋10 = button(\"-10\")\n",
    "const initval = 5\n",
    "timer = Interact.@map begin\n",
    "    &btn₊, &btn₋\n",
    "    s = initval + 10*&btn₊10 + &btn₊ - &btn₋ - 10*&btn₋10\n",
    "    # do not allow set `s` to negative value.\n",
    "    s = max(s, 0)\n",
    "    Widgets.wdglabel(\"$(s)\")\n",
    "end\n",
    "\n",
    "btnstart = button(\"Start\")\n",
    "function dosomething(t)\n",
    "    maxtime = parse(Int, t.val.children[1])\n",
    "    run_clock(maxtime)\n",
    "end\n",
    "\n",
    "on(_ -> dosomething(timer), btnstart)\n",
    "\n",
    "buttons = hbox(btn₋10, btn₋, timer, btn₊, btn₊10, btnstart)\n",
    "clock = map(sec->tick_clock(sec), timestatus)\n",
    "ui = vbox(buttons,clock)\n",
    "display(ui)"
   ]
  },
  {
   "cell_type": "code",
   "execution_count": null,
   "metadata": {},
   "outputs": [],
   "source": [
    "using Blink\n",
    "w = Window()\n",
    "s=slider(-1:0.1:1)\n",
    "body!(w, ui)"
   ]
  },
  {
   "cell_type": "code",
   "execution_count": null,
   "metadata": {},
   "outputs": [],
   "source": [
    "using Mux\n",
    "port=9000\n",
    "WebIO.webio_serve(page(\"/\", req -> ui),port)"
   ]
  },
  {
   "cell_type": "markdown",
   "metadata": {},
   "source": [
    "- open http://localhost:9000"
   ]
  }
 ],
 "metadata": {
  "@webio": {
   "lastCommId": null,
   "lastKernelId": null
  },
  "kernelspec": {
   "display_name": "Julia 1.1.1",
   "language": "julia",
   "name": "julia-1.1"
  },
  "language_info": {
   "file_extension": ".jl",
   "mimetype": "application/julia",
   "name": "julia",
   "version": "1.1.1"
  }
 },
 "nbformat": 4,
 "nbformat_minor": 2
}
