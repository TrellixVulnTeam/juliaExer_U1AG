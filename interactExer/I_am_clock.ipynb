{
 "cells": [
  {
   "cell_type": "code",
   "execution_count": 1,
   "metadata": {},
   "outputs": [
    {
     "data": {
      "text/html": [
       "<script>\n",
       "// Immediately-invoked-function-expression to avoid global variables.\n",
       "(function() {\n",
       "    var warning_div = document.getElementById(\"webio-warning-11213308480593400664\");\n",
       "    var hide = function () {\n",
       "        var script = document.getElementById(\"webio-setup-8219353492794198376\");\n",
       "        var parent = script && script.parentElement;\n",
       "        var grandparent = parent && parent.parentElement;\n",
       "        if (grandparent) {\n",
       "            grandparent.style.display = \"none\";\n",
       "        }\n",
       "        warning_div.style.display = \"none\";\n",
       "    };\n",
       "    if (typeof Jupyter !== \"undefined\") {\n",
       "        console.log(\"WebIO detected Jupyter notebook environment.\");\n",
       "        // Jupyter notebook.\n",
       "        var extensions = (\n",
       "            Jupyter\n",
       "            && Jupyter.notebook.config.data\n",
       "            && Jupyter.notebook.config.data.load_extensions\n",
       "        );\n",
       "        if (extensions && extensions[\"webio/main\"]) {\n",
       "            // Extension already loaded.\n",
       "            console.log(\"Jupyter WebIO nbextension detected; not loading ad-hoc.\");\n",
       "            hide();\n",
       "            return;\n",
       "        }\n",
       "        console.warn(\"Loading WebIO Jupyter extension on an ad-hoc basis. Consider enabling the WebIO nbextension for a stabler experience (this should happen automatically when building WebIO).\");\n",
       "        warning_div.innerHTML = \"<strong>Loading WebIO Jupyter extension on an ad-hoc basis. Consider enabling the WebIO nbextension for a stabler experience (this should happen automatically when building WebIO).</strong>\";\n",
       "    } else if (window.location.pathname.includes(\"/lab\")) {\n",
       "        // Guessing JupyterLa\n",
       "        console.log(\"Jupyter Lab detected; make sure the @webio/jupyter-lab-provider labextension is installed.\");\n",
       "        hide();\n",
       "        return;\n",
       "    }\n",
       "})();\n",
       "\n",
       "</script>\n",
       "<p\n",
       "    id=\"webio-warning-11213308480593400664\"\n",
       "    class=\"output_text output_stderr\"\n",
       "    style=\"padding: 1em; font-weight: bold;\"\n",
       ">\n",
       "    Unable to load WebIO. Please make sure WebIO works for your Jupyter client.\n",
       "    For troubleshooting, please see <a href=\"https://juliagizmos.github.io/WebIO.jl/latest/providers/ijulia/\">\n",
       "    the WebIO/IJulia documentation</a>.\n",
       "    <!-- TODO: link to installation docs. -->\n",
       "</p>\n"
      ],
      "text/plain": [
       "HTML{String}(\"<script>\\n// Immediately-invoked-function-expression to avoid global variables.\\n(function() {\\n    var warning_div = document.getElementById(\\\"webio-warning-11213308480593400664\\\");\\n    var hide = function () {\\n        var script = document.getElementById(\\\"webio-setup-8219353492794198376\\\");\\n        var parent = script && script.parentElement;\\n        var grandparent = parent && parent.parentElement;\\n        if (grandparent) {\\n            grandparent.style.display = \\\"none\\\";\\n        }\\n        warning_div.style.display = \\\"none\\\";\\n    };\\n    if (typeof Jupyter !== \\\"undefined\\\") {\\n        console.log(\\\"WebIO detected Jupyter notebook environment.\\\");\\n        // Jupyter notebook.\\n        var extensions = (\\n            Jupyter\\n            && Jupyter.notebook.config.data\\n            && Jupyter.notebook.config.data.load_extensions\\n        );\\n        if (extensions && extensions[\\\"webio/main\\\"]) {\\n            // Extension already loaded.\\n            console.log(\\\"Jupyter WebIO nbextension detected; not loading ad-hoc.\\\");\\n            hide();\\n            return;\\n        }\\n        console.warn(\\\"Loading WebIO Jupyter extension on an ad-hoc basis. Consider enabling the WebIO nbextension for a stabler experience (this should happen automatically when building WebIO).\\\");\\n        warning_div.innerHTML = \\\"<strong>Loading WebIO Jupyter extension on an ad-hoc basis. Consider enabling the WebIO nbextension for a stabler experience (this should happen automatically when building WebIO).</strong>\\\";\\n    } else if (window.location.pathname.includes(\\\"/lab\\\")) {\\n        // Guessing JupyterLa\\n        console.log(\\\"Jupyter Lab detected; make sure the @webio/jupyter-lab-provider labextension is installed.\\\");\\n        hide();\\n        return;\\n    }\\n})();\\n\\n</script>\\n<p\\n    id=\\\"webio-warning-11213308480593400664\\\"\\n    class=\\\"output_text output_stderr\\\"\\n    style=\\\"padding: 1em; font-weight: bold;\\\"\\n>\\n    Unable to load WebIO. Please make sure WebIO works for your Jupyter client.\\n    For troubleshooting, please see <a href=\\\"https://juliagizmos.github.io/WebIO.jl/latest/providers/ijulia/\\\">\\n    the WebIO/IJulia documentation</a>.\\n    <!-- TODO: link to installation docs. -->\\n</p>\\n\")"
      ]
     },
     "metadata": {},
     "output_type": "display_data"
    }
   ],
   "source": [
    "using Interact\n",
    "using Plots\n",
    "using Dates"
   ]
  },
  {
   "cell_type": "code",
   "execution_count": 2,
   "metadata": {},
   "outputs": [
    {
     "data": {
      "text/plain": [
       "tick_clock (generic function with 1 method)"
      ]
     },
     "execution_count": 2,
     "metadata": {},
     "output_type": "execute_result"
    }
   ],
   "source": [
    "function tick_clock(sec)\n",
    "    rad = sec * 2pi / 60\n",
    "    r = mod(rad, 2pi)\n",
    "    r = pi / 2 - r\n",
    "    # make needle\n",
    "    q = quiver([0], [0],\n",
    "              quiver = ([cos(r)], [sin(r)]),\n",
    "              color = :black,\n",
    "              linewidth = 4,\n",
    "              linealpha = 0.5)\n",
    "    # draw tick\n",
    "    for k in 0:59\n",
    "        offset = 15\n",
    "        t = k - offset\n",
    "        if mod(k, 5) == 0\n",
    "            b, e = 0.9, 1.1\n",
    "            plot!([b * cos(-t * 2pi / 60), e * cos(-t * 2pi / 60)],\n",
    "                  [b * sin(-t * 2pi / 60), e * sin(-t * 2pi / 60)],\n",
    "                  color = :black)\n",
    "            annotate!([(1.2 * cos(-t * 2pi / 60), 1.2 * sin(-t * 2pi / 60), \"$k\")])\n",
    "        else\n",
    "            b, e = 0.95, 1.05\n",
    "            plot!([b * cos(-t * 2pi / 60), e * cos(-t * 2pi / 60)],\n",
    "                  [b * sin(-t * 2pi / 60), e * sin(-t * 2pi / 60)],\n",
    "                  color = :black)\n",
    "        end\n",
    "    end\n",
    "    # adjust style\n",
    "    plot!(xlim = (-1.1, 1.1), ylim = (-1.1, 1.5),\n",
    "        aspect_ratio = :equal,\n",
    "        leg = false,\n",
    "        showaxis = false,\n",
    "        grid = false,\n",
    "        title = \"$(sec) [s]\")\n",
    "end"
   ]
  },
  {
   "cell_type": "code",
   "execution_count": 3,
   "metadata": {},
   "outputs": [
    {
     "data": {
      "text/plain": [
       "run_clock (generic function with 1 method)"
      ]
     },
     "execution_count": 3,
     "metadata": {},
     "output_type": "execute_result"
    }
   ],
   "source": [
    "timestatus = Observable(0)\n",
    "function run_clock(maxsec)\n",
    "    init_state = 0\n",
    "    interval = 1\n",
    "    count = init_state\n",
    "    while true\n",
    "        sleep(interval)\n",
    "        timestatus[] = count\n",
    "        count += interval\n",
    "        if count > maxsec\n",
    "            break\n",
    "        end\n",
    "    end\n",
    "    # reset\n",
    "    sleep(interval)\n",
    "    timestatus[] = init_state\n",
    "end\n"
   ]
  },
  {
   "cell_type": "code",
   "execution_count": 4,
   "metadata": {},
   "outputs": [
    {
     "data": {
      "application/vnd.webio.node+json": {
       "children": [
        {
         "children": [
          {
           "children": [
            {
             "children": [
              {
               "children": [
                "-10"
               ],
               "instanceArgs": {
                "namespace": "html",
                "tag": "button"
               },
               "nodeType": "DOM",
               "props": {
                "attributes": {
                 "data-bind": "click: function (){this.clicks(this.clicks()+1)}, css: {'is-loading' : loading}"
                },
                "className": "is-medium button is-primary",
                "style": {}
               },
               "type": "node"
              }
             ],
             "instanceArgs": {
              "handlers": {
               "clicks": [
                "(function (val){return (val!=this.model[\"clicks\"]()) ? (this.valueFromJulia[\"clicks\"]=true, this.model[\"clicks\"](val)) : undefined})"
               ],
               "loading": [
                "(function (val){return (val!=this.model[\"loading\"]()) ? (this.valueFromJulia[\"loading\"]=true, this.model[\"loading\"](val)) : undefined})"
               ]
              },
              "id": "8080278407990499071",
              "imports": {
               "data": [
                {
                 "name": "knockout",
                 "type": "js",
                 "url": "/assetserver/e5e1f43edad328051d4419005d904d35dfa6e184-knockout.js"
                },
                {
                 "name": "knockout_punches",
                 "type": "js",
                 "url": "/assetserver/eb91775159288ba25efa24f3eb9afd64db5b259f-knockout_punches.js"
                },
                {
                 "name": null,
                 "type": "js",
                 "url": "/assetserver/3677f5bfba1bb9b5d3d654c444d203b8d7654688-all.js"
                },
                {
                 "name": null,
                 "type": "css",
                 "url": "/assetserver/99779f8518149d0f01ef86c2106871126e75532d-style.css"
                },
                {
                 "name": null,
                 "type": "css",
                 "url": "/assetserver/b8b35cfec9fafa23715d6e09ffebcaf5cea653e2-bulma_confined.min.css"
                }
               ],
               "type": "async_block"
              },
              "mount_callbacks": [
               "function () {\n    var handler = (function (ko, koPunches) {\n    ko.punches.enableAll();\n    ko.bindingHandlers.numericValue = {\n        init: function(element, valueAccessor, allBindings, data, context) {\n            var stringified = ko.observable(ko.unwrap(valueAccessor()));\n            stringified.subscribe(function(value) {\n                var val = parseFloat(value);\n                if (!isNaN(val)) {\n                    valueAccessor()(val);\n                }\n            });\n            valueAccessor().subscribe(function(value) {\n                var str = JSON.stringify(value);\n                if ((str == \"0\") && ([\"-0\", \"-0.\"].indexOf(stringified()) >= 0))\n                     return;\n                 if ([\"null\", \"\"].indexOf(str) >= 0)\n                     return;\n                stringified(str);\n            });\n            ko.applyBindingsToNode(\n                element,\n                {\n                    value: stringified,\n                    valueUpdate: allBindings.get('valueUpdate'),\n                },\n                context,\n            );\n        }\n    };\n    var json_data = {\"loading\":WebIO.getval({\"name\":\"loading\",\"scope\":\"8080278407990499071\",\"id\":\"ob_09\",\"type\":\"observable\"}),\"clicks\":WebIO.getval({\"name\":\"clicks\",\"scope\":\"8080278407990499071\",\"id\":\"ob_08\",\"type\":\"observable\"})};\n    var self = this;\n    function AppViewModel() {\n        for (var key in json_data) {\n            var el = json_data[key];\n            this[key] = Array.isArray(el) ? ko.observableArray(el) : ko.observable(el);\n        }\n        \n        \n        [this[\"loading\"].subscribe((function (val){!(this.valueFromJulia[\"loading\"]) ? (WebIO.setval({\"name\":\"loading\",\"scope\":\"8080278407990499071\",\"id\":\"ob_09\",\"type\":\"observable\"},val)) : undefined; return this.valueFromJulia[\"loading\"]=false}),self),this[\"clicks\"].subscribe((function (val){!(this.valueFromJulia[\"clicks\"]) ? (WebIO.setval({\"name\":\"clicks\",\"scope\":\"8080278407990499071\",\"id\":\"ob_08\",\"type\":\"observable\"},val)) : undefined; return this.valueFromJulia[\"clicks\"]=false}),self)]\n        \n    }\n    self.model = new AppViewModel();\n    self.valueFromJulia = {};\n    for (var key in json_data) {\n        self.valueFromJulia[key] = false;\n    }\n    ko.applyBindings(self.model, self.dom);\n}\n);\n    (WebIO.importBlock({\"data\":[{\"name\":\"knockout\",\"type\":\"js\",\"url\":\"/assetserver/e5e1f43edad328051d4419005d904d35dfa6e184-knockout.js\"},{\"name\":\"knockout_punches\",\"type\":\"js\",\"url\":\"/assetserver/eb91775159288ba25efa24f3eb9afd64db5b259f-knockout_punches.js\"}],\"type\":\"async_block\"})).then((imports) => handler.apply(this, imports));\n}\n"
              ],
              "observables": {
               "clicks": {
                "id": "ob_08",
                "sync": true,
                "value": 0
               },
               "loading": {
                "id": "ob_09",
                "sync": false,
                "value": false
               }
              },
              "systemjs_options": null
             },
             "nodeType": "Scope",
             "props": {},
             "type": "node"
            }
           ],
           "instanceArgs": {
            "namespace": "html",
            "tag": "div"
           },
           "nodeType": "DOM",
           "props": {
            "className": "field interact-widget"
           },
           "type": "node"
          },
          {
           "children": [
            {
             "children": [
              {
               "children": [
                "-"
               ],
               "instanceArgs": {
                "namespace": "html",
                "tag": "button"
               },
               "nodeType": "DOM",
               "props": {
                "attributes": {
                 "data-bind": "click: function (){this.clicks(this.clicks()+1)}, css: {'is-loading' : loading}"
                },
                "className": "is-medium button is-primary",
                "style": {}
               },
               "type": "node"
              }
             ],
             "instanceArgs": {
              "handlers": {
               "clicks": [
                "(function (val){return (val!=this.model[\"clicks\"]()) ? (this.valueFromJulia[\"clicks\"]=true, this.model[\"clicks\"](val)) : undefined})"
               ],
               "loading": [
                "(function (val){return (val!=this.model[\"loading\"]()) ? (this.valueFromJulia[\"loading\"]=true, this.model[\"loading\"](val)) : undefined})"
               ]
              },
              "id": "5034710053233273931",
              "imports": {
               "data": [
                {
                 "name": "knockout",
                 "type": "js",
                 "url": "/assetserver/e5e1f43edad328051d4419005d904d35dfa6e184-knockout.js"
                },
                {
                 "name": "knockout_punches",
                 "type": "js",
                 "url": "/assetserver/eb91775159288ba25efa24f3eb9afd64db5b259f-knockout_punches.js"
                },
                {
                 "name": null,
                 "type": "js",
                 "url": "/assetserver/3677f5bfba1bb9b5d3d654c444d203b8d7654688-all.js"
                },
                {
                 "name": null,
                 "type": "css",
                 "url": "/assetserver/99779f8518149d0f01ef86c2106871126e75532d-style.css"
                },
                {
                 "name": null,
                 "type": "css",
                 "url": "/assetserver/b8b35cfec9fafa23715d6e09ffebcaf5cea653e2-bulma_confined.min.css"
                }
               ],
               "type": "async_block"
              },
              "mount_callbacks": [
               "function () {\n    var handler = (function (ko, koPunches) {\n    ko.punches.enableAll();\n    ko.bindingHandlers.numericValue = {\n        init: function(element, valueAccessor, allBindings, data, context) {\n            var stringified = ko.observable(ko.unwrap(valueAccessor()));\n            stringified.subscribe(function(value) {\n                var val = parseFloat(value);\n                if (!isNaN(val)) {\n                    valueAccessor()(val);\n                }\n            });\n            valueAccessor().subscribe(function(value) {\n                var str = JSON.stringify(value);\n                if ((str == \"0\") && ([\"-0\", \"-0.\"].indexOf(stringified()) >= 0))\n                     return;\n                 if ([\"null\", \"\"].indexOf(str) >= 0)\n                     return;\n                stringified(str);\n            });\n            ko.applyBindingsToNode(\n                element,\n                {\n                    value: stringified,\n                    valueUpdate: allBindings.get('valueUpdate'),\n                },\n                context,\n            );\n        }\n    };\n    var json_data = {\"loading\":WebIO.getval({\"name\":\"loading\",\"scope\":\"5034710053233273931\",\"id\":\"ob_05\",\"type\":\"observable\"}),\"clicks\":WebIO.getval({\"name\":\"clicks\",\"scope\":\"5034710053233273931\",\"id\":\"ob_04\",\"type\":\"observable\"})};\n    var self = this;\n    function AppViewModel() {\n        for (var key in json_data) {\n            var el = json_data[key];\n            this[key] = Array.isArray(el) ? ko.observableArray(el) : ko.observable(el);\n        }\n        \n        \n        [this[\"loading\"].subscribe((function (val){!(this.valueFromJulia[\"loading\"]) ? (WebIO.setval({\"name\":\"loading\",\"scope\":\"5034710053233273931\",\"id\":\"ob_05\",\"type\":\"observable\"},val)) : undefined; return this.valueFromJulia[\"loading\"]=false}),self),this[\"clicks\"].subscribe((function (val){!(this.valueFromJulia[\"clicks\"]) ? (WebIO.setval({\"name\":\"clicks\",\"scope\":\"5034710053233273931\",\"id\":\"ob_04\",\"type\":\"observable\"},val)) : undefined; return this.valueFromJulia[\"clicks\"]=false}),self)]\n        \n    }\n    self.model = new AppViewModel();\n    self.valueFromJulia = {};\n    for (var key in json_data) {\n        self.valueFromJulia[key] = false;\n    }\n    ko.applyBindings(self.model, self.dom);\n}\n);\n    (WebIO.importBlock({\"data\":[{\"name\":\"knockout\",\"type\":\"js\",\"url\":\"/assetserver/e5e1f43edad328051d4419005d904d35dfa6e184-knockout.js\"},{\"name\":\"knockout_punches\",\"type\":\"js\",\"url\":\"/assetserver/eb91775159288ba25efa24f3eb9afd64db5b259f-knockout_punches.js\"}],\"type\":\"async_block\"})).then((imports) => handler.apply(this, imports));\n}\n"
              ],
              "observables": {
               "clicks": {
                "id": "ob_04",
                "sync": true,
                "value": 0
               },
               "loading": {
                "id": "ob_05",
                "sync": false,
                "value": false
               }
              },
              "systemjs_options": null
             },
             "nodeType": "Scope",
             "props": {},
             "type": "node"
            }
           ],
           "instanceArgs": {
            "namespace": "html",
            "tag": "div"
           },
           "nodeType": "DOM",
           "props": {
            "className": "field interact-widget"
           },
           "type": "node"
          },
          {
           "children": [
            {
             "children": [],
             "instanceArgs": {
              "id": "ob_13",
              "name": "obs-node"
             },
             "nodeType": "ObservableNode",
             "props": {},
             "type": "node"
            }
           ],
           "instanceArgs": {
            "handlers": {},
            "id": "9710046707306062652",
            "imports": {
             "data": [],
             "type": "async_block"
            },
            "mount_callbacks": [],
            "observables": {
             "obs-node": {
              "id": "ob_13",
              "sync": false,
              "value": {
               "children": [
                "5"
               ],
               "instanceArgs": {
                "namespace": "html",
                "tag": "label"
               },
               "nodeType": "DOM",
               "props": {
                "className": "interact ",
                "style": {
                 "padding": "5px 10px 0px 10px"
                }
               },
               "type": "node"
              }
             }
            },
            "systemjs_options": null
           },
           "nodeType": "Scope",
           "props": {},
           "type": "node"
          },
          {
           "children": [
            {
             "children": [
              {
               "children": [
                "+"
               ],
               "instanceArgs": {
                "namespace": "html",
                "tag": "button"
               },
               "nodeType": "DOM",
               "props": {
                "attributes": {
                 "data-bind": "click: function (){this.clicks(this.clicks()+1)}, css: {'is-loading' : loading}"
                },
                "className": "is-medium button is-primary",
                "style": {}
               },
               "type": "node"
              }
             ],
             "instanceArgs": {
              "handlers": {
               "clicks": [
                "(function (val){return (val!=this.model[\"clicks\"]()) ? (this.valueFromJulia[\"clicks\"]=true, this.model[\"clicks\"](val)) : undefined})"
               ],
               "loading": [
                "(function (val){return (val!=this.model[\"loading\"]()) ? (this.valueFromJulia[\"loading\"]=true, this.model[\"loading\"](val)) : undefined})"
               ]
              },
              "id": "13879282475702659210",
              "imports": {
               "data": [
                {
                 "name": "knockout",
                 "type": "js",
                 "url": "/assetserver/e5e1f43edad328051d4419005d904d35dfa6e184-knockout.js"
                },
                {
                 "name": "knockout_punches",
                 "type": "js",
                 "url": "/assetserver/eb91775159288ba25efa24f3eb9afd64db5b259f-knockout_punches.js"
                },
                {
                 "name": null,
                 "type": "js",
                 "url": "/assetserver/3677f5bfba1bb9b5d3d654c444d203b8d7654688-all.js"
                },
                {
                 "name": null,
                 "type": "css",
                 "url": "/assetserver/99779f8518149d0f01ef86c2106871126e75532d-style.css"
                },
                {
                 "name": null,
                 "type": "css",
                 "url": "/assetserver/b8b35cfec9fafa23715d6e09ffebcaf5cea653e2-bulma_confined.min.css"
                }
               ],
               "type": "async_block"
              },
              "mount_callbacks": [
               "function () {\n    var handler = (function (ko, koPunches) {\n    ko.punches.enableAll();\n    ko.bindingHandlers.numericValue = {\n        init: function(element, valueAccessor, allBindings, data, context) {\n            var stringified = ko.observable(ko.unwrap(valueAccessor()));\n            stringified.subscribe(function(value) {\n                var val = parseFloat(value);\n                if (!isNaN(val)) {\n                    valueAccessor()(val);\n                }\n            });\n            valueAccessor().subscribe(function(value) {\n                var str = JSON.stringify(value);\n                if ((str == \"0\") && ([\"-0\", \"-0.\"].indexOf(stringified()) >= 0))\n                     return;\n                 if ([\"null\", \"\"].indexOf(str) >= 0)\n                     return;\n                stringified(str);\n            });\n            ko.applyBindingsToNode(\n                element,\n                {\n                    value: stringified,\n                    valueUpdate: allBindings.get('valueUpdate'),\n                },\n                context,\n            );\n        }\n    };\n    var json_data = {\"loading\":WebIO.getval({\"name\":\"loading\",\"scope\":\"13879282475702659210\",\"id\":\"ob_03\",\"type\":\"observable\"}),\"clicks\":WebIO.getval({\"name\":\"clicks\",\"scope\":\"13879282475702659210\",\"id\":\"ob_02\",\"type\":\"observable\"})};\n    var self = this;\n    function AppViewModel() {\n        for (var key in json_data) {\n            var el = json_data[key];\n            this[key] = Array.isArray(el) ? ko.observableArray(el) : ko.observable(el);\n        }\n        \n        \n        [this[\"loading\"].subscribe((function (val){!(this.valueFromJulia[\"loading\"]) ? (WebIO.setval({\"name\":\"loading\",\"scope\":\"13879282475702659210\",\"id\":\"ob_03\",\"type\":\"observable\"},val)) : undefined; return this.valueFromJulia[\"loading\"]=false}),self),this[\"clicks\"].subscribe((function (val){!(this.valueFromJulia[\"clicks\"]) ? (WebIO.setval({\"name\":\"clicks\",\"scope\":\"13879282475702659210\",\"id\":\"ob_02\",\"type\":\"observable\"},val)) : undefined; return this.valueFromJulia[\"clicks\"]=false}),self)]\n        \n    }\n    self.model = new AppViewModel();\n    self.valueFromJulia = {};\n    for (var key in json_data) {\n        self.valueFromJulia[key] = false;\n    }\n    ko.applyBindings(self.model, self.dom);\n}\n);\n    (WebIO.importBlock({\"data\":[{\"name\":\"knockout\",\"type\":\"js\",\"url\":\"/assetserver/e5e1f43edad328051d4419005d904d35dfa6e184-knockout.js\"},{\"name\":\"knockout_punches\",\"type\":\"js\",\"url\":\"/assetserver/eb91775159288ba25efa24f3eb9afd64db5b259f-knockout_punches.js\"}],\"type\":\"async_block\"})).then((imports) => handler.apply(this, imports));\n}\n"
              ],
              "observables": {
               "clicks": {
                "id": "ob_02",
                "sync": true,
                "value": 0
               },
               "loading": {
                "id": "ob_03",
                "sync": false,
                "value": false
               }
              },
              "systemjs_options": null
             },
             "nodeType": "Scope",
             "props": {},
             "type": "node"
            }
           ],
           "instanceArgs": {
            "namespace": "html",
            "tag": "div"
           },
           "nodeType": "DOM",
           "props": {
            "className": "field interact-widget"
           },
           "type": "node"
          },
          {
           "children": [
            {
             "children": [
              {
               "children": [
                "+10"
               ],
               "instanceArgs": {
                "namespace": "html",
                "tag": "button"
               },
               "nodeType": "DOM",
               "props": {
                "attributes": {
                 "data-bind": "click: function (){this.clicks(this.clicks()+1)}, css: {'is-loading' : loading}"
                },
                "className": "is-medium button is-primary",
                "style": {}
               },
               "type": "node"
              }
             ],
             "instanceArgs": {
              "handlers": {
               "clicks": [
                "(function (val){return (val!=this.model[\"clicks\"]()) ? (this.valueFromJulia[\"clicks\"]=true, this.model[\"clicks\"](val)) : undefined})"
               ],
               "loading": [
                "(function (val){return (val!=this.model[\"loading\"]()) ? (this.valueFromJulia[\"loading\"]=true, this.model[\"loading\"](val)) : undefined})"
               ]
              },
              "id": "4966617545053428194",
              "imports": {
               "data": [
                {
                 "name": "knockout",
                 "type": "js",
                 "url": "/assetserver/e5e1f43edad328051d4419005d904d35dfa6e184-knockout.js"
                },
                {
                 "name": "knockout_punches",
                 "type": "js",
                 "url": "/assetserver/eb91775159288ba25efa24f3eb9afd64db5b259f-knockout_punches.js"
                },
                {
                 "name": null,
                 "type": "js",
                 "url": "/assetserver/3677f5bfba1bb9b5d3d654c444d203b8d7654688-all.js"
                },
                {
                 "name": null,
                 "type": "css",
                 "url": "/assetserver/99779f8518149d0f01ef86c2106871126e75532d-style.css"
                },
                {
                 "name": null,
                 "type": "css",
                 "url": "/assetserver/b8b35cfec9fafa23715d6e09ffebcaf5cea653e2-bulma_confined.min.css"
                }
               ],
               "type": "async_block"
              },
              "mount_callbacks": [
               "function () {\n    var handler = (function (ko, koPunches) {\n    ko.punches.enableAll();\n    ko.bindingHandlers.numericValue = {\n        init: function(element, valueAccessor, allBindings, data, context) {\n            var stringified = ko.observable(ko.unwrap(valueAccessor()));\n            stringified.subscribe(function(value) {\n                var val = parseFloat(value);\n                if (!isNaN(val)) {\n                    valueAccessor()(val);\n                }\n            });\n            valueAccessor().subscribe(function(value) {\n                var str = JSON.stringify(value);\n                if ((str == \"0\") && ([\"-0\", \"-0.\"].indexOf(stringified()) >= 0))\n                     return;\n                 if ([\"null\", \"\"].indexOf(str) >= 0)\n                     return;\n                stringified(str);\n            });\n            ko.applyBindingsToNode(\n                element,\n                {\n                    value: stringified,\n                    valueUpdate: allBindings.get('valueUpdate'),\n                },\n                context,\n            );\n        }\n    };\n    var json_data = {\"loading\":WebIO.getval({\"name\":\"loading\",\"scope\":\"4966617545053428194\",\"id\":\"ob_07\",\"type\":\"observable\"}),\"clicks\":WebIO.getval({\"name\":\"clicks\",\"scope\":\"4966617545053428194\",\"id\":\"ob_06\",\"type\":\"observable\"})};\n    var self = this;\n    function AppViewModel() {\n        for (var key in json_data) {\n            var el = json_data[key];\n            this[key] = Array.isArray(el) ? ko.observableArray(el) : ko.observable(el);\n        }\n        \n        \n        [this[\"loading\"].subscribe((function (val){!(this.valueFromJulia[\"loading\"]) ? (WebIO.setval({\"name\":\"loading\",\"scope\":\"4966617545053428194\",\"id\":\"ob_07\",\"type\":\"observable\"},val)) : undefined; return this.valueFromJulia[\"loading\"]=false}),self),this[\"clicks\"].subscribe((function (val){!(this.valueFromJulia[\"clicks\"]) ? (WebIO.setval({\"name\":\"clicks\",\"scope\":\"4966617545053428194\",\"id\":\"ob_06\",\"type\":\"observable\"},val)) : undefined; return this.valueFromJulia[\"clicks\"]=false}),self)]\n        \n    }\n    self.model = new AppViewModel();\n    self.valueFromJulia = {};\n    for (var key in json_data) {\n        self.valueFromJulia[key] = false;\n    }\n    ko.applyBindings(self.model, self.dom);\n}\n);\n    (WebIO.importBlock({\"data\":[{\"name\":\"knockout\",\"type\":\"js\",\"url\":\"/assetserver/e5e1f43edad328051d4419005d904d35dfa6e184-knockout.js\"},{\"name\":\"knockout_punches\",\"type\":\"js\",\"url\":\"/assetserver/eb91775159288ba25efa24f3eb9afd64db5b259f-knockout_punches.js\"}],\"type\":\"async_block\"})).then((imports) => handler.apply(this, imports));\n}\n"
              ],
              "observables": {
               "clicks": {
                "id": "ob_06",
                "sync": true,
                "value": 0
               },
               "loading": {
                "id": "ob_07",
                "sync": false,
                "value": false
               }
              },
              "systemjs_options": null
             },
             "nodeType": "Scope",
             "props": {},
             "type": "node"
            }
           ],
           "instanceArgs": {
            "namespace": "html",
            "tag": "div"
           },
           "nodeType": "DOM",
           "props": {
            "className": "field interact-widget"
           },
           "type": "node"
          },
          {
           "children": [
            {
             "children": [
              {
               "children": [
                "Start"
               ],
               "instanceArgs": {
                "namespace": "html",
                "tag": "button"
               },
               "nodeType": "DOM",
               "props": {
                "attributes": {
                 "data-bind": "click: function (){this.clicks(this.clicks()+1)}, css: {'is-loading' : loading}"
                },
                "className": "is-medium button is-primary",
                "style": {}
               },
               "type": "node"
              }
             ],
             "instanceArgs": {
              "handlers": {
               "clicks": [
                "(function (val){return (val!=this.model[\"clicks\"]()) ? (this.valueFromJulia[\"clicks\"]=true, this.model[\"clicks\"](val)) : undefined})"
               ],
               "loading": [
                "(function (val){return (val!=this.model[\"loading\"]()) ? (this.valueFromJulia[\"loading\"]=true, this.model[\"loading\"](val)) : undefined})"
               ]
              },
              "id": "14059900930175318155",
              "imports": {
               "data": [
                {
                 "name": "knockout",
                 "type": "js",
                 "url": "/assetserver/e5e1f43edad328051d4419005d904d35dfa6e184-knockout.js"
                },
                {
                 "name": "knockout_punches",
                 "type": "js",
                 "url": "/assetserver/eb91775159288ba25efa24f3eb9afd64db5b259f-knockout_punches.js"
                },
                {
                 "name": null,
                 "type": "js",
                 "url": "/assetserver/3677f5bfba1bb9b5d3d654c444d203b8d7654688-all.js"
                },
                {
                 "name": null,
                 "type": "css",
                 "url": "/assetserver/99779f8518149d0f01ef86c2106871126e75532d-style.css"
                },
                {
                 "name": null,
                 "type": "css",
                 "url": "/assetserver/b8b35cfec9fafa23715d6e09ffebcaf5cea653e2-bulma_confined.min.css"
                }
               ],
               "type": "async_block"
              },
              "mount_callbacks": [
               "function () {\n    var handler = (function (ko, koPunches) {\n    ko.punches.enableAll();\n    ko.bindingHandlers.numericValue = {\n        init: function(element, valueAccessor, allBindings, data, context) {\n            var stringified = ko.observable(ko.unwrap(valueAccessor()));\n            stringified.subscribe(function(value) {\n                var val = parseFloat(value);\n                if (!isNaN(val)) {\n                    valueAccessor()(val);\n                }\n            });\n            valueAccessor().subscribe(function(value) {\n                var str = JSON.stringify(value);\n                if ((str == \"0\") && ([\"-0\", \"-0.\"].indexOf(stringified()) >= 0))\n                     return;\n                 if ([\"null\", \"\"].indexOf(str) >= 0)\n                     return;\n                stringified(str);\n            });\n            ko.applyBindingsToNode(\n                element,\n                {\n                    value: stringified,\n                    valueUpdate: allBindings.get('valueUpdate'),\n                },\n                context,\n            );\n        }\n    };\n    var json_data = {\"loading\":WebIO.getval({\"name\":\"loading\",\"scope\":\"14059900930175318155\",\"id\":\"ob_12\",\"type\":\"observable\"}),\"clicks\":WebIO.getval({\"name\":\"clicks\",\"scope\":\"14059900930175318155\",\"id\":\"ob_11\",\"type\":\"observable\"})};\n    var self = this;\n    function AppViewModel() {\n        for (var key in json_data) {\n            var el = json_data[key];\n            this[key] = Array.isArray(el) ? ko.observableArray(el) : ko.observable(el);\n        }\n        \n        \n        [this[\"loading\"].subscribe((function (val){!(this.valueFromJulia[\"loading\"]) ? (WebIO.setval({\"name\":\"loading\",\"scope\":\"14059900930175318155\",\"id\":\"ob_12\",\"type\":\"observable\"},val)) : undefined; return this.valueFromJulia[\"loading\"]=false}),self),this[\"clicks\"].subscribe((function (val){!(this.valueFromJulia[\"clicks\"]) ? (WebIO.setval({\"name\":\"clicks\",\"scope\":\"14059900930175318155\",\"id\":\"ob_11\",\"type\":\"observable\"},val)) : undefined; return this.valueFromJulia[\"clicks\"]=false}),self)]\n        \n    }\n    self.model = new AppViewModel();\n    self.valueFromJulia = {};\n    for (var key in json_data) {\n        self.valueFromJulia[key] = false;\n    }\n    ko.applyBindings(self.model, self.dom);\n}\n);\n    (WebIO.importBlock({\"data\":[{\"name\":\"knockout\",\"type\":\"js\",\"url\":\"/assetserver/e5e1f43edad328051d4419005d904d35dfa6e184-knockout.js\"},{\"name\":\"knockout_punches\",\"type\":\"js\",\"url\":\"/assetserver/eb91775159288ba25efa24f3eb9afd64db5b259f-knockout_punches.js\"}],\"type\":\"async_block\"})).then((imports) => handler.apply(this, imports));\n}\n"
              ],
              "observables": {
               "clicks": {
                "id": "ob_11",
                "sync": true,
                "value": 0
               },
               "loading": {
                "id": "ob_12",
                "sync": false,
                "value": false
               }
              },
              "systemjs_options": null
             },
             "nodeType": "Scope",
             "props": {},
             "type": "node"
            }
           ],
           "instanceArgs": {
            "namespace": "html",
            "tag": "div"
           },
           "nodeType": "DOM",
           "props": {
            "className": "field interact-widget"
           },
           "type": "node"
          }
         ],
         "instanceArgs": {
          "namespace": "html",
          "tag": "div"
         },
         "nodeType": "DOM",
         "props": {
          "style": {
           "display": "flex",
           "flex-direction": "row"
          }
         },
         "type": "node"
        },
        {
         "children": [
          {
           "children": [],
           "instanceArgs": {
            "namespace": "html",
            "tag": "div"
           },
           "nodeType": "DOM",
           "props": {
            "className": "webio-observable",
            "setInnerHtml": "<?xml version=\"1.0\" encoding=\"utf-8\"?>\n<svg xmlns=\"http://www.w3.org/2000/svg\" xmlns:xlink=\"http://www.w3.org/1999/xlink\" width=\"600\" height=\"400\" viewBox=\"0 0 2400 1600\">\n<defs>\n  <clipPath id=\"clip4400\">\n    <rect x=\"0\" y=\"0\" width=\"2400\" height=\"1600\"/>\n  </clipPath>\n</defs>\n<polygon clip-path=\"url(#clip4400)\" points=\"\n0,1600 2400,1600 2400,0 0,0 \n  \" fill=\"#ffffff\" fill-rule=\"evenodd\" fill-opacity=\"1\"/>\n<defs>\n  <clipPath id=\"clip4401\">\n    <rect x=\"480\" y=\"0\" width=\"1681\" height=\"1600\"/>\n  </clipPath>\n</defs>\n<polygon clip-path=\"url(#clip4400)\" points=\"\n689.544,1487.47 1845.22,1487.47 1845.22,121.675 689.544,121.675 \n  \" fill=\"#ffffff\" fill-rule=\"evenodd\" fill-opacity=\"1\"/>\n<defs>\n  <clipPath id=\"clip4402\">\n    <rect x=\"689\" y=\"121\" width=\"1157\" height=\"1367\"/>\n  </clipPath>\n</defs>\n<g clip-path=\"url(#clip4400)\">\n<text style=\"fill:#000000; fill-opacity:1; font-family:Arial,Helvetica Neue,Helvetica,sans-serif; font-size:84px; text-anchor:middle;\" transform=\"rotate(0, 1267.38, 73.2)\" x=\"1267.38\" y=\"73.2\">0 [s]</text>\n</g>\n<polyline clip-path=\"url(#clip4402)\" style=\"stroke:#000000; stroke-width:16; stroke-opacity:0.5; fill:none\" points=\"\n  1267.38,909.636 1267.38,384.329 \n  \"/>\n<polyline clip-path=\"url(#clip4402)\" style=\"stroke:#000000; stroke-width:16; stroke-opacity:0.5; fill:none\" points=\"\n  1249.38,420.329 1267.38,384.329 1285.38,420.329 \n  \"/>\n<polyline clip-path=\"url(#clip4402)\" style=\"stroke:#000000; stroke-width:16; stroke-opacity:0.5; fill:none\" points=\"\n  1267.38,384.329 1267.38,909.636 \n  \"/>\n<polyline clip-path=\"url(#clip4402)\" style=\"stroke:#000000; stroke-width:4; stroke-opacity:1; fill:none\" points=\"\n  1267.38,436.86 1267.38,331.798 \n  \"/>\n<polyline clip-path=\"url(#clip4402)\" style=\"stroke:#000000; stroke-width:4; stroke-opacity:1; fill:none\" points=\"\n  1319.55,413.328 1325.04,361.085 \n  \"/>\n<polyline clip-path=\"url(#clip4402)\" style=\"stroke:#000000; stroke-width:4; stroke-opacity:1; fill:none\" points=\"\n  1371.14,421.5 1382.06,370.117 \n  \"/>\n<polyline clip-path=\"url(#clip4402)\" style=\"stroke:#000000; stroke-width:4; stroke-opacity:1; fill:none\" points=\"\n  1421.59,435.019 1437.83,385.059 \n  \"/>\n<polyline clip-path=\"url(#clip4402)\" style=\"stroke:#000000; stroke-width:4; stroke-opacity:1; fill:none\" points=\"\n  1470.36,453.739 1491.73,405.75 \n  \"/>\n<polyline clip-path=\"url(#clip4402)\" style=\"stroke:#000000; stroke-width:4; stroke-opacity:1; fill:none\" points=\"\n  1503.77,500.2 1556.3,409.214 \n  \"/>\n<polyline clip-path=\"url(#clip4402)\" style=\"stroke:#000000; stroke-width:4; stroke-opacity:1; fill:none\" points=\"\n  1560.71,505.903 1591.59,463.405 \n  \"/>\n<polyline clip-path=\"url(#clip4402)\" style=\"stroke:#000000; stroke-width:4; stroke-opacity:1; fill:none\" points=\"\n  1601.31,538.776 1636.46,499.738 \n  \"/>\n<polyline clip-path=\"url(#clip4402)\" style=\"stroke:#000000; stroke-width:4; stroke-opacity:1; fill:none\" points=\"\n  1638.24,575.712 1677.28,540.562 \n  \"/>\n<polyline clip-path=\"url(#clip4402)\" style=\"stroke:#000000; stroke-width:4; stroke-opacity:1; fill:none\" points=\"\n  1671.12,616.307 1713.61,585.43 \n  \"/>\n<polyline clip-path=\"url(#clip4402)\" style=\"stroke:#000000; stroke-width:4; stroke-opacity:1; fill:none\" points=\"\n  1676.82,673.248 1767.8,620.717 \n  \"/>\n<polyline clip-path=\"url(#clip4402)\" style=\"stroke:#000000; stroke-width:4; stroke-opacity:1; fill:none\" points=\"\n  1723.28,706.658 1771.27,685.292 \n  \"/>\n<polyline clip-path=\"url(#clip4402)\" style=\"stroke:#000000; stroke-width:4; stroke-opacity:1; fill:none\" points=\"\n  1742,755.424 1791.96,739.191 \n  \"/>\n<polyline clip-path=\"url(#clip4402)\" style=\"stroke:#000000; stroke-width:4; stroke-opacity:1; fill:none\" points=\"\n  1755.52,805.88 1806.9,794.958 \n  \"/>\n<polyline clip-path=\"url(#clip4402)\" style=\"stroke:#000000; stroke-width:4; stroke-opacity:1; fill:none\" points=\"\n  1763.69,857.472 1815.93,851.981 \n  \"/>\n<polyline clip-path=\"url(#clip4402)\" style=\"stroke:#000000; stroke-width:4; stroke-opacity:1; fill:none\" points=\"\n  1740.16,909.636 1845.22,909.636 \n  \"/>\n<polyline clip-path=\"url(#clip4402)\" style=\"stroke:#000000; stroke-width:4; stroke-opacity:1; fill:none\" points=\"\n  1763.69,961.801 1815.93,967.292 \n  \"/>\n<polyline clip-path=\"url(#clip4402)\" style=\"stroke:#000000; stroke-width:4; stroke-opacity:1; fill:none\" points=\"\n  1755.52,1013.39 1806.9,1024.31 \n  \"/>\n<polyline clip-path=\"url(#clip4402)\" style=\"stroke:#000000; stroke-width:4; stroke-opacity:1; fill:none\" points=\"\n  1742,1063.85 1791.96,1080.08 \n  \"/>\n<polyline clip-path=\"url(#clip4402)\" style=\"stroke:#000000; stroke-width:4; stroke-opacity:1; fill:none\" points=\"\n  1723.28,1112.62 1771.27,1133.98 \n  \"/>\n<polyline clip-path=\"url(#clip4402)\" style=\"stroke:#000000; stroke-width:4; stroke-opacity:1; fill:none\" points=\"\n  1676.82,1146.02 1767.8,1198.56 \n  \"/>\n<polyline clip-path=\"url(#clip4402)\" style=\"stroke:#000000; stroke-width:4; stroke-opacity:1; fill:none\" points=\"\n  1671.12,1202.97 1713.61,1233.84 \n  \"/>\n<polyline clip-path=\"url(#clip4402)\" style=\"stroke:#000000; stroke-width:4; stroke-opacity:1; fill:none\" points=\"\n  1638.24,1243.56 1677.28,1278.71 \n  \"/>\n<polyline clip-path=\"url(#clip4402)\" style=\"stroke:#000000; stroke-width:4; stroke-opacity:1; fill:none\" points=\"\n  1601.31,1280.5 1636.46,1319.53 \n  \"/>\n<polyline clip-path=\"url(#clip4402)\" style=\"stroke:#000000; stroke-width:4; stroke-opacity:1; fill:none\" points=\"\n  1560.71,1313.37 1591.59,1355.87 \n  \"/>\n<polyline clip-path=\"url(#clip4402)\" style=\"stroke:#000000; stroke-width:4; stroke-opacity:1; fill:none\" points=\"\n  1503.77,1319.07 1556.3,1410.06 \n  \"/>\n<polyline clip-path=\"url(#clip4402)\" style=\"stroke:#000000; stroke-width:4; stroke-opacity:1; fill:none\" points=\"\n  1470.36,1365.53 1491.73,1413.52 \n  \"/>\n<polyline clip-path=\"url(#clip4402)\" style=\"stroke:#000000; stroke-width:4; stroke-opacity:1; fill:none\" points=\"\n  1421.59,1384.25 1437.83,1434.21 \n  \"/>\n<polyline clip-path=\"url(#clip4402)\" style=\"stroke:#000000; stroke-width:4; stroke-opacity:1; fill:none\" points=\"\n  1371.14,1397.77 1382.06,1449.16 \n  \"/>\n<polyline clip-path=\"url(#clip4402)\" style=\"stroke:#000000; stroke-width:4; stroke-opacity:1; fill:none\" points=\"\n  1319.55,1405.94 1325.04,1458.19 \n  \"/>\n<polyline clip-path=\"url(#clip4402)\" style=\"stroke:#000000; stroke-width:4; stroke-opacity:1; fill:none\" points=\"\n  1267.38,1382.41 1267.38,1487.47 \n  \"/>\n<polyline clip-path=\"url(#clip4402)\" style=\"stroke:#000000; stroke-width:4; stroke-opacity:1; fill:none\" points=\"\n  1215.22,1405.94 1209.73,1458.19 \n  \"/>\n<polyline clip-path=\"url(#clip4402)\" style=\"stroke:#000000; stroke-width:4; stroke-opacity:1; fill:none\" points=\"\n  1163.63,1397.77 1152.7,1449.16 \n  \"/>\n<polyline clip-path=\"url(#clip4402)\" style=\"stroke:#000000; stroke-width:4; stroke-opacity:1; fill:none\" points=\"\n  1113.17,1384.25 1096.94,1434.21 \n  \"/>\n<polyline clip-path=\"url(#clip4402)\" style=\"stroke:#000000; stroke-width:4; stroke-opacity:1; fill:none\" points=\"\n  1064.4,1365.53 1043.04,1413.52 \n  \"/>\n<polyline clip-path=\"url(#clip4402)\" style=\"stroke:#000000; stroke-width:4; stroke-opacity:1; fill:none\" points=\"\n  1030.99,1319.07 978.463,1410.06 \n  \"/>\n<polyline clip-path=\"url(#clip4402)\" style=\"stroke:#000000; stroke-width:4; stroke-opacity:1; fill:none\" points=\"\n  974.052,1313.37 943.176,1355.87 \n  \"/>\n<polyline clip-path=\"url(#clip4402)\" style=\"stroke:#000000; stroke-width:4; stroke-opacity:1; fill:none\" points=\"\n  933.458,1280.5 898.308,1319.53 \n  \"/>\n<polyline clip-path=\"url(#clip4402)\" style=\"stroke:#000000; stroke-width:4; stroke-opacity:1; fill:none\" points=\"\n  896.521,1243.56 857.483,1278.71 \n  \"/>\n<polyline clip-path=\"url(#clip4402)\" style=\"stroke:#000000; stroke-width:4; stroke-opacity:1; fill:none\" points=\"\n  863.648,1202.97 821.15,1233.84 \n  \"/>\n<polyline clip-path=\"url(#clip4402)\" style=\"stroke:#000000; stroke-width:4; stroke-opacity:1; fill:none\" points=\"\n  857.945,1146.02 766.959,1198.56 \n  \"/>\n<polyline clip-path=\"url(#clip4402)\" style=\"stroke:#000000; stroke-width:4; stroke-opacity:1; fill:none\" points=\"\n  811.484,1112.62 763.495,1133.98 \n  \"/>\n<polyline clip-path=\"url(#clip4402)\" style=\"stroke:#000000; stroke-width:4; stroke-opacity:1; fill:none\" points=\"\n  792.765,1063.85 742.805,1080.08 \n  \"/>\n<polyline clip-path=\"url(#clip4402)\" style=\"stroke:#000000; stroke-width:4; stroke-opacity:1; fill:none\" points=\"\n  779.245,1013.39 727.862,1024.31 \n  \"/>\n<polyline clip-path=\"url(#clip4402)\" style=\"stroke:#000000; stroke-width:4; stroke-opacity:1; fill:none\" points=\"\n  771.074,961.801 718.831,967.292 \n  \"/>\n<polyline clip-path=\"url(#clip4402)\" style=\"stroke:#000000; stroke-width:4; stroke-opacity:1; fill:none\" points=\"\n  794.605,909.636 689.544,909.636 \n  \"/>\n<polyline clip-path=\"url(#clip4402)\" style=\"stroke:#000000; stroke-width:4; stroke-opacity:1; fill:none\" points=\"\n  771.074,857.472 718.831,851.981 \n  \"/>\n<polyline clip-path=\"url(#clip4402)\" style=\"stroke:#000000; stroke-width:4; stroke-opacity:1; fill:none\" points=\"\n  779.245,805.88 727.862,794.958 \n  \"/>\n<polyline clip-path=\"url(#clip4402)\" style=\"stroke:#000000; stroke-width:4; stroke-opacity:1; fill:none\" points=\"\n  792.765,755.424 742.805,739.191 \n  \"/>\n<polyline clip-path=\"url(#clip4402)\" style=\"stroke:#000000; stroke-width:4; stroke-opacity:1; fill:none\" points=\"\n  811.484,706.658 763.495,685.292 \n  \"/>\n<polyline clip-path=\"url(#clip4402)\" style=\"stroke:#000000; stroke-width:4; stroke-opacity:1; fill:none\" points=\"\n  857.945,673.248 766.959,620.717 \n  \"/>\n<polyline clip-path=\"url(#clip4402)\" style=\"stroke:#000000; stroke-width:4; stroke-opacity:1; fill:none\" points=\"\n  863.648,616.307 821.15,585.43 \n  \"/>\n<polyline clip-path=\"url(#clip4402)\" style=\"stroke:#000000; stroke-width:4; stroke-opacity:1; fill:none\" points=\"\n  896.521,575.712 857.483,540.562 \n  \"/>\n<polyline clip-path=\"url(#clip4402)\" style=\"stroke:#000000; stroke-width:4; stroke-opacity:1; fill:none\" points=\"\n  933.458,538.776 898.308,499.738 \n  \"/>\n<polyline clip-path=\"url(#clip4402)\" style=\"stroke:#000000; stroke-width:4; stroke-opacity:1; fill:none\" points=\"\n  974.052,505.903 943.176,463.405 \n  \"/>\n<polyline clip-path=\"url(#clip4402)\" style=\"stroke:#000000; stroke-width:4; stroke-opacity:1; fill:none\" points=\"\n  1030.99,500.2 978.463,409.214 \n  \"/>\n<polyline clip-path=\"url(#clip4402)\" style=\"stroke:#000000; stroke-width:4; stroke-opacity:1; fill:none\" points=\"\n  1064.4,453.739 1043.04,405.75 \n  \"/>\n<polyline clip-path=\"url(#clip4402)\" style=\"stroke:#000000; stroke-width:4; stroke-opacity:1; fill:none\" points=\"\n  1113.17,435.019 1096.94,385.059 \n  \"/>\n<polyline clip-path=\"url(#clip4402)\" style=\"stroke:#000000; stroke-width:4; stroke-opacity:1; fill:none\" points=\"\n  1163.63,421.5 1152.7,370.117 \n  \"/>\n<polyline clip-path=\"url(#clip4402)\" style=\"stroke:#000000; stroke-width:4; stroke-opacity:1; fill:none\" points=\"\n  1215.22,413.328 1209.73,361.085 \n  \"/>\n<g clip-path=\"url(#clip4400)\">\n<text style=\"fill:#000000; fill-opacity:1; font-family:Arial,Helvetica Neue,Helvetica,sans-serif; font-size:84px; text-anchor:middle;\" transform=\"rotate(0, 1267.38, 309.767)\" x=\"1267.38\" y=\"309.767\">0</text>\n</g>\n<g clip-path=\"url(#clip4400)\">\n<text style=\"fill:#000000; fill-opacity:1; font-family:Arial,Helvetica Neue,Helvetica,sans-serif; font-size:84px; text-anchor:middle;\" transform=\"rotate(0, 1582.57, 394.221)\" x=\"1582.57\" y=\"394.221\">5</text>\n</g>\n<g clip-path=\"url(#clip4400)\">\n<text style=\"fill:#000000; fill-opacity:1; font-family:Arial,Helvetica Neue,Helvetica,sans-serif; font-size:84px; text-anchor:middle;\" transform=\"rotate(0, 1813.3, 624.952)\" x=\"1813.3\" y=\"624.952\">10</text>\n</g>\n<g clip-path=\"url(#clip4400)\">\n<text style=\"fill:#000000; fill-opacity:1; font-family:Arial,Helvetica Neue,Helvetica,sans-serif; font-size:84px; text-anchor:middle;\" transform=\"rotate(0, 1897.75, 940.136)\" x=\"1897.75\" y=\"940.136\">15</text>\n</g>\n<g clip-path=\"url(#clip4400)\">\n<text style=\"fill:#000000; fill-opacity:1; font-family:Arial,Helvetica Neue,Helvetica,sans-serif; font-size:84px; text-anchor:middle;\" transform=\"rotate(0, 1813.3, 1255.32)\" x=\"1813.3\" y=\"1255.32\">20</text>\n</g>\n<g clip-path=\"url(#clip4400)\">\n<text style=\"fill:#000000; fill-opacity:1; font-family:Arial,Helvetica Neue,Helvetica,sans-serif; font-size:84px; text-anchor:middle;\" transform=\"rotate(0, 1582.57, 1486.05)\" x=\"1582.57\" y=\"1486.05\">25</text>\n</g>\n<g clip-path=\"url(#clip4400)\">\n<text style=\"fill:#000000; fill-opacity:1; font-family:Arial,Helvetica Neue,Helvetica,sans-serif; font-size:84px; text-anchor:middle;\" transform=\"rotate(0, 1267.38, 1570.51)\" x=\"1267.38\" y=\"1570.51\">30</text>\n</g>\n<g clip-path=\"url(#clip4400)\">\n<text style=\"fill:#000000; fill-opacity:1; font-family:Arial,Helvetica Neue,Helvetica,sans-serif; font-size:84px; text-anchor:middle;\" transform=\"rotate(0, 952.197, 1486.05)\" x=\"952.197\" y=\"1486.05\">35</text>\n</g>\n<g clip-path=\"url(#clip4400)\">\n<text style=\"fill:#000000; fill-opacity:1; font-family:Arial,Helvetica Neue,Helvetica,sans-serif; font-size:84px; text-anchor:middle;\" transform=\"rotate(0, 721.466, 1255.32)\" x=\"721.466\" y=\"1255.32\">40</text>\n</g>\n<g clip-path=\"url(#clip4400)\">\n<text style=\"fill:#000000; fill-opacity:1; font-family:Arial,Helvetica Neue,Helvetica,sans-serif; font-size:84px; text-anchor:middle;\" transform=\"rotate(0, 637.013, 940.136)\" x=\"637.013\" y=\"940.136\">45</text>\n</g>\n<g clip-path=\"url(#clip4400)\">\n<text style=\"fill:#000000; fill-opacity:1; font-family:Arial,Helvetica Neue,Helvetica,sans-serif; font-size:84px; text-anchor:middle;\" transform=\"rotate(0, 721.466, 624.952)\" x=\"721.466\" y=\"624.952\">50</text>\n</g>\n<g clip-path=\"url(#clip4400)\">\n<text style=\"fill:#000000; fill-opacity:1; font-family:Arial,Helvetica Neue,Helvetica,sans-serif; font-size:84px; text-anchor:middle;\" transform=\"rotate(0, 952.197, 394.221)\" x=\"952.197\" y=\"394.221\">55</text>\n</g>\n</svg>\n"
           },
           "type": "node"
          }
         ],
         "instanceArgs": {
          "handlers": {
           "obs-output": [
            "function (value, scope) {\n    scope.setInnerHTML(value);\n}\n"
           ]
          },
          "id": "13424025934201562203",
          "imports": {
           "data": [],
           "type": "async_block"
          },
          "mount_callbacks": [],
          "observables": {
           "obs-output": {
            "id": "ob_15",
            "sync": false,
            "value": "<?xml version=\"1.0\" encoding=\"utf-8\"?>\n<svg xmlns=\"http://www.w3.org/2000/svg\" xmlns:xlink=\"http://www.w3.org/1999/xlink\" width=\"600\" height=\"400\" viewBox=\"0 0 2400 1600\">\n<defs>\n  <clipPath id=\"clip4400\">\n    <rect x=\"0\" y=\"0\" width=\"2400\" height=\"1600\"/>\n  </clipPath>\n</defs>\n<polygon clip-path=\"url(#clip4400)\" points=\"\n0,1600 2400,1600 2400,0 0,0 \n  \" fill=\"#ffffff\" fill-rule=\"evenodd\" fill-opacity=\"1\"/>\n<defs>\n  <clipPath id=\"clip4401\">\n    <rect x=\"480\" y=\"0\" width=\"1681\" height=\"1600\"/>\n  </clipPath>\n</defs>\n<polygon clip-path=\"url(#clip4400)\" points=\"\n689.544,1487.47 1845.22,1487.47 1845.22,121.675 689.544,121.675 \n  \" fill=\"#ffffff\" fill-rule=\"evenodd\" fill-opacity=\"1\"/>\n<defs>\n  <clipPath id=\"clip4402\">\n    <rect x=\"689\" y=\"121\" width=\"1157\" height=\"1367\"/>\n  </clipPath>\n</defs>\n<g clip-path=\"url(#clip4400)\">\n<text style=\"fill:#000000; fill-opacity:1; font-family:Arial,Helvetica Neue,Helvetica,sans-serif; font-size:84px; text-anchor:middle;\" transform=\"rotate(0, 1267.38, 73.2)\" x=\"1267.38\" y=\"73.2\">0 [s]</text>\n</g>\n<polyline clip-path=\"url(#clip4402)\" style=\"stroke:#000000; stroke-width:16; stroke-opacity:0.5; fill:none\" points=\"\n  1267.38,909.636 1267.38,384.329 \n  \"/>\n<polyline clip-path=\"url(#clip4402)\" style=\"stroke:#000000; stroke-width:16; stroke-opacity:0.5; fill:none\" points=\"\n  1249.38,420.329 1267.38,384.329 1285.38,420.329 \n  \"/>\n<polyline clip-path=\"url(#clip4402)\" style=\"stroke:#000000; stroke-width:16; stroke-opacity:0.5; fill:none\" points=\"\n  1267.38,384.329 1267.38,909.636 \n  \"/>\n<polyline clip-path=\"url(#clip4402)\" style=\"stroke:#000000; stroke-width:4; stroke-opacity:1; fill:none\" points=\"\n  1267.38,436.86 1267.38,331.798 \n  \"/>\n<polyline clip-path=\"url(#clip4402)\" style=\"stroke:#000000; stroke-width:4; stroke-opacity:1; fill:none\" points=\"\n  1319.55,413.328 1325.04,361.085 \n  \"/>\n<polyline clip-path=\"url(#clip4402)\" style=\"stroke:#000000; stroke-width:4; stroke-opacity:1; fill:none\" points=\"\n  1371.14,421.5 1382.06,370.117 \n  \"/>\n<polyline clip-path=\"url(#clip4402)\" style=\"stroke:#000000; stroke-width:4; stroke-opacity:1; fill:none\" points=\"\n  1421.59,435.019 1437.83,385.059 \n  \"/>\n<polyline clip-path=\"url(#clip4402)\" style=\"stroke:#000000; stroke-width:4; stroke-opacity:1; fill:none\" points=\"\n  1470.36,453.739 1491.73,405.75 \n  \"/>\n<polyline clip-path=\"url(#clip4402)\" style=\"stroke:#000000; stroke-width:4; stroke-opacity:1; fill:none\" points=\"\n  1503.77,500.2 1556.3,409.214 \n  \"/>\n<polyline clip-path=\"url(#clip4402)\" style=\"stroke:#000000; stroke-width:4; stroke-opacity:1; fill:none\" points=\"\n  1560.71,505.903 1591.59,463.405 \n  \"/>\n<polyline clip-path=\"url(#clip4402)\" style=\"stroke:#000000; stroke-width:4; stroke-opacity:1; fill:none\" points=\"\n  1601.31,538.776 1636.46,499.738 \n  \"/>\n<polyline clip-path=\"url(#clip4402)\" style=\"stroke:#000000; stroke-width:4; stroke-opacity:1; fill:none\" points=\"\n  1638.24,575.712 1677.28,540.562 \n  \"/>\n<polyline clip-path=\"url(#clip4402)\" style=\"stroke:#000000; stroke-width:4; stroke-opacity:1; fill:none\" points=\"\n  1671.12,616.307 1713.61,585.43 \n  \"/>\n<polyline clip-path=\"url(#clip4402)\" style=\"stroke:#000000; stroke-width:4; stroke-opacity:1; fill:none\" points=\"\n  1676.82,673.248 1767.8,620.717 \n  \"/>\n<polyline clip-path=\"url(#clip4402)\" style=\"stroke:#000000; stroke-width:4; stroke-opacity:1; fill:none\" points=\"\n  1723.28,706.658 1771.27,685.292 \n  \"/>\n<polyline clip-path=\"url(#clip4402)\" style=\"stroke:#000000; stroke-width:4; stroke-opacity:1; fill:none\" points=\"\n  1742,755.424 1791.96,739.191 \n  \"/>\n<polyline clip-path=\"url(#clip4402)\" style=\"stroke:#000000; stroke-width:4; stroke-opacity:1; fill:none\" points=\"\n  1755.52,805.88 1806.9,794.958 \n  \"/>\n<polyline clip-path=\"url(#clip4402)\" style=\"stroke:#000000; stroke-width:4; stroke-opacity:1; fill:none\" points=\"\n  1763.69,857.472 1815.93,851.981 \n  \"/>\n<polyline clip-path=\"url(#clip4402)\" style=\"stroke:#000000; stroke-width:4; stroke-opacity:1; fill:none\" points=\"\n  1740.16,909.636 1845.22,909.636 \n  \"/>\n<polyline clip-path=\"url(#clip4402)\" style=\"stroke:#000000; stroke-width:4; stroke-opacity:1; fill:none\" points=\"\n  1763.69,961.801 1815.93,967.292 \n  \"/>\n<polyline clip-path=\"url(#clip4402)\" style=\"stroke:#000000; stroke-width:4; stroke-opacity:1; fill:none\" points=\"\n  1755.52,1013.39 1806.9,1024.31 \n  \"/>\n<polyline clip-path=\"url(#clip4402)\" style=\"stroke:#000000; stroke-width:4; stroke-opacity:1; fill:none\" points=\"\n  1742,1063.85 1791.96,1080.08 \n  \"/>\n<polyline clip-path=\"url(#clip4402)\" style=\"stroke:#000000; stroke-width:4; stroke-opacity:1; fill:none\" points=\"\n  1723.28,1112.62 1771.27,1133.98 \n  \"/>\n<polyline clip-path=\"url(#clip4402)\" style=\"stroke:#000000; stroke-width:4; stroke-opacity:1; fill:none\" points=\"\n  1676.82,1146.02 1767.8,1198.56 \n  \"/>\n<polyline clip-path=\"url(#clip4402)\" style=\"stroke:#000000; stroke-width:4; stroke-opacity:1; fill:none\" points=\"\n  1671.12,1202.97 1713.61,1233.84 \n  \"/>\n<polyline clip-path=\"url(#clip4402)\" style=\"stroke:#000000; stroke-width:4; stroke-opacity:1; fill:none\" points=\"\n  1638.24,1243.56 1677.28,1278.71 \n  \"/>\n<polyline clip-path=\"url(#clip4402)\" style=\"stroke:#000000; stroke-width:4; stroke-opacity:1; fill:none\" points=\"\n  1601.31,1280.5 1636.46,1319.53 \n  \"/>\n<polyline clip-path=\"url(#clip4402)\" style=\"stroke:#000000; stroke-width:4; stroke-opacity:1; fill:none\" points=\"\n  1560.71,1313.37 1591.59,1355.87 \n  \"/>\n<polyline clip-path=\"url(#clip4402)\" style=\"stroke:#000000; stroke-width:4; stroke-opacity:1; fill:none\" points=\"\n  1503.77,1319.07 1556.3,1410.06 \n  \"/>\n<polyline clip-path=\"url(#clip4402)\" style=\"stroke:#000000; stroke-width:4; stroke-opacity:1; fill:none\" points=\"\n  1470.36,1365.53 1491.73,1413.52 \n  \"/>\n<polyline clip-path=\"url(#clip4402)\" style=\"stroke:#000000; stroke-width:4; stroke-opacity:1; fill:none\" points=\"\n  1421.59,1384.25 1437.83,1434.21 \n  \"/>\n<polyline clip-path=\"url(#clip4402)\" style=\"stroke:#000000; stroke-width:4; stroke-opacity:1; fill:none\" points=\"\n  1371.14,1397.77 1382.06,1449.16 \n  \"/>\n<polyline clip-path=\"url(#clip4402)\" style=\"stroke:#000000; stroke-width:4; stroke-opacity:1; fill:none\" points=\"\n  1319.55,1405.94 1325.04,1458.19 \n  \"/>\n<polyline clip-path=\"url(#clip4402)\" style=\"stroke:#000000; stroke-width:4; stroke-opacity:1; fill:none\" points=\"\n  1267.38,1382.41 1267.38,1487.47 \n  \"/>\n<polyline clip-path=\"url(#clip4402)\" style=\"stroke:#000000; stroke-width:4; stroke-opacity:1; fill:none\" points=\"\n  1215.22,1405.94 1209.73,1458.19 \n  \"/>\n<polyline clip-path=\"url(#clip4402)\" style=\"stroke:#000000; stroke-width:4; stroke-opacity:1; fill:none\" points=\"\n  1163.63,1397.77 1152.7,1449.16 \n  \"/>\n<polyline clip-path=\"url(#clip4402)\" style=\"stroke:#000000; stroke-width:4; stroke-opacity:1; fill:none\" points=\"\n  1113.17,1384.25 1096.94,1434.21 \n  \"/>\n<polyline clip-path=\"url(#clip4402)\" style=\"stroke:#000000; stroke-width:4; stroke-opacity:1; fill:none\" points=\"\n  1064.4,1365.53 1043.04,1413.52 \n  \"/>\n<polyline clip-path=\"url(#clip4402)\" style=\"stroke:#000000; stroke-width:4; stroke-opacity:1; fill:none\" points=\"\n  1030.99,1319.07 978.463,1410.06 \n  \"/>\n<polyline clip-path=\"url(#clip4402)\" style=\"stroke:#000000; stroke-width:4; stroke-opacity:1; fill:none\" points=\"\n  974.052,1313.37 943.176,1355.87 \n  \"/>\n<polyline clip-path=\"url(#clip4402)\" style=\"stroke:#000000; stroke-width:4; stroke-opacity:1; fill:none\" points=\"\n  933.458,1280.5 898.308,1319.53 \n  \"/>\n<polyline clip-path=\"url(#clip4402)\" style=\"stroke:#000000; stroke-width:4; stroke-opacity:1; fill:none\" points=\"\n  896.521,1243.56 857.483,1278.71 \n  \"/>\n<polyline clip-path=\"url(#clip4402)\" style=\"stroke:#000000; stroke-width:4; stroke-opacity:1; fill:none\" points=\"\n  863.648,1202.97 821.15,1233.84 \n  \"/>\n<polyline clip-path=\"url(#clip4402)\" style=\"stroke:#000000; stroke-width:4; stroke-opacity:1; fill:none\" points=\"\n  857.945,1146.02 766.959,1198.56 \n  \"/>\n<polyline clip-path=\"url(#clip4402)\" style=\"stroke:#000000; stroke-width:4; stroke-opacity:1; fill:none\" points=\"\n  811.484,1112.62 763.495,1133.98 \n  \"/>\n<polyline clip-path=\"url(#clip4402)\" style=\"stroke:#000000; stroke-width:4; stroke-opacity:1; fill:none\" points=\"\n  792.765,1063.85 742.805,1080.08 \n  \"/>\n<polyline clip-path=\"url(#clip4402)\" style=\"stroke:#000000; stroke-width:4; stroke-opacity:1; fill:none\" points=\"\n  779.245,1013.39 727.862,1024.31 \n  \"/>\n<polyline clip-path=\"url(#clip4402)\" style=\"stroke:#000000; stroke-width:4; stroke-opacity:1; fill:none\" points=\"\n  771.074,961.801 718.831,967.292 \n  \"/>\n<polyline clip-path=\"url(#clip4402)\" style=\"stroke:#000000; stroke-width:4; stroke-opacity:1; fill:none\" points=\"\n  794.605,909.636 689.544,909.636 \n  \"/>\n<polyline clip-path=\"url(#clip4402)\" style=\"stroke:#000000; stroke-width:4; stroke-opacity:1; fill:none\" points=\"\n  771.074,857.472 718.831,851.981 \n  \"/>\n<polyline clip-path=\"url(#clip4402)\" style=\"stroke:#000000; stroke-width:4; stroke-opacity:1; fill:none\" points=\"\n  779.245,805.88 727.862,794.958 \n  \"/>\n<polyline clip-path=\"url(#clip4402)\" style=\"stroke:#000000; stroke-width:4; stroke-opacity:1; fill:none\" points=\"\n  792.765,755.424 742.805,739.191 \n  \"/>\n<polyline clip-path=\"url(#clip4402)\" style=\"stroke:#000000; stroke-width:4; stroke-opacity:1; fill:none\" points=\"\n  811.484,706.658 763.495,685.292 \n  \"/>\n<polyline clip-path=\"url(#clip4402)\" style=\"stroke:#000000; stroke-width:4; stroke-opacity:1; fill:none\" points=\"\n  857.945,673.248 766.959,620.717 \n  \"/>\n<polyline clip-path=\"url(#clip4402)\" style=\"stroke:#000000; stroke-width:4; stroke-opacity:1; fill:none\" points=\"\n  863.648,616.307 821.15,585.43 \n  \"/>\n<polyline clip-path=\"url(#clip4402)\" style=\"stroke:#000000; stroke-width:4; stroke-opacity:1; fill:none\" points=\"\n  896.521,575.712 857.483,540.562 \n  \"/>\n<polyline clip-path=\"url(#clip4402)\" style=\"stroke:#000000; stroke-width:4; stroke-opacity:1; fill:none\" points=\"\n  933.458,538.776 898.308,499.738 \n  \"/>\n<polyline clip-path=\"url(#clip4402)\" style=\"stroke:#000000; stroke-width:4; stroke-opacity:1; fill:none\" points=\"\n  974.052,505.903 943.176,463.405 \n  \"/>\n<polyline clip-path=\"url(#clip4402)\" style=\"stroke:#000000; stroke-width:4; stroke-opacity:1; fill:none\" points=\"\n  1030.99,500.2 978.463,409.214 \n  \"/>\n<polyline clip-path=\"url(#clip4402)\" style=\"stroke:#000000; stroke-width:4; stroke-opacity:1; fill:none\" points=\"\n  1064.4,453.739 1043.04,405.75 \n  \"/>\n<polyline clip-path=\"url(#clip4402)\" style=\"stroke:#000000; stroke-width:4; stroke-opacity:1; fill:none\" points=\"\n  1113.17,435.019 1096.94,385.059 \n  \"/>\n<polyline clip-path=\"url(#clip4402)\" style=\"stroke:#000000; stroke-width:4; stroke-opacity:1; fill:none\" points=\"\n  1163.63,421.5 1152.7,370.117 \n  \"/>\n<polyline clip-path=\"url(#clip4402)\" style=\"stroke:#000000; stroke-width:4; stroke-opacity:1; fill:none\" points=\"\n  1215.22,413.328 1209.73,361.085 \n  \"/>\n<g clip-path=\"url(#clip4400)\">\n<text style=\"fill:#000000; fill-opacity:1; font-family:Arial,Helvetica Neue,Helvetica,sans-serif; font-size:84px; text-anchor:middle;\" transform=\"rotate(0, 1267.38, 309.767)\" x=\"1267.38\" y=\"309.767\">0</text>\n</g>\n<g clip-path=\"url(#clip4400)\">\n<text style=\"fill:#000000; fill-opacity:1; font-family:Arial,Helvetica Neue,Helvetica,sans-serif; font-size:84px; text-anchor:middle;\" transform=\"rotate(0, 1582.57, 394.221)\" x=\"1582.57\" y=\"394.221\">5</text>\n</g>\n<g clip-path=\"url(#clip4400)\">\n<text style=\"fill:#000000; fill-opacity:1; font-family:Arial,Helvetica Neue,Helvetica,sans-serif; font-size:84px; text-anchor:middle;\" transform=\"rotate(0, 1813.3, 624.952)\" x=\"1813.3\" y=\"624.952\">10</text>\n</g>\n<g clip-path=\"url(#clip4400)\">\n<text style=\"fill:#000000; fill-opacity:1; font-family:Arial,Helvetica Neue,Helvetica,sans-serif; font-size:84px; text-anchor:middle;\" transform=\"rotate(0, 1897.75, 940.136)\" x=\"1897.75\" y=\"940.136\">15</text>\n</g>\n<g clip-path=\"url(#clip4400)\">\n<text style=\"fill:#000000; fill-opacity:1; font-family:Arial,Helvetica Neue,Helvetica,sans-serif; font-size:84px; text-anchor:middle;\" transform=\"rotate(0, 1813.3, 1255.32)\" x=\"1813.3\" y=\"1255.32\">20</text>\n</g>\n<g clip-path=\"url(#clip4400)\">\n<text style=\"fill:#000000; fill-opacity:1; font-family:Arial,Helvetica Neue,Helvetica,sans-serif; font-size:84px; text-anchor:middle;\" transform=\"rotate(0, 1582.57, 1486.05)\" x=\"1582.57\" y=\"1486.05\">25</text>\n</g>\n<g clip-path=\"url(#clip4400)\">\n<text style=\"fill:#000000; fill-opacity:1; font-family:Arial,Helvetica Neue,Helvetica,sans-serif; font-size:84px; text-anchor:middle;\" transform=\"rotate(0, 1267.38, 1570.51)\" x=\"1267.38\" y=\"1570.51\">30</text>\n</g>\n<g clip-path=\"url(#clip4400)\">\n<text style=\"fill:#000000; fill-opacity:1; font-family:Arial,Helvetica Neue,Helvetica,sans-serif; font-size:84px; text-anchor:middle;\" transform=\"rotate(0, 952.197, 1486.05)\" x=\"952.197\" y=\"1486.05\">35</text>\n</g>\n<g clip-path=\"url(#clip4400)\">\n<text style=\"fill:#000000; fill-opacity:1; font-family:Arial,Helvetica Neue,Helvetica,sans-serif; font-size:84px; text-anchor:middle;\" transform=\"rotate(0, 721.466, 1255.32)\" x=\"721.466\" y=\"1255.32\">40</text>\n</g>\n<g clip-path=\"url(#clip4400)\">\n<text style=\"fill:#000000; fill-opacity:1; font-family:Arial,Helvetica Neue,Helvetica,sans-serif; font-size:84px; text-anchor:middle;\" transform=\"rotate(0, 637.013, 940.136)\" x=\"637.013\" y=\"940.136\">45</text>\n</g>\n<g clip-path=\"url(#clip4400)\">\n<text style=\"fill:#000000; fill-opacity:1; font-family:Arial,Helvetica Neue,Helvetica,sans-serif; font-size:84px; text-anchor:middle;\" transform=\"rotate(0, 721.466, 624.952)\" x=\"721.466\" y=\"624.952\">50</text>\n</g>\n<g clip-path=\"url(#clip4400)\">\n<text style=\"fill:#000000; fill-opacity:1; font-family:Arial,Helvetica Neue,Helvetica,sans-serif; font-size:84px; text-anchor:middle;\" transform=\"rotate(0, 952.197, 394.221)\" x=\"952.197\" y=\"394.221\">55</text>\n</g>\n</svg>\n"
           }
          },
          "systemjs_options": null
         },
         "nodeType": "Scope",
         "props": {},
         "type": "node"
        }
       ],
       "instanceArgs": {
        "namespace": "html",
        "tag": "div"
       },
       "nodeType": "DOM",
       "props": {
        "style": {
         "display": "flex",
         "flex-direction": "column"
        }
       },
       "type": "node"
      },
      "text/html": [
       "<div\n",
       "    class=\"webio-mountpoint\"\n",
       "    data-webio-mountpoint=\"5215448392410621285\"\n",
       ">\n",
       "    <script>\n",
       "    if (window.require && require.defined && require.defined(\"nbextensions/webio/main\")) {\n",
       "        console.log(\"Jupyter WebIO extension detected, not mounting.\");\n",
       "    } else if (window.WebIO) {\n",
       "        WebIO.mount(\n",
       "            document.querySelector('[data-webio-mountpoint=\"5215448392410621285\"]'),\n",
       "            {\"props\":{\"style\":{\"display\":\"flex\",\"flex-direction\":\"column\"}},\"nodeType\":\"DOM\",\"type\":\"node\",\"instanceArgs\":{\"namespace\":\"html\",\"tag\":\"div\"},\"children\":[{\"props\":{\"style\":{\"display\":\"flex\",\"flex-direction\":\"row\"}},\"nodeType\":\"DOM\",\"type\":\"node\",\"instanceArgs\":{\"namespace\":\"html\",\"tag\":\"div\"},\"children\":[{\"props\":{\"className\":\"field interact-widget\"},\"nodeType\":\"DOM\",\"type\":\"node\",\"instanceArgs\":{\"namespace\":\"html\",\"tag\":\"div\"},\"children\":[{\"props\":{},\"nodeType\":\"Scope\",\"type\":\"node\",\"instanceArgs\":{\"imports\":{\"data\":[{\"name\":\"knockout\",\"type\":\"js\",\"url\":\"\\/assetserver\\/e5e1f43edad328051d4419005d904d35dfa6e184-knockout.js\"},{\"name\":\"knockout_punches\",\"type\":\"js\",\"url\":\"\\/assetserver\\/eb91775159288ba25efa24f3eb9afd64db5b259f-knockout_punches.js\"},{\"name\":null,\"type\":\"js\",\"url\":\"\\/assetserver\\/3677f5bfba1bb9b5d3d654c444d203b8d7654688-all.js\"},{\"name\":null,\"type\":\"css\",\"url\":\"\\/assetserver\\/99779f8518149d0f01ef86c2106871126e75532d-style.css\"},{\"name\":null,\"type\":\"css\",\"url\":\"\\/assetserver\\/b8b35cfec9fafa23715d6e09ffebcaf5cea653e2-bulma_confined.min.css\"}],\"type\":\"async_block\"},\"id\":\"8080278407990499071\",\"handlers\":{\"loading\":[\"(function (val){return (val!=this.model[\\\"loading\\\"]()) ? (this.valueFromJulia[\\\"loading\\\"]=true, this.model[\\\"loading\\\"](val)) : undefined})\"],\"clicks\":[\"(function (val){return (val!=this.model[\\\"clicks\\\"]()) ? (this.valueFromJulia[\\\"clicks\\\"]=true, this.model[\\\"clicks\\\"](val)) : undefined})\"]},\"systemjs_options\":null,\"mount_callbacks\":[\"function () {\\n    var handler = (function (ko, koPunches) {\\n    ko.punches.enableAll();\\n    ko.bindingHandlers.numericValue = {\\n        init: function(element, valueAccessor, allBindings, data, context) {\\n            var stringified = ko.observable(ko.unwrap(valueAccessor()));\\n            stringified.subscribe(function(value) {\\n                var val = parseFloat(value);\\n                if (!isNaN(val)) {\\n                    valueAccessor()(val);\\n                }\\n            });\\n            valueAccessor().subscribe(function(value) {\\n                var str = JSON.stringify(value);\\n                if ((str == \\\"0\\\") && ([\\\"-0\\\", \\\"-0.\\\"].indexOf(stringified()) >= 0))\\n                     return;\\n                 if ([\\\"null\\\", \\\"\\\"].indexOf(str) >= 0)\\n                     return;\\n                stringified(str);\\n            });\\n            ko.applyBindingsToNode(\\n                element,\\n                {\\n                    value: stringified,\\n                    valueUpdate: allBindings.get('valueUpdate'),\\n                },\\n                context,\\n            );\\n        }\\n    };\\n    var json_data = {\\\"loading\\\":WebIO.getval({\\\"name\\\":\\\"loading\\\",\\\"scope\\\":\\\"8080278407990499071\\\",\\\"id\\\":\\\"ob_09\\\",\\\"type\\\":\\\"observable\\\"}),\\\"clicks\\\":WebIO.getval({\\\"name\\\":\\\"clicks\\\",\\\"scope\\\":\\\"8080278407990499071\\\",\\\"id\\\":\\\"ob_08\\\",\\\"type\\\":\\\"observable\\\"})};\\n    var self = this;\\n    function AppViewModel() {\\n        for (var key in json_data) {\\n            var el = json_data[key];\\n            this[key] = Array.isArray(el) ? ko.observableArray(el) : ko.observable(el);\\n        }\\n        \\n        \\n        [this[\\\"loading\\\"].subscribe((function (val){!(this.valueFromJulia[\\\"loading\\\"]) ? (WebIO.setval({\\\"name\\\":\\\"loading\\\",\\\"scope\\\":\\\"8080278407990499071\\\",\\\"id\\\":\\\"ob_09\\\",\\\"type\\\":\\\"observable\\\"},val)) : undefined; return this.valueFromJulia[\\\"loading\\\"]=false}),self),this[\\\"clicks\\\"].subscribe((function (val){!(this.valueFromJulia[\\\"clicks\\\"]) ? (WebIO.setval({\\\"name\\\":\\\"clicks\\\",\\\"scope\\\":\\\"8080278407990499071\\\",\\\"id\\\":\\\"ob_08\\\",\\\"type\\\":\\\"observable\\\"},val)) : undefined; return this.valueFromJulia[\\\"clicks\\\"]=false}),self)]\\n        \\n    }\\n    self.model = new AppViewModel();\\n    self.valueFromJulia = {};\\n    for (var key in json_data) {\\n        self.valueFromJulia[key] = false;\\n    }\\n    ko.applyBindings(self.model, self.dom);\\n}\\n);\\n    (WebIO.importBlock({\\\"data\\\":[{\\\"name\\\":\\\"knockout\\\",\\\"type\\\":\\\"js\\\",\\\"url\\\":\\\"\\/assetserver\\/e5e1f43edad328051d4419005d904d35dfa6e184-knockout.js\\\"},{\\\"name\\\":\\\"knockout_punches\\\",\\\"type\\\":\\\"js\\\",\\\"url\\\":\\\"\\/assetserver\\/eb91775159288ba25efa24f3eb9afd64db5b259f-knockout_punches.js\\\"}],\\\"type\\\":\\\"async_block\\\"})).then((imports) => handler.apply(this, imports));\\n}\\n\"],\"observables\":{\"loading\":{\"sync\":false,\"id\":\"ob_09\",\"value\":false},\"clicks\":{\"sync\":true,\"id\":\"ob_08\",\"value\":0}}},\"children\":[{\"props\":{\"attributes\":{\"data-bind\":\"click: function (){this.clicks(this.clicks()+1)}, css: {'is-loading' : loading}\"},\"className\":\"is-medium button is-primary\",\"style\":{}},\"nodeType\":\"DOM\",\"type\":\"node\",\"instanceArgs\":{\"namespace\":\"html\",\"tag\":\"button\"},\"children\":[\"-10\"]}]}]},{\"props\":{\"className\":\"field interact-widget\"},\"nodeType\":\"DOM\",\"type\":\"node\",\"instanceArgs\":{\"namespace\":\"html\",\"tag\":\"div\"},\"children\":[{\"props\":{},\"nodeType\":\"Scope\",\"type\":\"node\",\"instanceArgs\":{\"imports\":{\"data\":[{\"name\":\"knockout\",\"type\":\"js\",\"url\":\"\\/assetserver\\/e5e1f43edad328051d4419005d904d35dfa6e184-knockout.js\"},{\"name\":\"knockout_punches\",\"type\":\"js\",\"url\":\"\\/assetserver\\/eb91775159288ba25efa24f3eb9afd64db5b259f-knockout_punches.js\"},{\"name\":null,\"type\":\"js\",\"url\":\"\\/assetserver\\/3677f5bfba1bb9b5d3d654c444d203b8d7654688-all.js\"},{\"name\":null,\"type\":\"css\",\"url\":\"\\/assetserver\\/99779f8518149d0f01ef86c2106871126e75532d-style.css\"},{\"name\":null,\"type\":\"css\",\"url\":\"\\/assetserver\\/b8b35cfec9fafa23715d6e09ffebcaf5cea653e2-bulma_confined.min.css\"}],\"type\":\"async_block\"},\"id\":\"5034710053233273931\",\"handlers\":{\"loading\":[\"(function (val){return (val!=this.model[\\\"loading\\\"]()) ? (this.valueFromJulia[\\\"loading\\\"]=true, this.model[\\\"loading\\\"](val)) : undefined})\"],\"clicks\":[\"(function (val){return (val!=this.model[\\\"clicks\\\"]()) ? (this.valueFromJulia[\\\"clicks\\\"]=true, this.model[\\\"clicks\\\"](val)) : undefined})\"]},\"systemjs_options\":null,\"mount_callbacks\":[\"function () {\\n    var handler = (function (ko, koPunches) {\\n    ko.punches.enableAll();\\n    ko.bindingHandlers.numericValue = {\\n        init: function(element, valueAccessor, allBindings, data, context) {\\n            var stringified = ko.observable(ko.unwrap(valueAccessor()));\\n            stringified.subscribe(function(value) {\\n                var val = parseFloat(value);\\n                if (!isNaN(val)) {\\n                    valueAccessor()(val);\\n                }\\n            });\\n            valueAccessor().subscribe(function(value) {\\n                var str = JSON.stringify(value);\\n                if ((str == \\\"0\\\") && ([\\\"-0\\\", \\\"-0.\\\"].indexOf(stringified()) >= 0))\\n                     return;\\n                 if ([\\\"null\\\", \\\"\\\"].indexOf(str) >= 0)\\n                     return;\\n                stringified(str);\\n            });\\n            ko.applyBindingsToNode(\\n                element,\\n                {\\n                    value: stringified,\\n                    valueUpdate: allBindings.get('valueUpdate'),\\n                },\\n                context,\\n            );\\n        }\\n    };\\n    var json_data = {\\\"loading\\\":WebIO.getval({\\\"name\\\":\\\"loading\\\",\\\"scope\\\":\\\"5034710053233273931\\\",\\\"id\\\":\\\"ob_05\\\",\\\"type\\\":\\\"observable\\\"}),\\\"clicks\\\":WebIO.getval({\\\"name\\\":\\\"clicks\\\",\\\"scope\\\":\\\"5034710053233273931\\\",\\\"id\\\":\\\"ob_04\\\",\\\"type\\\":\\\"observable\\\"})};\\n    var self = this;\\n    function AppViewModel() {\\n        for (var key in json_data) {\\n            var el = json_data[key];\\n            this[key] = Array.isArray(el) ? ko.observableArray(el) : ko.observable(el);\\n        }\\n        \\n        \\n        [this[\\\"loading\\\"].subscribe((function (val){!(this.valueFromJulia[\\\"loading\\\"]) ? (WebIO.setval({\\\"name\\\":\\\"loading\\\",\\\"scope\\\":\\\"5034710053233273931\\\",\\\"id\\\":\\\"ob_05\\\",\\\"type\\\":\\\"observable\\\"},val)) : undefined; return this.valueFromJulia[\\\"loading\\\"]=false}),self),this[\\\"clicks\\\"].subscribe((function (val){!(this.valueFromJulia[\\\"clicks\\\"]) ? (WebIO.setval({\\\"name\\\":\\\"clicks\\\",\\\"scope\\\":\\\"5034710053233273931\\\",\\\"id\\\":\\\"ob_04\\\",\\\"type\\\":\\\"observable\\\"},val)) : undefined; return this.valueFromJulia[\\\"clicks\\\"]=false}),self)]\\n        \\n    }\\n    self.model = new AppViewModel();\\n    self.valueFromJulia = {};\\n    for (var key in json_data) {\\n        self.valueFromJulia[key] = false;\\n    }\\n    ko.applyBindings(self.model, self.dom);\\n}\\n);\\n    (WebIO.importBlock({\\\"data\\\":[{\\\"name\\\":\\\"knockout\\\",\\\"type\\\":\\\"js\\\",\\\"url\\\":\\\"\\/assetserver\\/e5e1f43edad328051d4419005d904d35dfa6e184-knockout.js\\\"},{\\\"name\\\":\\\"knockout_punches\\\",\\\"type\\\":\\\"js\\\",\\\"url\\\":\\\"\\/assetserver\\/eb91775159288ba25efa24f3eb9afd64db5b259f-knockout_punches.js\\\"}],\\\"type\\\":\\\"async_block\\\"})).then((imports) => handler.apply(this, imports));\\n}\\n\"],\"observables\":{\"loading\":{\"sync\":false,\"id\":\"ob_05\",\"value\":false},\"clicks\":{\"sync\":true,\"id\":\"ob_04\",\"value\":0}}},\"children\":[{\"props\":{\"attributes\":{\"data-bind\":\"click: function (){this.clicks(this.clicks()+1)}, css: {'is-loading' : loading}\"},\"className\":\"is-medium button is-primary\",\"style\":{}},\"nodeType\":\"DOM\",\"type\":\"node\",\"instanceArgs\":{\"namespace\":\"html\",\"tag\":\"button\"},\"children\":[\"-\"]}]}]},{\"props\":{},\"nodeType\":\"Scope\",\"type\":\"node\",\"instanceArgs\":{\"imports\":{\"data\":[],\"type\":\"async_block\"},\"id\":\"9710046707306062652\",\"handlers\":{},\"systemjs_options\":null,\"mount_callbacks\":[],\"observables\":{\"obs-node\":{\"sync\":false,\"id\":\"ob_13\",\"value\":{\"props\":{\"className\":\"interact \",\"style\":{\"padding\":\"5px 10px 0px 10px\"}},\"nodeType\":\"DOM\",\"type\":\"node\",\"instanceArgs\":{\"namespace\":\"html\",\"tag\":\"label\"},\"children\":[\"5\"]}}}},\"children\":[{\"props\":{},\"nodeType\":\"ObservableNode\",\"type\":\"node\",\"instanceArgs\":{\"id\":\"ob_13\",\"name\":\"obs-node\"},\"children\":[]}]},{\"props\":{\"className\":\"field interact-widget\"},\"nodeType\":\"DOM\",\"type\":\"node\",\"instanceArgs\":{\"namespace\":\"html\",\"tag\":\"div\"},\"children\":[{\"props\":{},\"nodeType\":\"Scope\",\"type\":\"node\",\"instanceArgs\":{\"imports\":{\"data\":[{\"name\":\"knockout\",\"type\":\"js\",\"url\":\"\\/assetserver\\/e5e1f43edad328051d4419005d904d35dfa6e184-knockout.js\"},{\"name\":\"knockout_punches\",\"type\":\"js\",\"url\":\"\\/assetserver\\/eb91775159288ba25efa24f3eb9afd64db5b259f-knockout_punches.js\"},{\"name\":null,\"type\":\"js\",\"url\":\"\\/assetserver\\/3677f5bfba1bb9b5d3d654c444d203b8d7654688-all.js\"},{\"name\":null,\"type\":\"css\",\"url\":\"\\/assetserver\\/99779f8518149d0f01ef86c2106871126e75532d-style.css\"},{\"name\":null,\"type\":\"css\",\"url\":\"\\/assetserver\\/b8b35cfec9fafa23715d6e09ffebcaf5cea653e2-bulma_confined.min.css\"}],\"type\":\"async_block\"},\"id\":\"13879282475702659210\",\"handlers\":{\"loading\":[\"(function (val){return (val!=this.model[\\\"loading\\\"]()) ? (this.valueFromJulia[\\\"loading\\\"]=true, this.model[\\\"loading\\\"](val)) : undefined})\"],\"clicks\":[\"(function (val){return (val!=this.model[\\\"clicks\\\"]()) ? (this.valueFromJulia[\\\"clicks\\\"]=true, this.model[\\\"clicks\\\"](val)) : undefined})\"]},\"systemjs_options\":null,\"mount_callbacks\":[\"function () {\\n    var handler = (function (ko, koPunches) {\\n    ko.punches.enableAll();\\n    ko.bindingHandlers.numericValue = {\\n        init: function(element, valueAccessor, allBindings, data, context) {\\n            var stringified = ko.observable(ko.unwrap(valueAccessor()));\\n            stringified.subscribe(function(value) {\\n                var val = parseFloat(value);\\n                if (!isNaN(val)) {\\n                    valueAccessor()(val);\\n                }\\n            });\\n            valueAccessor().subscribe(function(value) {\\n                var str = JSON.stringify(value);\\n                if ((str == \\\"0\\\") && ([\\\"-0\\\", \\\"-0.\\\"].indexOf(stringified()) >= 0))\\n                     return;\\n                 if ([\\\"null\\\", \\\"\\\"].indexOf(str) >= 0)\\n                     return;\\n                stringified(str);\\n            });\\n            ko.applyBindingsToNode(\\n                element,\\n                {\\n                    value: stringified,\\n                    valueUpdate: allBindings.get('valueUpdate'),\\n                },\\n                context,\\n            );\\n        }\\n    };\\n    var json_data = {\\\"loading\\\":WebIO.getval({\\\"name\\\":\\\"loading\\\",\\\"scope\\\":\\\"13879282475702659210\\\",\\\"id\\\":\\\"ob_03\\\",\\\"type\\\":\\\"observable\\\"}),\\\"clicks\\\":WebIO.getval({\\\"name\\\":\\\"clicks\\\",\\\"scope\\\":\\\"13879282475702659210\\\",\\\"id\\\":\\\"ob_02\\\",\\\"type\\\":\\\"observable\\\"})};\\n    var self = this;\\n    function AppViewModel() {\\n        for (var key in json_data) {\\n            var el = json_data[key];\\n            this[key] = Array.isArray(el) ? ko.observableArray(el) : ko.observable(el);\\n        }\\n        \\n        \\n        [this[\\\"loading\\\"].subscribe((function (val){!(this.valueFromJulia[\\\"loading\\\"]) ? (WebIO.setval({\\\"name\\\":\\\"loading\\\",\\\"scope\\\":\\\"13879282475702659210\\\",\\\"id\\\":\\\"ob_03\\\",\\\"type\\\":\\\"observable\\\"},val)) : undefined; return this.valueFromJulia[\\\"loading\\\"]=false}),self),this[\\\"clicks\\\"].subscribe((function (val){!(this.valueFromJulia[\\\"clicks\\\"]) ? (WebIO.setval({\\\"name\\\":\\\"clicks\\\",\\\"scope\\\":\\\"13879282475702659210\\\",\\\"id\\\":\\\"ob_02\\\",\\\"type\\\":\\\"observable\\\"},val)) : undefined; return this.valueFromJulia[\\\"clicks\\\"]=false}),self)]\\n        \\n    }\\n    self.model = new AppViewModel();\\n    self.valueFromJulia = {};\\n    for (var key in json_data) {\\n        self.valueFromJulia[key] = false;\\n    }\\n    ko.applyBindings(self.model, self.dom);\\n}\\n);\\n    (WebIO.importBlock({\\\"data\\\":[{\\\"name\\\":\\\"knockout\\\",\\\"type\\\":\\\"js\\\",\\\"url\\\":\\\"\\/assetserver\\/e5e1f43edad328051d4419005d904d35dfa6e184-knockout.js\\\"},{\\\"name\\\":\\\"knockout_punches\\\",\\\"type\\\":\\\"js\\\",\\\"url\\\":\\\"\\/assetserver\\/eb91775159288ba25efa24f3eb9afd64db5b259f-knockout_punches.js\\\"}],\\\"type\\\":\\\"async_block\\\"})).then((imports) => handler.apply(this, imports));\\n}\\n\"],\"observables\":{\"loading\":{\"sync\":false,\"id\":\"ob_03\",\"value\":false},\"clicks\":{\"sync\":true,\"id\":\"ob_02\",\"value\":0}}},\"children\":[{\"props\":{\"attributes\":{\"data-bind\":\"click: function (){this.clicks(this.clicks()+1)}, css: {'is-loading' : loading}\"},\"className\":\"is-medium button is-primary\",\"style\":{}},\"nodeType\":\"DOM\",\"type\":\"node\",\"instanceArgs\":{\"namespace\":\"html\",\"tag\":\"button\"},\"children\":[\"+\"]}]}]},{\"props\":{\"className\":\"field interact-widget\"},\"nodeType\":\"DOM\",\"type\":\"node\",\"instanceArgs\":{\"namespace\":\"html\",\"tag\":\"div\"},\"children\":[{\"props\":{},\"nodeType\":\"Scope\",\"type\":\"node\",\"instanceArgs\":{\"imports\":{\"data\":[{\"name\":\"knockout\",\"type\":\"js\",\"url\":\"\\/assetserver\\/e5e1f43edad328051d4419005d904d35dfa6e184-knockout.js\"},{\"name\":\"knockout_punches\",\"type\":\"js\",\"url\":\"\\/assetserver\\/eb91775159288ba25efa24f3eb9afd64db5b259f-knockout_punches.js\"},{\"name\":null,\"type\":\"js\",\"url\":\"\\/assetserver\\/3677f5bfba1bb9b5d3d654c444d203b8d7654688-all.js\"},{\"name\":null,\"type\":\"css\",\"url\":\"\\/assetserver\\/99779f8518149d0f01ef86c2106871126e75532d-style.css\"},{\"name\":null,\"type\":\"css\",\"url\":\"\\/assetserver\\/b8b35cfec9fafa23715d6e09ffebcaf5cea653e2-bulma_confined.min.css\"}],\"type\":\"async_block\"},\"id\":\"4966617545053428194\",\"handlers\":{\"loading\":[\"(function (val){return (val!=this.model[\\\"loading\\\"]()) ? (this.valueFromJulia[\\\"loading\\\"]=true, this.model[\\\"loading\\\"](val)) : undefined})\"],\"clicks\":[\"(function (val){return (val!=this.model[\\\"clicks\\\"]()) ? (this.valueFromJulia[\\\"clicks\\\"]=true, this.model[\\\"clicks\\\"](val)) : undefined})\"]},\"systemjs_options\":null,\"mount_callbacks\":[\"function () {\\n    var handler = (function (ko, koPunches) {\\n    ko.punches.enableAll();\\n    ko.bindingHandlers.numericValue = {\\n        init: function(element, valueAccessor, allBindings, data, context) {\\n            var stringified = ko.observable(ko.unwrap(valueAccessor()));\\n            stringified.subscribe(function(value) {\\n                var val = parseFloat(value);\\n                if (!isNaN(val)) {\\n                    valueAccessor()(val);\\n                }\\n            });\\n            valueAccessor().subscribe(function(value) {\\n                var str = JSON.stringify(value);\\n                if ((str == \\\"0\\\") && ([\\\"-0\\\", \\\"-0.\\\"].indexOf(stringified()) >= 0))\\n                     return;\\n                 if ([\\\"null\\\", \\\"\\\"].indexOf(str) >= 0)\\n                     return;\\n                stringified(str);\\n            });\\n            ko.applyBindingsToNode(\\n                element,\\n                {\\n                    value: stringified,\\n                    valueUpdate: allBindings.get('valueUpdate'),\\n                },\\n                context,\\n            );\\n        }\\n    };\\n    var json_data = {\\\"loading\\\":WebIO.getval({\\\"name\\\":\\\"loading\\\",\\\"scope\\\":\\\"4966617545053428194\\\",\\\"id\\\":\\\"ob_07\\\",\\\"type\\\":\\\"observable\\\"}),\\\"clicks\\\":WebIO.getval({\\\"name\\\":\\\"clicks\\\",\\\"scope\\\":\\\"4966617545053428194\\\",\\\"id\\\":\\\"ob_06\\\",\\\"type\\\":\\\"observable\\\"})};\\n    var self = this;\\n    function AppViewModel() {\\n        for (var key in json_data) {\\n            var el = json_data[key];\\n            this[key] = Array.isArray(el) ? ko.observableArray(el) : ko.observable(el);\\n        }\\n        \\n        \\n        [this[\\\"loading\\\"].subscribe((function (val){!(this.valueFromJulia[\\\"loading\\\"]) ? (WebIO.setval({\\\"name\\\":\\\"loading\\\",\\\"scope\\\":\\\"4966617545053428194\\\",\\\"id\\\":\\\"ob_07\\\",\\\"type\\\":\\\"observable\\\"},val)) : undefined; return this.valueFromJulia[\\\"loading\\\"]=false}),self),this[\\\"clicks\\\"].subscribe((function (val){!(this.valueFromJulia[\\\"clicks\\\"]) ? (WebIO.setval({\\\"name\\\":\\\"clicks\\\",\\\"scope\\\":\\\"4966617545053428194\\\",\\\"id\\\":\\\"ob_06\\\",\\\"type\\\":\\\"observable\\\"},val)) : undefined; return this.valueFromJulia[\\\"clicks\\\"]=false}),self)]\\n        \\n    }\\n    self.model = new AppViewModel();\\n    self.valueFromJulia = {};\\n    for (var key in json_data) {\\n        self.valueFromJulia[key] = false;\\n    }\\n    ko.applyBindings(self.model, self.dom);\\n}\\n);\\n    (WebIO.importBlock({\\\"data\\\":[{\\\"name\\\":\\\"knockout\\\",\\\"type\\\":\\\"js\\\",\\\"url\\\":\\\"\\/assetserver\\/e5e1f43edad328051d4419005d904d35dfa6e184-knockout.js\\\"},{\\\"name\\\":\\\"knockout_punches\\\",\\\"type\\\":\\\"js\\\",\\\"url\\\":\\\"\\/assetserver\\/eb91775159288ba25efa24f3eb9afd64db5b259f-knockout_punches.js\\\"}],\\\"type\\\":\\\"async_block\\\"})).then((imports) => handler.apply(this, imports));\\n}\\n\"],\"observables\":{\"loading\":{\"sync\":false,\"id\":\"ob_07\",\"value\":false},\"clicks\":{\"sync\":true,\"id\":\"ob_06\",\"value\":0}}},\"children\":[{\"props\":{\"attributes\":{\"data-bind\":\"click: function (){this.clicks(this.clicks()+1)}, css: {'is-loading' : loading}\"},\"className\":\"is-medium button is-primary\",\"style\":{}},\"nodeType\":\"DOM\",\"type\":\"node\",\"instanceArgs\":{\"namespace\":\"html\",\"tag\":\"button\"},\"children\":[\"+10\"]}]}]},{\"props\":{\"className\":\"field interact-widget\"},\"nodeType\":\"DOM\",\"type\":\"node\",\"instanceArgs\":{\"namespace\":\"html\",\"tag\":\"div\"},\"children\":[{\"props\":{},\"nodeType\":\"Scope\",\"type\":\"node\",\"instanceArgs\":{\"imports\":{\"data\":[{\"name\":\"knockout\",\"type\":\"js\",\"url\":\"\\/assetserver\\/e5e1f43edad328051d4419005d904d35dfa6e184-knockout.js\"},{\"name\":\"knockout_punches\",\"type\":\"js\",\"url\":\"\\/assetserver\\/eb91775159288ba25efa24f3eb9afd64db5b259f-knockout_punches.js\"},{\"name\":null,\"type\":\"js\",\"url\":\"\\/assetserver\\/3677f5bfba1bb9b5d3d654c444d203b8d7654688-all.js\"},{\"name\":null,\"type\":\"css\",\"url\":\"\\/assetserver\\/99779f8518149d0f01ef86c2106871126e75532d-style.css\"},{\"name\":null,\"type\":\"css\",\"url\":\"\\/assetserver\\/b8b35cfec9fafa23715d6e09ffebcaf5cea653e2-bulma_confined.min.css\"}],\"type\":\"async_block\"},\"id\":\"14059900930175318155\",\"handlers\":{\"loading\":[\"(function (val){return (val!=this.model[\\\"loading\\\"]()) ? (this.valueFromJulia[\\\"loading\\\"]=true, this.model[\\\"loading\\\"](val)) : undefined})\"],\"clicks\":[\"(function (val){return (val!=this.model[\\\"clicks\\\"]()) ? (this.valueFromJulia[\\\"clicks\\\"]=true, this.model[\\\"clicks\\\"](val)) : undefined})\"]},\"systemjs_options\":null,\"mount_callbacks\":[\"function () {\\n    var handler = (function (ko, koPunches) {\\n    ko.punches.enableAll();\\n    ko.bindingHandlers.numericValue = {\\n        init: function(element, valueAccessor, allBindings, data, context) {\\n            var stringified = ko.observable(ko.unwrap(valueAccessor()));\\n            stringified.subscribe(function(value) {\\n                var val = parseFloat(value);\\n                if (!isNaN(val)) {\\n                    valueAccessor()(val);\\n                }\\n            });\\n            valueAccessor().subscribe(function(value) {\\n                var str = JSON.stringify(value);\\n                if ((str == \\\"0\\\") && ([\\\"-0\\\", \\\"-0.\\\"].indexOf(stringified()) >= 0))\\n                     return;\\n                 if ([\\\"null\\\", \\\"\\\"].indexOf(str) >= 0)\\n                     return;\\n                stringified(str);\\n            });\\n            ko.applyBindingsToNode(\\n                element,\\n                {\\n                    value: stringified,\\n                    valueUpdate: allBindings.get('valueUpdate'),\\n                },\\n                context,\\n            );\\n        }\\n    };\\n    var json_data = {\\\"loading\\\":WebIO.getval({\\\"name\\\":\\\"loading\\\",\\\"scope\\\":\\\"14059900930175318155\\\",\\\"id\\\":\\\"ob_12\\\",\\\"type\\\":\\\"observable\\\"}),\\\"clicks\\\":WebIO.getval({\\\"name\\\":\\\"clicks\\\",\\\"scope\\\":\\\"14059900930175318155\\\",\\\"id\\\":\\\"ob_11\\\",\\\"type\\\":\\\"observable\\\"})};\\n    var self = this;\\n    function AppViewModel() {\\n        for (var key in json_data) {\\n            var el = json_data[key];\\n            this[key] = Array.isArray(el) ? ko.observableArray(el) : ko.observable(el);\\n        }\\n        \\n        \\n        [this[\\\"loading\\\"].subscribe((function (val){!(this.valueFromJulia[\\\"loading\\\"]) ? (WebIO.setval({\\\"name\\\":\\\"loading\\\",\\\"scope\\\":\\\"14059900930175318155\\\",\\\"id\\\":\\\"ob_12\\\",\\\"type\\\":\\\"observable\\\"},val)) : undefined; return this.valueFromJulia[\\\"loading\\\"]=false}),self),this[\\\"clicks\\\"].subscribe((function (val){!(this.valueFromJulia[\\\"clicks\\\"]) ? (WebIO.setval({\\\"name\\\":\\\"clicks\\\",\\\"scope\\\":\\\"14059900930175318155\\\",\\\"id\\\":\\\"ob_11\\\",\\\"type\\\":\\\"observable\\\"},val)) : undefined; return this.valueFromJulia[\\\"clicks\\\"]=false}),self)]\\n        \\n    }\\n    self.model = new AppViewModel();\\n    self.valueFromJulia = {};\\n    for (var key in json_data) {\\n        self.valueFromJulia[key] = false;\\n    }\\n    ko.applyBindings(self.model, self.dom);\\n}\\n);\\n    (WebIO.importBlock({\\\"data\\\":[{\\\"name\\\":\\\"knockout\\\",\\\"type\\\":\\\"js\\\",\\\"url\\\":\\\"\\/assetserver\\/e5e1f43edad328051d4419005d904d35dfa6e184-knockout.js\\\"},{\\\"name\\\":\\\"knockout_punches\\\",\\\"type\\\":\\\"js\\\",\\\"url\\\":\\\"\\/assetserver\\/eb91775159288ba25efa24f3eb9afd64db5b259f-knockout_punches.js\\\"}],\\\"type\\\":\\\"async_block\\\"})).then((imports) => handler.apply(this, imports));\\n}\\n\"],\"observables\":{\"loading\":{\"sync\":false,\"id\":\"ob_12\",\"value\":false},\"clicks\":{\"sync\":true,\"id\":\"ob_11\",\"value\":0}}},\"children\":[{\"props\":{\"attributes\":{\"data-bind\":\"click: function (){this.clicks(this.clicks()+1)}, css: {'is-loading' : loading}\"},\"className\":\"is-medium button is-primary\",\"style\":{}},\"nodeType\":\"DOM\",\"type\":\"node\",\"instanceArgs\":{\"namespace\":\"html\",\"tag\":\"button\"},\"children\":[\"Start\"]}]}]}]},{\"props\":{},\"nodeType\":\"Scope\",\"type\":\"node\",\"instanceArgs\":{\"imports\":{\"data\":[],\"type\":\"async_block\"},\"id\":\"13424025934201562203\",\"handlers\":{\"obs-output\":[\"function (value, scope) {\\n    scope.setInnerHTML(value);\\n}\\n\"]},\"systemjs_options\":null,\"mount_callbacks\":[],\"observables\":{\"obs-output\":{\"sync\":false,\"id\":\"ob_15\",\"value\":\"<?xml version=\\\"1.0\\\" encoding=\\\"utf-8\\\"?>\\n<svg xmlns=\\\"http:\\/\\/www.w3.org\\/2000\\/svg\\\" xmlns:xlink=\\\"http:\\/\\/www.w3.org\\/1999\\/xlink\\\" width=\\\"600\\\" height=\\\"400\\\" viewBox=\\\"0 0 2400 1600\\\">\\n<defs>\\n  <clipPath id=\\\"clip4400\\\">\\n    <rect x=\\\"0\\\" y=\\\"0\\\" width=\\\"2400\\\" height=\\\"1600\\\"\\/>\\n  <\\/clipPath>\\n<\\/defs>\\n<polygon clip-path=\\\"url(#clip4400)\\\" points=\\\"\\n0,1600 2400,1600 2400,0 0,0 \\n  \\\" fill=\\\"#ffffff\\\" fill-rule=\\\"evenodd\\\" fill-opacity=\\\"1\\\"\\/>\\n<defs>\\n  <clipPath id=\\\"clip4401\\\">\\n    <rect x=\\\"480\\\" y=\\\"0\\\" width=\\\"1681\\\" height=\\\"1600\\\"\\/>\\n  <\\/clipPath>\\n<\\/defs>\\n<polygon clip-path=\\\"url(#clip4400)\\\" points=\\\"\\n689.544,1487.47 1845.22,1487.47 1845.22,121.675 689.544,121.675 \\n  \\\" fill=\\\"#ffffff\\\" fill-rule=\\\"evenodd\\\" fill-opacity=\\\"1\\\"\\/>\\n<defs>\\n  <clipPath id=\\\"clip4402\\\">\\n    <rect x=\\\"689\\\" y=\\\"121\\\" width=\\\"1157\\\" height=\\\"1367\\\"\\/>\\n  <\\/clipPath>\\n<\\/defs>\\n<g clip-path=\\\"url(#clip4400)\\\">\\n<text style=\\\"fill:#000000; fill-opacity:1; font-family:Arial,Helvetica Neue,Helvetica,sans-serif; font-size:84px; text-anchor:middle;\\\" transform=\\\"rotate(0, 1267.38, 73.2)\\\" x=\\\"1267.38\\\" y=\\\"73.2\\\">0 [s]<\\/text>\\n<\\/g>\\n<polyline clip-path=\\\"url(#clip4402)\\\" style=\\\"stroke:#000000; stroke-width:16; stroke-opacity:0.5; fill:none\\\" points=\\\"\\n  1267.38,909.636 1267.38,384.329 \\n  \\\"\\/>\\n<polyline clip-path=\\\"url(#clip4402)\\\" style=\\\"stroke:#000000; stroke-width:16; stroke-opacity:0.5; fill:none\\\" points=\\\"\\n  1249.38,420.329 1267.38,384.329 1285.38,420.329 \\n  \\\"\\/>\\n<polyline clip-path=\\\"url(#clip4402)\\\" style=\\\"stroke:#000000; stroke-width:16; stroke-opacity:0.5; fill:none\\\" points=\\\"\\n  1267.38,384.329 1267.38,909.636 \\n  \\\"\\/>\\n<polyline clip-path=\\\"url(#clip4402)\\\" style=\\\"stroke:#000000; stroke-width:4; stroke-opacity:1; fill:none\\\" points=\\\"\\n  1267.38,436.86 1267.38,331.798 \\n  \\\"\\/>\\n<polyline clip-path=\\\"url(#clip4402)\\\" style=\\\"stroke:#000000; stroke-width:4; stroke-opacity:1; fill:none\\\" points=\\\"\\n  1319.55,413.328 1325.04,361.085 \\n  \\\"\\/>\\n<polyline clip-path=\\\"url(#clip4402)\\\" style=\\\"stroke:#000000; stroke-width:4; stroke-opacity:1; fill:none\\\" points=\\\"\\n  1371.14,421.5 1382.06,370.117 \\n  \\\"\\/>\\n<polyline clip-path=\\\"url(#clip4402)\\\" style=\\\"stroke:#000000; stroke-width:4; stroke-opacity:1; fill:none\\\" points=\\\"\\n  1421.59,435.019 1437.83,385.059 \\n  \\\"\\/>\\n<polyline clip-path=\\\"url(#clip4402)\\\" style=\\\"stroke:#000000; stroke-width:4; stroke-opacity:1; fill:none\\\" points=\\\"\\n  1470.36,453.739 1491.73,405.75 \\n  \\\"\\/>\\n<polyline clip-path=\\\"url(#clip4402)\\\" style=\\\"stroke:#000000; stroke-width:4; stroke-opacity:1; fill:none\\\" points=\\\"\\n  1503.77,500.2 1556.3,409.214 \\n  \\\"\\/>\\n<polyline clip-path=\\\"url(#clip4402)\\\" style=\\\"stroke:#000000; stroke-width:4; stroke-opacity:1; fill:none\\\" points=\\\"\\n  1560.71,505.903 1591.59,463.405 \\n  \\\"\\/>\\n<polyline clip-path=\\\"url(#clip4402)\\\" style=\\\"stroke:#000000; stroke-width:4; stroke-opacity:1; fill:none\\\" points=\\\"\\n  1601.31,538.776 1636.46,499.738 \\n  \\\"\\/>\\n<polyline clip-path=\\\"url(#clip4402)\\\" style=\\\"stroke:#000000; stroke-width:4; stroke-opacity:1; fill:none\\\" points=\\\"\\n  1638.24,575.712 1677.28,540.562 \\n  \\\"\\/>\\n<polyline clip-path=\\\"url(#clip4402)\\\" style=\\\"stroke:#000000; stroke-width:4; stroke-opacity:1; fill:none\\\" points=\\\"\\n  1671.12,616.307 1713.61,585.43 \\n  \\\"\\/>\\n<polyline clip-path=\\\"url(#clip4402)\\\" style=\\\"stroke:#000000; stroke-width:4; stroke-opacity:1; fill:none\\\" points=\\\"\\n  1676.82,673.248 1767.8,620.717 \\n  \\\"\\/>\\n<polyline clip-path=\\\"url(#clip4402)\\\" style=\\\"stroke:#000000; stroke-width:4; stroke-opacity:1; fill:none\\\" points=\\\"\\n  1723.28,706.658 1771.27,685.292 \\n  \\\"\\/>\\n<polyline clip-path=\\\"url(#clip4402)\\\" style=\\\"stroke:#000000; stroke-width:4; stroke-opacity:1; fill:none\\\" points=\\\"\\n  1742,755.424 1791.96,739.191 \\n  \\\"\\/>\\n<polyline clip-path=\\\"url(#clip4402)\\\" style=\\\"stroke:#000000; stroke-width:4; stroke-opacity:1; fill:none\\\" points=\\\"\\n  1755.52,805.88 1806.9,794.958 \\n  \\\"\\/>\\n<polyline clip-path=\\\"url(#clip4402)\\\" style=\\\"stroke:#000000; stroke-width:4; stroke-opacity:1; fill:none\\\" points=\\\"\\n  1763.69,857.472 1815.93,851.981 \\n  \\\"\\/>\\n<polyline clip-path=\\\"url(#clip4402)\\\" style=\\\"stroke:#000000; stroke-width:4; stroke-opacity:1; fill:none\\\" points=\\\"\\n  1740.16,909.636 1845.22,909.636 \\n  \\\"\\/>\\n<polyline clip-path=\\\"url(#clip4402)\\\" style=\\\"stroke:#000000; stroke-width:4; stroke-opacity:1; fill:none\\\" points=\\\"\\n  1763.69,961.801 1815.93,967.292 \\n  \\\"\\/>\\n<polyline clip-path=\\\"url(#clip4402)\\\" style=\\\"stroke:#000000; stroke-width:4; stroke-opacity:1; fill:none\\\" points=\\\"\\n  1755.52,1013.39 1806.9,1024.31 \\n  \\\"\\/>\\n<polyline clip-path=\\\"url(#clip4402)\\\" style=\\\"stroke:#000000; stroke-width:4; stroke-opacity:1; fill:none\\\" points=\\\"\\n  1742,1063.85 1791.96,1080.08 \\n  \\\"\\/>\\n<polyline clip-path=\\\"url(#clip4402)\\\" style=\\\"stroke:#000000; stroke-width:4; stroke-opacity:1; fill:none\\\" points=\\\"\\n  1723.28,1112.62 1771.27,1133.98 \\n  \\\"\\/>\\n<polyline clip-path=\\\"url(#clip4402)\\\" style=\\\"stroke:#000000; stroke-width:4; stroke-opacity:1; fill:none\\\" points=\\\"\\n  1676.82,1146.02 1767.8,1198.56 \\n  \\\"\\/>\\n<polyline clip-path=\\\"url(#clip4402)\\\" style=\\\"stroke:#000000; stroke-width:4; stroke-opacity:1; fill:none\\\" points=\\\"\\n  1671.12,1202.97 1713.61,1233.84 \\n  \\\"\\/>\\n<polyline clip-path=\\\"url(#clip4402)\\\" style=\\\"stroke:#000000; stroke-width:4; stroke-opacity:1; fill:none\\\" points=\\\"\\n  1638.24,1243.56 1677.28,1278.71 \\n  \\\"\\/>\\n<polyline clip-path=\\\"url(#clip4402)\\\" style=\\\"stroke:#000000; stroke-width:4; stroke-opacity:1; fill:none\\\" points=\\\"\\n  1601.31,1280.5 1636.46,1319.53 \\n  \\\"\\/>\\n<polyline clip-path=\\\"url(#clip4402)\\\" style=\\\"stroke:#000000; stroke-width:4; stroke-opacity:1; fill:none\\\" points=\\\"\\n  1560.71,1313.37 1591.59,1355.87 \\n  \\\"\\/>\\n<polyline clip-path=\\\"url(#clip4402)\\\" style=\\\"stroke:#000000; stroke-width:4; stroke-opacity:1; fill:none\\\" points=\\\"\\n  1503.77,1319.07 1556.3,1410.06 \\n  \\\"\\/>\\n<polyline clip-path=\\\"url(#clip4402)\\\" style=\\\"stroke:#000000; stroke-width:4; stroke-opacity:1; fill:none\\\" points=\\\"\\n  1470.36,1365.53 1491.73,1413.52 \\n  \\\"\\/>\\n<polyline clip-path=\\\"url(#clip4402)\\\" style=\\\"stroke:#000000; stroke-width:4; stroke-opacity:1; fill:none\\\" points=\\\"\\n  1421.59,1384.25 1437.83,1434.21 \\n  \\\"\\/>\\n<polyline clip-path=\\\"url(#clip4402)\\\" style=\\\"stroke:#000000; stroke-width:4; stroke-opacity:1; fill:none\\\" points=\\\"\\n  1371.14,1397.77 1382.06,1449.16 \\n  \\\"\\/>\\n<polyline clip-path=\\\"url(#clip4402)\\\" style=\\\"stroke:#000000; stroke-width:4; stroke-opacity:1; fill:none\\\" points=\\\"\\n  1319.55,1405.94 1325.04,1458.19 \\n  \\\"\\/>\\n<polyline clip-path=\\\"url(#clip4402)\\\" style=\\\"stroke:#000000; stroke-width:4; stroke-opacity:1; fill:none\\\" points=\\\"\\n  1267.38,1382.41 1267.38,1487.47 \\n  \\\"\\/>\\n<polyline clip-path=\\\"url(#clip4402)\\\" style=\\\"stroke:#000000; stroke-width:4; stroke-opacity:1; fill:none\\\" points=\\\"\\n  1215.22,1405.94 1209.73,1458.19 \\n  \\\"\\/>\\n<polyline clip-path=\\\"url(#clip4402)\\\" style=\\\"stroke:#000000; stroke-width:4; stroke-opacity:1; fill:none\\\" points=\\\"\\n  1163.63,1397.77 1152.7,1449.16 \\n  \\\"\\/>\\n<polyline clip-path=\\\"url(#clip4402)\\\" style=\\\"stroke:#000000; stroke-width:4; stroke-opacity:1; fill:none\\\" points=\\\"\\n  1113.17,1384.25 1096.94,1434.21 \\n  \\\"\\/>\\n<polyline clip-path=\\\"url(#clip4402)\\\" style=\\\"stroke:#000000; stroke-width:4; stroke-opacity:1; fill:none\\\" points=\\\"\\n  1064.4,1365.53 1043.04,1413.52 \\n  \\\"\\/>\\n<polyline clip-path=\\\"url(#clip4402)\\\" style=\\\"stroke:#000000; stroke-width:4; stroke-opacity:1; fill:none\\\" points=\\\"\\n  1030.99,1319.07 978.463,1410.06 \\n  \\\"\\/>\\n<polyline clip-path=\\\"url(#clip4402)\\\" style=\\\"stroke:#000000; stroke-width:4; stroke-opacity:1; fill:none\\\" points=\\\"\\n  974.052,1313.37 943.176,1355.87 \\n  \\\"\\/>\\n<polyline clip-path=\\\"url(#clip4402)\\\" style=\\\"stroke:#000000; stroke-width:4; stroke-opacity:1; fill:none\\\" points=\\\"\\n  933.458,1280.5 898.308,1319.53 \\n  \\\"\\/>\\n<polyline clip-path=\\\"url(#clip4402)\\\" style=\\\"stroke:#000000; stroke-width:4; stroke-opacity:1; fill:none\\\" points=\\\"\\n  896.521,1243.56 857.483,1278.71 \\n  \\\"\\/>\\n<polyline clip-path=\\\"url(#clip4402)\\\" style=\\\"stroke:#000000; stroke-width:4; stroke-opacity:1; fill:none\\\" points=\\\"\\n  863.648,1202.97 821.15,1233.84 \\n  \\\"\\/>\\n<polyline clip-path=\\\"url(#clip4402)\\\" style=\\\"stroke:#000000; stroke-width:4; stroke-opacity:1; fill:none\\\" points=\\\"\\n  857.945,1146.02 766.959,1198.56 \\n  \\\"\\/>\\n<polyline clip-path=\\\"url(#clip4402)\\\" style=\\\"stroke:#000000; stroke-width:4; stroke-opacity:1; fill:none\\\" points=\\\"\\n  811.484,1112.62 763.495,1133.98 \\n  \\\"\\/>\\n<polyline clip-path=\\\"url(#clip4402)\\\" style=\\\"stroke:#000000; stroke-width:4; stroke-opacity:1; fill:none\\\" points=\\\"\\n  792.765,1063.85 742.805,1080.08 \\n  \\\"\\/>\\n<polyline clip-path=\\\"url(#clip4402)\\\" style=\\\"stroke:#000000; stroke-width:4; stroke-opacity:1; fill:none\\\" points=\\\"\\n  779.245,1013.39 727.862,1024.31 \\n  \\\"\\/>\\n<polyline clip-path=\\\"url(#clip4402)\\\" style=\\\"stroke:#000000; stroke-width:4; stroke-opacity:1; fill:none\\\" points=\\\"\\n  771.074,961.801 718.831,967.292 \\n  \\\"\\/>\\n<polyline clip-path=\\\"url(#clip4402)\\\" style=\\\"stroke:#000000; stroke-width:4; stroke-opacity:1; fill:none\\\" points=\\\"\\n  794.605,909.636 689.544,909.636 \\n  \\\"\\/>\\n<polyline clip-path=\\\"url(#clip4402)\\\" style=\\\"stroke:#000000; stroke-width:4; stroke-opacity:1; fill:none\\\" points=\\\"\\n  771.074,857.472 718.831,851.981 \\n  \\\"\\/>\\n<polyline clip-path=\\\"url(#clip4402)\\\" style=\\\"stroke:#000000; stroke-width:4; stroke-opacity:1; fill:none\\\" points=\\\"\\n  779.245,805.88 727.862,794.958 \\n  \\\"\\/>\\n<polyline clip-path=\\\"url(#clip4402)\\\" style=\\\"stroke:#000000; stroke-width:4; stroke-opacity:1; fill:none\\\" points=\\\"\\n  792.765,755.424 742.805,739.191 \\n  \\\"\\/>\\n<polyline clip-path=\\\"url(#clip4402)\\\" style=\\\"stroke:#000000; stroke-width:4; stroke-opacity:1; fill:none\\\" points=\\\"\\n  811.484,706.658 763.495,685.292 \\n  \\\"\\/>\\n<polyline clip-path=\\\"url(#clip4402)\\\" style=\\\"stroke:#000000; stroke-width:4; stroke-opacity:1; fill:none\\\" points=\\\"\\n  857.945,673.248 766.959,620.717 \\n  \\\"\\/>\\n<polyline clip-path=\\\"url(#clip4402)\\\" style=\\\"stroke:#000000; stroke-width:4; stroke-opacity:1; fill:none\\\" points=\\\"\\n  863.648,616.307 821.15,585.43 \\n  \\\"\\/>\\n<polyline clip-path=\\\"url(#clip4402)\\\" style=\\\"stroke:#000000; stroke-width:4; stroke-opacity:1; fill:none\\\" points=\\\"\\n  896.521,575.712 857.483,540.562 \\n  \\\"\\/>\\n<polyline clip-path=\\\"url(#clip4402)\\\" style=\\\"stroke:#000000; stroke-width:4; stroke-opacity:1; fill:none\\\" points=\\\"\\n  933.458,538.776 898.308,499.738 \\n  \\\"\\/>\\n<polyline clip-path=\\\"url(#clip4402)\\\" style=\\\"stroke:#000000; stroke-width:4; stroke-opacity:1; fill:none\\\" points=\\\"\\n  974.052,505.903 943.176,463.405 \\n  \\\"\\/>\\n<polyline clip-path=\\\"url(#clip4402)\\\" style=\\\"stroke:#000000; stroke-width:4; stroke-opacity:1; fill:none\\\" points=\\\"\\n  1030.99,500.2 978.463,409.214 \\n  \\\"\\/>\\n<polyline clip-path=\\\"url(#clip4402)\\\" style=\\\"stroke:#000000; stroke-width:4; stroke-opacity:1; fill:none\\\" points=\\\"\\n  1064.4,453.739 1043.04,405.75 \\n  \\\"\\/>\\n<polyline clip-path=\\\"url(#clip4402)\\\" style=\\\"stroke:#000000; stroke-width:4; stroke-opacity:1; fill:none\\\" points=\\\"\\n  1113.17,435.019 1096.94,385.059 \\n  \\\"\\/>\\n<polyline clip-path=\\\"url(#clip4402)\\\" style=\\\"stroke:#000000; stroke-width:4; stroke-opacity:1; fill:none\\\" points=\\\"\\n  1163.63,421.5 1152.7,370.117 \\n  \\\"\\/>\\n<polyline clip-path=\\\"url(#clip4402)\\\" style=\\\"stroke:#000000; stroke-width:4; stroke-opacity:1; fill:none\\\" points=\\\"\\n  1215.22,413.328 1209.73,361.085 \\n  \\\"\\/>\\n<g clip-path=\\\"url(#clip4400)\\\">\\n<text style=\\\"fill:#000000; fill-opacity:1; font-family:Arial,Helvetica Neue,Helvetica,sans-serif; font-size:84px; text-anchor:middle;\\\" transform=\\\"rotate(0, 1267.38, 309.767)\\\" x=\\\"1267.38\\\" y=\\\"309.767\\\">0<\\/text>\\n<\\/g>\\n<g clip-path=\\\"url(#clip4400)\\\">\\n<text style=\\\"fill:#000000; fill-opacity:1; font-family:Arial,Helvetica Neue,Helvetica,sans-serif; font-size:84px; text-anchor:middle;\\\" transform=\\\"rotate(0, 1582.57, 394.221)\\\" x=\\\"1582.57\\\" y=\\\"394.221\\\">5<\\/text>\\n<\\/g>\\n<g clip-path=\\\"url(#clip4400)\\\">\\n<text style=\\\"fill:#000000; fill-opacity:1; font-family:Arial,Helvetica Neue,Helvetica,sans-serif; font-size:84px; text-anchor:middle;\\\" transform=\\\"rotate(0, 1813.3, 624.952)\\\" x=\\\"1813.3\\\" y=\\\"624.952\\\">10<\\/text>\\n<\\/g>\\n<g clip-path=\\\"url(#clip4400)\\\">\\n<text style=\\\"fill:#000000; fill-opacity:1; font-family:Arial,Helvetica Neue,Helvetica,sans-serif; font-size:84px; text-anchor:middle;\\\" transform=\\\"rotate(0, 1897.75, 940.136)\\\" x=\\\"1897.75\\\" y=\\\"940.136\\\">15<\\/text>\\n<\\/g>\\n<g clip-path=\\\"url(#clip4400)\\\">\\n<text style=\\\"fill:#000000; fill-opacity:1; font-family:Arial,Helvetica Neue,Helvetica,sans-serif; font-size:84px; text-anchor:middle;\\\" transform=\\\"rotate(0, 1813.3, 1255.32)\\\" x=\\\"1813.3\\\" y=\\\"1255.32\\\">20<\\/text>\\n<\\/g>\\n<g clip-path=\\\"url(#clip4400)\\\">\\n<text style=\\\"fill:#000000; fill-opacity:1; font-family:Arial,Helvetica Neue,Helvetica,sans-serif; font-size:84px; text-anchor:middle;\\\" transform=\\\"rotate(0, 1582.57, 1486.05)\\\" x=\\\"1582.57\\\" y=\\\"1486.05\\\">25<\\/text>\\n<\\/g>\\n<g clip-path=\\\"url(#clip4400)\\\">\\n<text style=\\\"fill:#000000; fill-opacity:1; font-family:Arial,Helvetica Neue,Helvetica,sans-serif; font-size:84px; text-anchor:middle;\\\" transform=\\\"rotate(0, 1267.38, 1570.51)\\\" x=\\\"1267.38\\\" y=\\\"1570.51\\\">30<\\/text>\\n<\\/g>\\n<g clip-path=\\\"url(#clip4400)\\\">\\n<text style=\\\"fill:#000000; fill-opacity:1; font-family:Arial,Helvetica Neue,Helvetica,sans-serif; font-size:84px; text-anchor:middle;\\\" transform=\\\"rotate(0, 952.197, 1486.05)\\\" x=\\\"952.197\\\" y=\\\"1486.05\\\">35<\\/text>\\n<\\/g>\\n<g clip-path=\\\"url(#clip4400)\\\">\\n<text style=\\\"fill:#000000; fill-opacity:1; font-family:Arial,Helvetica Neue,Helvetica,sans-serif; font-size:84px; text-anchor:middle;\\\" transform=\\\"rotate(0, 721.466, 1255.32)\\\" x=\\\"721.466\\\" y=\\\"1255.32\\\">40<\\/text>\\n<\\/g>\\n<g clip-path=\\\"url(#clip4400)\\\">\\n<text style=\\\"fill:#000000; fill-opacity:1; font-family:Arial,Helvetica Neue,Helvetica,sans-serif; font-size:84px; text-anchor:middle;\\\" transform=\\\"rotate(0, 637.013, 940.136)\\\" x=\\\"637.013\\\" y=\\\"940.136\\\">45<\\/text>\\n<\\/g>\\n<g clip-path=\\\"url(#clip4400)\\\">\\n<text style=\\\"fill:#000000; fill-opacity:1; font-family:Arial,Helvetica Neue,Helvetica,sans-serif; font-size:84px; text-anchor:middle;\\\" transform=\\\"rotate(0, 721.466, 624.952)\\\" x=\\\"721.466\\\" y=\\\"624.952\\\">50<\\/text>\\n<\\/g>\\n<g clip-path=\\\"url(#clip4400)\\\">\\n<text style=\\\"fill:#000000; fill-opacity:1; font-family:Arial,Helvetica Neue,Helvetica,sans-serif; font-size:84px; text-anchor:middle;\\\" transform=\\\"rotate(0, 952.197, 394.221)\\\" x=\\\"952.197\\\" y=\\\"394.221\\\">55<\\/text>\\n<\\/g>\\n<\\/svg>\\n\"}}},\"children\":[{\"props\":{\"className\":\"webio-observable\",\"setInnerHtml\":\"<?xml version=\\\"1.0\\\" encoding=\\\"utf-8\\\"?>\\n<svg xmlns=\\\"http:\\/\\/www.w3.org\\/2000\\/svg\\\" xmlns:xlink=\\\"http:\\/\\/www.w3.org\\/1999\\/xlink\\\" width=\\\"600\\\" height=\\\"400\\\" viewBox=\\\"0 0 2400 1600\\\">\\n<defs>\\n  <clipPath id=\\\"clip4400\\\">\\n    <rect x=\\\"0\\\" y=\\\"0\\\" width=\\\"2400\\\" height=\\\"1600\\\"\\/>\\n  <\\/clipPath>\\n<\\/defs>\\n<polygon clip-path=\\\"url(#clip4400)\\\" points=\\\"\\n0,1600 2400,1600 2400,0 0,0 \\n  \\\" fill=\\\"#ffffff\\\" fill-rule=\\\"evenodd\\\" fill-opacity=\\\"1\\\"\\/>\\n<defs>\\n  <clipPath id=\\\"clip4401\\\">\\n    <rect x=\\\"480\\\" y=\\\"0\\\" width=\\\"1681\\\" height=\\\"1600\\\"\\/>\\n  <\\/clipPath>\\n<\\/defs>\\n<polygon clip-path=\\\"url(#clip4400)\\\" points=\\\"\\n689.544,1487.47 1845.22,1487.47 1845.22,121.675 689.544,121.675 \\n  \\\" fill=\\\"#ffffff\\\" fill-rule=\\\"evenodd\\\" fill-opacity=\\\"1\\\"\\/>\\n<defs>\\n  <clipPath id=\\\"clip4402\\\">\\n    <rect x=\\\"689\\\" y=\\\"121\\\" width=\\\"1157\\\" height=\\\"1367\\\"\\/>\\n  <\\/clipPath>\\n<\\/defs>\\n<g clip-path=\\\"url(#clip4400)\\\">\\n<text style=\\\"fill:#000000; fill-opacity:1; font-family:Arial,Helvetica Neue,Helvetica,sans-serif; font-size:84px; text-anchor:middle;\\\" transform=\\\"rotate(0, 1267.38, 73.2)\\\" x=\\\"1267.38\\\" y=\\\"73.2\\\">0 [s]<\\/text>\\n<\\/g>\\n<polyline clip-path=\\\"url(#clip4402)\\\" style=\\\"stroke:#000000; stroke-width:16; stroke-opacity:0.5; fill:none\\\" points=\\\"\\n  1267.38,909.636 1267.38,384.329 \\n  \\\"\\/>\\n<polyline clip-path=\\\"url(#clip4402)\\\" style=\\\"stroke:#000000; stroke-width:16; stroke-opacity:0.5; fill:none\\\" points=\\\"\\n  1249.38,420.329 1267.38,384.329 1285.38,420.329 \\n  \\\"\\/>\\n<polyline clip-path=\\\"url(#clip4402)\\\" style=\\\"stroke:#000000; stroke-width:16; stroke-opacity:0.5; fill:none\\\" points=\\\"\\n  1267.38,384.329 1267.38,909.636 \\n  \\\"\\/>\\n<polyline clip-path=\\\"url(#clip4402)\\\" style=\\\"stroke:#000000; stroke-width:4; stroke-opacity:1; fill:none\\\" points=\\\"\\n  1267.38,436.86 1267.38,331.798 \\n  \\\"\\/>\\n<polyline clip-path=\\\"url(#clip4402)\\\" style=\\\"stroke:#000000; stroke-width:4; stroke-opacity:1; fill:none\\\" points=\\\"\\n  1319.55,413.328 1325.04,361.085 \\n  \\\"\\/>\\n<polyline clip-path=\\\"url(#clip4402)\\\" style=\\\"stroke:#000000; stroke-width:4; stroke-opacity:1; fill:none\\\" points=\\\"\\n  1371.14,421.5 1382.06,370.117 \\n  \\\"\\/>\\n<polyline clip-path=\\\"url(#clip4402)\\\" style=\\\"stroke:#000000; stroke-width:4; stroke-opacity:1; fill:none\\\" points=\\\"\\n  1421.59,435.019 1437.83,385.059 \\n  \\\"\\/>\\n<polyline clip-path=\\\"url(#clip4402)\\\" style=\\\"stroke:#000000; stroke-width:4; stroke-opacity:1; fill:none\\\" points=\\\"\\n  1470.36,453.739 1491.73,405.75 \\n  \\\"\\/>\\n<polyline clip-path=\\\"url(#clip4402)\\\" style=\\\"stroke:#000000; stroke-width:4; stroke-opacity:1; fill:none\\\" points=\\\"\\n  1503.77,500.2 1556.3,409.214 \\n  \\\"\\/>\\n<polyline clip-path=\\\"url(#clip4402)\\\" style=\\\"stroke:#000000; stroke-width:4; stroke-opacity:1; fill:none\\\" points=\\\"\\n  1560.71,505.903 1591.59,463.405 \\n  \\\"\\/>\\n<polyline clip-path=\\\"url(#clip4402)\\\" style=\\\"stroke:#000000; stroke-width:4; stroke-opacity:1; fill:none\\\" points=\\\"\\n  1601.31,538.776 1636.46,499.738 \\n  \\\"\\/>\\n<polyline clip-path=\\\"url(#clip4402)\\\" style=\\\"stroke:#000000; stroke-width:4; stroke-opacity:1; fill:none\\\" points=\\\"\\n  1638.24,575.712 1677.28,540.562 \\n  \\\"\\/>\\n<polyline clip-path=\\\"url(#clip4402)\\\" style=\\\"stroke:#000000; stroke-width:4; stroke-opacity:1; fill:none\\\" points=\\\"\\n  1671.12,616.307 1713.61,585.43 \\n  \\\"\\/>\\n<polyline clip-path=\\\"url(#clip4402)\\\" style=\\\"stroke:#000000; stroke-width:4; stroke-opacity:1; fill:none\\\" points=\\\"\\n  1676.82,673.248 1767.8,620.717 \\n  \\\"\\/>\\n<polyline clip-path=\\\"url(#clip4402)\\\" style=\\\"stroke:#000000; stroke-width:4; stroke-opacity:1; fill:none\\\" points=\\\"\\n  1723.28,706.658 1771.27,685.292 \\n  \\\"\\/>\\n<polyline clip-path=\\\"url(#clip4402)\\\" style=\\\"stroke:#000000; stroke-width:4; stroke-opacity:1; fill:none\\\" points=\\\"\\n  1742,755.424 1791.96,739.191 \\n  \\\"\\/>\\n<polyline clip-path=\\\"url(#clip4402)\\\" style=\\\"stroke:#000000; stroke-width:4; stroke-opacity:1; fill:none\\\" points=\\\"\\n  1755.52,805.88 1806.9,794.958 \\n  \\\"\\/>\\n<polyline clip-path=\\\"url(#clip4402)\\\" style=\\\"stroke:#000000; stroke-width:4; stroke-opacity:1; fill:none\\\" points=\\\"\\n  1763.69,857.472 1815.93,851.981 \\n  \\\"\\/>\\n<polyline clip-path=\\\"url(#clip4402)\\\" style=\\\"stroke:#000000; stroke-width:4; stroke-opacity:1; fill:none\\\" points=\\\"\\n  1740.16,909.636 1845.22,909.636 \\n  \\\"\\/>\\n<polyline clip-path=\\\"url(#clip4402)\\\" style=\\\"stroke:#000000; stroke-width:4; stroke-opacity:1; fill:none\\\" points=\\\"\\n  1763.69,961.801 1815.93,967.292 \\n  \\\"\\/>\\n<polyline clip-path=\\\"url(#clip4402)\\\" style=\\\"stroke:#000000; stroke-width:4; stroke-opacity:1; fill:none\\\" points=\\\"\\n  1755.52,1013.39 1806.9,1024.31 \\n  \\\"\\/>\\n<polyline clip-path=\\\"url(#clip4402)\\\" style=\\\"stroke:#000000; stroke-width:4; stroke-opacity:1; fill:none\\\" points=\\\"\\n  1742,1063.85 1791.96,1080.08 \\n  \\\"\\/>\\n<polyline clip-path=\\\"url(#clip4402)\\\" style=\\\"stroke:#000000; stroke-width:4; stroke-opacity:1; fill:none\\\" points=\\\"\\n  1723.28,1112.62 1771.27,1133.98 \\n  \\\"\\/>\\n<polyline clip-path=\\\"url(#clip4402)\\\" style=\\\"stroke:#000000; stroke-width:4; stroke-opacity:1; fill:none\\\" points=\\\"\\n  1676.82,1146.02 1767.8,1198.56 \\n  \\\"\\/>\\n<polyline clip-path=\\\"url(#clip4402)\\\" style=\\\"stroke:#000000; stroke-width:4; stroke-opacity:1; fill:none\\\" points=\\\"\\n  1671.12,1202.97 1713.61,1233.84 \\n  \\\"\\/>\\n<polyline clip-path=\\\"url(#clip4402)\\\" style=\\\"stroke:#000000; stroke-width:4; stroke-opacity:1; fill:none\\\" points=\\\"\\n  1638.24,1243.56 1677.28,1278.71 \\n  \\\"\\/>\\n<polyline clip-path=\\\"url(#clip4402)\\\" style=\\\"stroke:#000000; stroke-width:4; stroke-opacity:1; fill:none\\\" points=\\\"\\n  1601.31,1280.5 1636.46,1319.53 \\n  \\\"\\/>\\n<polyline clip-path=\\\"url(#clip4402)\\\" style=\\\"stroke:#000000; stroke-width:4; stroke-opacity:1; fill:none\\\" points=\\\"\\n  1560.71,1313.37 1591.59,1355.87 \\n  \\\"\\/>\\n<polyline clip-path=\\\"url(#clip4402)\\\" style=\\\"stroke:#000000; stroke-width:4; stroke-opacity:1; fill:none\\\" points=\\\"\\n  1503.77,1319.07 1556.3,1410.06 \\n  \\\"\\/>\\n<polyline clip-path=\\\"url(#clip4402)\\\" style=\\\"stroke:#000000; stroke-width:4; stroke-opacity:1; fill:none\\\" points=\\\"\\n  1470.36,1365.53 1491.73,1413.52 \\n  \\\"\\/>\\n<polyline clip-path=\\\"url(#clip4402)\\\" style=\\\"stroke:#000000; stroke-width:4; stroke-opacity:1; fill:none\\\" points=\\\"\\n  1421.59,1384.25 1437.83,1434.21 \\n  \\\"\\/>\\n<polyline clip-path=\\\"url(#clip4402)\\\" style=\\\"stroke:#000000; stroke-width:4; stroke-opacity:1; fill:none\\\" points=\\\"\\n  1371.14,1397.77 1382.06,1449.16 \\n  \\\"\\/>\\n<polyline clip-path=\\\"url(#clip4402)\\\" style=\\\"stroke:#000000; stroke-width:4; stroke-opacity:1; fill:none\\\" points=\\\"\\n  1319.55,1405.94 1325.04,1458.19 \\n  \\\"\\/>\\n<polyline clip-path=\\\"url(#clip4402)\\\" style=\\\"stroke:#000000; stroke-width:4; stroke-opacity:1; fill:none\\\" points=\\\"\\n  1267.38,1382.41 1267.38,1487.47 \\n  \\\"\\/>\\n<polyline clip-path=\\\"url(#clip4402)\\\" style=\\\"stroke:#000000; stroke-width:4; stroke-opacity:1; fill:none\\\" points=\\\"\\n  1215.22,1405.94 1209.73,1458.19 \\n  \\\"\\/>\\n<polyline clip-path=\\\"url(#clip4402)\\\" style=\\\"stroke:#000000; stroke-width:4; stroke-opacity:1; fill:none\\\" points=\\\"\\n  1163.63,1397.77 1152.7,1449.16 \\n  \\\"\\/>\\n<polyline clip-path=\\\"url(#clip4402)\\\" style=\\\"stroke:#000000; stroke-width:4; stroke-opacity:1; fill:none\\\" points=\\\"\\n  1113.17,1384.25 1096.94,1434.21 \\n  \\\"\\/>\\n<polyline clip-path=\\\"url(#clip4402)\\\" style=\\\"stroke:#000000; stroke-width:4; stroke-opacity:1; fill:none\\\" points=\\\"\\n  1064.4,1365.53 1043.04,1413.52 \\n  \\\"\\/>\\n<polyline clip-path=\\\"url(#clip4402)\\\" style=\\\"stroke:#000000; stroke-width:4; stroke-opacity:1; fill:none\\\" points=\\\"\\n  1030.99,1319.07 978.463,1410.06 \\n  \\\"\\/>\\n<polyline clip-path=\\\"url(#clip4402)\\\" style=\\\"stroke:#000000; stroke-width:4; stroke-opacity:1; fill:none\\\" points=\\\"\\n  974.052,1313.37 943.176,1355.87 \\n  \\\"\\/>\\n<polyline clip-path=\\\"url(#clip4402)\\\" style=\\\"stroke:#000000; stroke-width:4; stroke-opacity:1; fill:none\\\" points=\\\"\\n  933.458,1280.5 898.308,1319.53 \\n  \\\"\\/>\\n<polyline clip-path=\\\"url(#clip4402)\\\" style=\\\"stroke:#000000; stroke-width:4; stroke-opacity:1; fill:none\\\" points=\\\"\\n  896.521,1243.56 857.483,1278.71 \\n  \\\"\\/>\\n<polyline clip-path=\\\"url(#clip4402)\\\" style=\\\"stroke:#000000; stroke-width:4; stroke-opacity:1; fill:none\\\" points=\\\"\\n  863.648,1202.97 821.15,1233.84 \\n  \\\"\\/>\\n<polyline clip-path=\\\"url(#clip4402)\\\" style=\\\"stroke:#000000; stroke-width:4; stroke-opacity:1; fill:none\\\" points=\\\"\\n  857.945,1146.02 766.959,1198.56 \\n  \\\"\\/>\\n<polyline clip-path=\\\"url(#clip4402)\\\" style=\\\"stroke:#000000; stroke-width:4; stroke-opacity:1; fill:none\\\" points=\\\"\\n  811.484,1112.62 763.495,1133.98 \\n  \\\"\\/>\\n<polyline clip-path=\\\"url(#clip4402)\\\" style=\\\"stroke:#000000; stroke-width:4; stroke-opacity:1; fill:none\\\" points=\\\"\\n  792.765,1063.85 742.805,1080.08 \\n  \\\"\\/>\\n<polyline clip-path=\\\"url(#clip4402)\\\" style=\\\"stroke:#000000; stroke-width:4; stroke-opacity:1; fill:none\\\" points=\\\"\\n  779.245,1013.39 727.862,1024.31 \\n  \\\"\\/>\\n<polyline clip-path=\\\"url(#clip4402)\\\" style=\\\"stroke:#000000; stroke-width:4; stroke-opacity:1; fill:none\\\" points=\\\"\\n  771.074,961.801 718.831,967.292 \\n  \\\"\\/>\\n<polyline clip-path=\\\"url(#clip4402)\\\" style=\\\"stroke:#000000; stroke-width:4; stroke-opacity:1; fill:none\\\" points=\\\"\\n  794.605,909.636 689.544,909.636 \\n  \\\"\\/>\\n<polyline clip-path=\\\"url(#clip4402)\\\" style=\\\"stroke:#000000; stroke-width:4; stroke-opacity:1; fill:none\\\" points=\\\"\\n  771.074,857.472 718.831,851.981 \\n  \\\"\\/>\\n<polyline clip-path=\\\"url(#clip4402)\\\" style=\\\"stroke:#000000; stroke-width:4; stroke-opacity:1; fill:none\\\" points=\\\"\\n  779.245,805.88 727.862,794.958 \\n  \\\"\\/>\\n<polyline clip-path=\\\"url(#clip4402)\\\" style=\\\"stroke:#000000; stroke-width:4; stroke-opacity:1; fill:none\\\" points=\\\"\\n  792.765,755.424 742.805,739.191 \\n  \\\"\\/>\\n<polyline clip-path=\\\"url(#clip4402)\\\" style=\\\"stroke:#000000; stroke-width:4; stroke-opacity:1; fill:none\\\" points=\\\"\\n  811.484,706.658 763.495,685.292 \\n  \\\"\\/>\\n<polyline clip-path=\\\"url(#clip4402)\\\" style=\\\"stroke:#000000; stroke-width:4; stroke-opacity:1; fill:none\\\" points=\\\"\\n  857.945,673.248 766.959,620.717 \\n  \\\"\\/>\\n<polyline clip-path=\\\"url(#clip4402)\\\" style=\\\"stroke:#000000; stroke-width:4; stroke-opacity:1; fill:none\\\" points=\\\"\\n  863.648,616.307 821.15,585.43 \\n  \\\"\\/>\\n<polyline clip-path=\\\"url(#clip4402)\\\" style=\\\"stroke:#000000; stroke-width:4; stroke-opacity:1; fill:none\\\" points=\\\"\\n  896.521,575.712 857.483,540.562 \\n  \\\"\\/>\\n<polyline clip-path=\\\"url(#clip4402)\\\" style=\\\"stroke:#000000; stroke-width:4; stroke-opacity:1; fill:none\\\" points=\\\"\\n  933.458,538.776 898.308,499.738 \\n  \\\"\\/>\\n<polyline clip-path=\\\"url(#clip4402)\\\" style=\\\"stroke:#000000; stroke-width:4; stroke-opacity:1; fill:none\\\" points=\\\"\\n  974.052,505.903 943.176,463.405 \\n  \\\"\\/>\\n<polyline clip-path=\\\"url(#clip4402)\\\" style=\\\"stroke:#000000; stroke-width:4; stroke-opacity:1; fill:none\\\" points=\\\"\\n  1030.99,500.2 978.463,409.214 \\n  \\\"\\/>\\n<polyline clip-path=\\\"url(#clip4402)\\\" style=\\\"stroke:#000000; stroke-width:4; stroke-opacity:1; fill:none\\\" points=\\\"\\n  1064.4,453.739 1043.04,405.75 \\n  \\\"\\/>\\n<polyline clip-path=\\\"url(#clip4402)\\\" style=\\\"stroke:#000000; stroke-width:4; stroke-opacity:1; fill:none\\\" points=\\\"\\n  1113.17,435.019 1096.94,385.059 \\n  \\\"\\/>\\n<polyline clip-path=\\\"url(#clip4402)\\\" style=\\\"stroke:#000000; stroke-width:4; stroke-opacity:1; fill:none\\\" points=\\\"\\n  1163.63,421.5 1152.7,370.117 \\n  \\\"\\/>\\n<polyline clip-path=\\\"url(#clip4402)\\\" style=\\\"stroke:#000000; stroke-width:4; stroke-opacity:1; fill:none\\\" points=\\\"\\n  1215.22,413.328 1209.73,361.085 \\n  \\\"\\/>\\n<g clip-path=\\\"url(#clip4400)\\\">\\n<text style=\\\"fill:#000000; fill-opacity:1; font-family:Arial,Helvetica Neue,Helvetica,sans-serif; font-size:84px; text-anchor:middle;\\\" transform=\\\"rotate(0, 1267.38, 309.767)\\\" x=\\\"1267.38\\\" y=\\\"309.767\\\">0<\\/text>\\n<\\/g>\\n<g clip-path=\\\"url(#clip4400)\\\">\\n<text style=\\\"fill:#000000; fill-opacity:1; font-family:Arial,Helvetica Neue,Helvetica,sans-serif; font-size:84px; text-anchor:middle;\\\" transform=\\\"rotate(0, 1582.57, 394.221)\\\" x=\\\"1582.57\\\" y=\\\"394.221\\\">5<\\/text>\\n<\\/g>\\n<g clip-path=\\\"url(#clip4400)\\\">\\n<text style=\\\"fill:#000000; fill-opacity:1; font-family:Arial,Helvetica Neue,Helvetica,sans-serif; font-size:84px; text-anchor:middle;\\\" transform=\\\"rotate(0, 1813.3, 624.952)\\\" x=\\\"1813.3\\\" y=\\\"624.952\\\">10<\\/text>\\n<\\/g>\\n<g clip-path=\\\"url(#clip4400)\\\">\\n<text style=\\\"fill:#000000; fill-opacity:1; font-family:Arial,Helvetica Neue,Helvetica,sans-serif; font-size:84px; text-anchor:middle;\\\" transform=\\\"rotate(0, 1897.75, 940.136)\\\" x=\\\"1897.75\\\" y=\\\"940.136\\\">15<\\/text>\\n<\\/g>\\n<g clip-path=\\\"url(#clip4400)\\\">\\n<text style=\\\"fill:#000000; fill-opacity:1; font-family:Arial,Helvetica Neue,Helvetica,sans-serif; font-size:84px; text-anchor:middle;\\\" transform=\\\"rotate(0, 1813.3, 1255.32)\\\" x=\\\"1813.3\\\" y=\\\"1255.32\\\">20<\\/text>\\n<\\/g>\\n<g clip-path=\\\"url(#clip4400)\\\">\\n<text style=\\\"fill:#000000; fill-opacity:1; font-family:Arial,Helvetica Neue,Helvetica,sans-serif; font-size:84px; text-anchor:middle;\\\" transform=\\\"rotate(0, 1582.57, 1486.05)\\\" x=\\\"1582.57\\\" y=\\\"1486.05\\\">25<\\/text>\\n<\\/g>\\n<g clip-path=\\\"url(#clip4400)\\\">\\n<text style=\\\"fill:#000000; fill-opacity:1; font-family:Arial,Helvetica Neue,Helvetica,sans-serif; font-size:84px; text-anchor:middle;\\\" transform=\\\"rotate(0, 1267.38, 1570.51)\\\" x=\\\"1267.38\\\" y=\\\"1570.51\\\">30<\\/text>\\n<\\/g>\\n<g clip-path=\\\"url(#clip4400)\\\">\\n<text style=\\\"fill:#000000; fill-opacity:1; font-family:Arial,Helvetica Neue,Helvetica,sans-serif; font-size:84px; text-anchor:middle;\\\" transform=\\\"rotate(0, 952.197, 1486.05)\\\" x=\\\"952.197\\\" y=\\\"1486.05\\\">35<\\/text>\\n<\\/g>\\n<g clip-path=\\\"url(#clip4400)\\\">\\n<text style=\\\"fill:#000000; fill-opacity:1; font-family:Arial,Helvetica Neue,Helvetica,sans-serif; font-size:84px; text-anchor:middle;\\\" transform=\\\"rotate(0, 721.466, 1255.32)\\\" x=\\\"721.466\\\" y=\\\"1255.32\\\">40<\\/text>\\n<\\/g>\\n<g clip-path=\\\"url(#clip4400)\\\">\\n<text style=\\\"fill:#000000; fill-opacity:1; font-family:Arial,Helvetica Neue,Helvetica,sans-serif; font-size:84px; text-anchor:middle;\\\" transform=\\\"rotate(0, 637.013, 940.136)\\\" x=\\\"637.013\\\" y=\\\"940.136\\\">45<\\/text>\\n<\\/g>\\n<g clip-path=\\\"url(#clip4400)\\\">\\n<text style=\\\"fill:#000000; fill-opacity:1; font-family:Arial,Helvetica Neue,Helvetica,sans-serif; font-size:84px; text-anchor:middle;\\\" transform=\\\"rotate(0, 721.466, 624.952)\\\" x=\\\"721.466\\\" y=\\\"624.952\\\">50<\\/text>\\n<\\/g>\\n<g clip-path=\\\"url(#clip4400)\\\">\\n<text style=\\\"fill:#000000; fill-opacity:1; font-family:Arial,Helvetica Neue,Helvetica,sans-serif; font-size:84px; text-anchor:middle;\\\" transform=\\\"rotate(0, 952.197, 394.221)\\\" x=\\\"952.197\\\" y=\\\"394.221\\\">55<\\/text>\\n<\\/g>\\n<\\/svg>\\n\"},\"nodeType\":\"DOM\",\"type\":\"node\",\"instanceArgs\":{\"namespace\":\"html\",\"tag\":\"div\"},\"children\":[]}]}]},\n",
       "            window,\n",
       "        );\n",
       "    } else {\n",
       "        document\n",
       "            .querySelector('[data-webio-mountpoint=\"5215448392410621285\"]')\n",
       "            .innerHTML = '<strong>WebIO not detected.</strong>';\n",
       "    }\n",
       "    </script>\n",
       "</div>\n"
      ],
      "text/plain": [
       "(div { style=Dict(\"display\"=>\"flex\",\"flex-direction\"=>\"column\") }\n",
       "  (div { style=Dict(\"display\"=>\"flex\",\"flex-direction\"=>\"row\") }\n",
       "    (div { className=\"field interact-widget\" }\n",
       "            (button { attributes=Dict{Any,Any}(\"data-bind\"=>\"click: function (){this.clicks(this.clicks()+1)}, css: {'is-loading' : loading}\") className=\"is-medium button is-primary\" style=Dict{String,Any}() }\n",
       "        \"-10\"))\n",
       "    (div { className=\"field interact-widget\" }\n",
       "            (button { attributes=Dict{Any,Any}(\"data-bind\"=>\"click: function (){this.clicks(this.clicks()+1)}, css: {'is-loading' : loading}\") className=\"is-medium button is-primary\" style=Dict{String,Any}() }\n",
       "        \"-\"))\n",
       "    (Scope(Node{WebIO.ObservableNode}(WebIO.ObservableNode(\"ob_13\", \"obs-node\"), Any[], Dict{Symbol,Any}()), Dict{String,Tuple{Observables.AbstractObservable,Union{Nothing, Bool}}}(\"obs-node\"=>(Observable{Node{WebIO.DOM}} with 1 listeners. Value:\n",
       "Node{DOM}(DOM(:html, :label), Any[\"5\"], Dict{Symbol,Any}(:className=>\"interact \",:style=>Dict{Any,Any}(:padding=>\"5px 10px 0px 10px\"))), nothing)), Set(String[]), nothing, Asset[], Dict{Any,Any}(), WebIO.ConnectionPool(Channel{Any}(sz_max:9223372036854775807,sz_curr:0), Set(AbstractConnection[]), Channel{AbstractConnection}(sz_max:32,sz_curr:0)), WebIO.JSString[]):\n",
       "      (WebIO.ObservableNode(\"ob_13\", \"obs-node\"):))\n",
       "    (div { className=\"field interact-widget\" }\n",
       "            (button { attributes=Dict{Any,Any}(\"data-bind\"=>\"click: function (){this.clicks(this.clicks()+1)}, css: {'is-loading' : loading}\") className=\"is-medium button is-primary\" style=Dict{String,Any}() }\n",
       "        \"+\"))\n",
       "    (div { className=\"field interact-widget\" }\n",
       "            (button { attributes=Dict{Any,Any}(\"data-bind\"=>\"click: function (){this.clicks(this.clicks()+1)}, css: {'is-loading' : loading}\") className=\"is-medium button is-primary\" style=Dict{String,Any}() }\n",
       "        \"+10\"))\n",
       "    (div { className=\"field interact-widget\" }\n",
       "            (button { attributes=Dict{Any,Any}(\"data-bind\"=>\"click: function (){this.clicks(this.clicks()+1)}, css: {'is-loading' : loading}\") className=\"is-medium button is-primary\" style=Dict{String,Any}() }\n",
       "        \"Start\")))\n",
       "  (Scope(Node{WebIO.DOM}(WebIO.DOM(:html, :div), Any[], Dict{Symbol,Any}(:className=>\"webio-observable\",:setInnerHtml=>\"<?xml version=\\\"1.0\\\" encoding=\\\"utf-8\\\"?>\\n<svg xmlns=\\\"http://www.w3.org/2000/svg\\\" xmlns:xlink=\\\"http://www.w3.org/1999/xlink\\\" width=\\\"600\\\" height=\\\"400\\\" viewBox=\\\"0 0 2400 1600\\\">\\n<defs>\\n  <clipPath id=\\\"clip4400\\\">\\n    <rect x=\\\"0\\\" y=\\\"0\\\" width=\\\"2400\\\" height=\\\"1600\\\"/>\\n  </clipPath>\\n</defs>\\n<polygon clip-path=\\\"url(#clip4400)\\\" points=\\\"\\n0,1600 2400,1600 2400,0 0,0 \\n  \\\" fill=\\\"#ffffff\\\" fill-rule=\\\"evenodd\\\" fill-opacity=\\\"1\\\"/>\\n<defs>\\n  <clipPath id=\\\"clip4401\\\">\\n    <rect x=\\\"480\\\" y=\\\"0\\\" width=\\\"1681\\\" height=\\\"1600\\\"/>\\n  </clipPath>\\n</defs>\\n<polygon clip-path=\\\"url(#clip4400)\\\" points=\\\"\\n689.544,1487.47 1845.22,1487.47 1845.22,121.675 689.544,121.675 \\n  \\\" fill=\\\"#ffffff\\\" fill-rule=\\\"evenodd\\\" fill-opacity=\\\"1\\\"/>\\n<defs>\\n  <clipPath id=\\\"clip4402\\\">\\n    <rect x=\\\"689\\\" y=\\\"121\\\" width=\\\"1157\\\" height=\\\"1367\\\"/>\\n  </clipPath>\\n</defs>\\n<g clip-path=\\\"url(#clip4400)\\\">\\n<text style=\\\"fill:#000000; fill-opacity:1; font-family:Arial,Helvetica Neue,Helvetica,sans-serif; font-size:84px; text-anchor:middle;\\\" transform=\\\"rotate(0, 1267.38, 73.2)\\\" x=\\\"1267.38\\\" y=\\\"73.2\\\">0 [s]</text>\\n</g>\\n<polyline clip-path=\\\"url(#clip4402)\\\" style=\\\"stroke:#000000; stroke-width:16; stroke-opacity:0.5; fill:none\\\" points=\\\"\\n  1267.38,909.636 1267.38,384.329 \\n  \\\"/>\\n<polyline clip-path=\\\"url(#clip4402)\\\" style=\\\"stroke:#000000; stroke-width:16; stroke-opacity:0.5; fill:none\\\" points=\\\"\\n  1249.38,420.329 1267.38,384.329 1285.38,420.329 \\n  \\\"/>\\n<polyline clip-path=\\\"url(#clip4402)\\\" style=\\\"stroke:#000000; stroke-width:16; stroke-opacity:0.5; fill:none\\\" points=\\\"\\n  1267.38,384.329 1267.38,909.636 \\n  \\\"/>\\n<polyline clip-path=\\\"url(#clip4402)\\\" style=\\\"stroke:#000000; stroke-width:4; stroke-opacity:1; fill:none\\\" points=\\\"\\n  1267.38,436.86 1267.38,331.798 \\n  \\\"/>\\n<polyline clip-path=\\\"url(#clip4402)\\\" style=\\\"stroke:#000000; stroke-width:4; stroke-opacity:1; fill:none\\\" points=\\\"\\n  1319.55,413.328 1325.04,361.085 \\n  \\\"/>\\n<polyline clip-path=\\\"url(#clip4402)\\\" style=\\\"stroke:#000000; stroke-width:4; stroke-opacity:1; fill:none\\\" points=\\\"\\n  1371.14,421.5 1382.06,370.117 \\n  \\\"/>\\n<polyline clip-path=\\\"url(#clip4402)\\\" style=\\\"stroke:#000000; stroke-width:4; stroke-opacity:1; fill:none\\\" points=\\\"\\n  1421.59,435.019 1437.83,385.059 \\n  \\\"/>\\n<polyline clip-path=\\\"url(#clip4402)\\\" style=\\\"stroke:#000000; stroke-width:4; stroke-opacity:1; fill:none\\\" points=\\\"\\n  1470.36,453.739 1491.73,405.75 \\n  \\\"/>\\n<polyline clip-path=\\\"url(#clip4402)\\\" style=\\\"stroke:#000000; stroke-width:4; stroke-opacity:1; fill:none\\\" points=\\\"\\n  1503.77,500.2 1556.3,409.214 \\n  \\\"/>\\n<polyline clip-path=\\\"url(#clip4402)\\\" style=\\\"stroke:#000000; stroke-width:4; stroke-opacity:1; fill:none\\\" points=\\\"\\n  1560.71,505.903 1591.59,463.405 \\n  \\\"/>\\n<polyline clip-path=\\\"url(#clip4402)\\\" style=\\\"stroke:#000000; stroke-width:4; stroke-opacity:1; fill:none\\\" points=\\\"\\n  1601.31,538.776 1636.46,499.738 \\n  \\\"/>\\n<polyline clip-path=\\\"url(#clip4402)\\\" style=\\\"stroke:#000000; stroke-width:4; stroke-opacity:1; fill:none\\\" points=\\\"\\n  1638.24,575.712 1677.28,540.562 \\n  \\\"/>\\n<polyline clip-path=\\\"url(#clip4402)\\\" style=\\\"stroke:#000000; stroke-width:4; stroke-opacity:1; fill:none\\\" points=\\\"\\n  1671.12,616.307 1713.61,585.43 \\n  \\\"/>\\n<polyline clip-path=\\\"url(#clip4402)\\\" style=\\\"stroke:#000000; stroke-width:4; stroke-opacity:1; fill:none\\\" points=\\\"\\n  1676.82,673.248 1767.8,620.717 \\n  \\\"/>\\n<polyline clip-path=\\\"url(#clip4402)\\\" style=\\\"stroke:#000000; stroke-width:4; stroke-opacity:1; fill:none\\\" points=\\\"\\n  1723.28,706.658 1771.27,685.292 \\n  \\\"/>\\n<polyline clip-path=\\\"url(#clip4402)\\\" style=\\\"stroke:#000000; stroke-width:4; stroke-opacity:1; fill:none\\\" points=\\\"\\n  1742,755.424 1791.96,739.191 \\n  \\\"/>\\n<polyline clip-path=\\\"url(#clip4402)\\\" style=\\\"stroke:#000000; stroke-width:4; stroke-opacity:1; fill:none\\\" points=\\\"\\n  1755.52,805.88 1806.9,794.958 \\n  \\\"/>\\n<polyline clip-path=\\\"url(#clip4402)\\\" style=\\\"stroke:#000000; stroke-width:4; stroke-opacity:1; fill:none\\\" points=\\\"\\n  1763.69,857.472 1815.93,851.981 \\n  \\\"/>\\n<polyline clip-path=\\\"url(#clip4402)\\\" style=\\\"stroke:#000000; stroke-width:4; stroke-opacity:1; fill:none\\\" points=\\\"\\n  1740.16,909.636 1845.22,909.636 \\n  \\\"/>\\n<polyline clip-path=\\\"url(#clip4402)\\\" style=\\\"stroke:#000000; stroke-width:4; stroke-opacity:1; fill:none\\\" points=\\\"\\n  1763.69,961.801 1815.93,967.292 \\n  \\\"/>\\n<polyline clip-path=\\\"url(#clip4402)\\\" style=\\\"stroke:#000000; stroke-width:4; stroke-opacity:1; fill:none\\\" points=\\\"\\n  1755.52,1013.39 1806.9,1024.31 \\n  \\\"/>\\n<polyline clip-path=\\\"url(#clip4402)\\\" style=\\\"stroke:#000000; stroke-width:4; stroke-opacity:1; fill:none\\\" points=\\\"\\n  1742,1063.85 1791.96,1080.08 \\n  \\\"/>\\n<polyline clip-path=\\\"url(#clip4402)\\\" style=\\\"stroke:#000000; stroke-width:4; stroke-opacity:1; fill:none\\\" points=\\\"\\n  1723.28,1112.62 1771.27,1133.98 \\n  \\\"/>\\n<polyline clip-path=\\\"url(#clip4402)\\\" style=\\\"stroke:#000000; stroke-width:4; stroke-opacity:1; fill:none\\\" points=\\\"\\n  1676.82,1146.02 1767.8,1198.56 \\n  \\\"/>\\n<polyline clip-path=\\\"url(#clip4402)\\\" style=\\\"stroke:#000000; stroke-width:4; stroke-opacity:1; fill:none\\\" points=\\\"\\n  1671.12,1202.97 1713.61,1233.84 \\n  \\\"/>\\n<polyline clip-path=\\\"url(#clip4402)\\\" style=\\\"stroke:#000000; stroke-width:4; stroke-opacity:1; fill:none\\\" points=\\\"\\n  1638.24,1243.56 1677.28,1278.71 \\n  \\\"/>\\n<polyline clip-path=\\\"url(#clip4402)\\\" style=\\\"stroke:#000000; stroke-width:4; stroke-opacity:1; fill:none\\\" points=\\\"\\n  1601.31,1280.5 1636.46,1319.53 \\n  \\\"/>\\n<polyline clip-path=\\\"url(#clip4402)\\\" style=\\\"stroke:#000000; stroke-width:4; stroke-opacity:1; fill:none\\\" points=\\\"\\n  1560.71,1313.37 1591.59,1355.87 \\n  \\\"/>\\n<polyline clip-path=\\\"url(#clip4402)\\\" style=\\\"stroke:#000000; stroke-width:4; stroke-opacity:1; fill:none\\\" points=\\\"\\n  1503.77,1319.07 1556.3,1410.06 \\n  \\\"/>\\n<polyline clip-path=\\\"url(#clip4402)\\\" style=\\\"stroke:#000000; stroke-width:4; stroke-opacity:1; fill:none\\\" points=\\\"\\n  1470.36,1365.53 1491.73,1413.52 \\n  \\\"/>\\n<polyline clip-path=\\\"url(#clip4402)\\\" style=\\\"stroke:#000000; stroke-width:4; stroke-opacity:1; fill:none\\\" points=\\\"\\n  1421.59,1384.25 1437.83,1434.21 \\n  \\\"/>\\n<polyline clip-path=\\\"url(#clip4402)\\\" style=\\\"stroke:#000000; stroke-width:4; stroke-opacity:1; fill:none\\\" points=\\\"\\n  1371.14,1397.77 1382.06,1449.16 \\n  \\\"/>\\n<polyline clip-path=\\\"url(#clip4402)\\\" style=\\\"stroke:#000000; stroke-width:4; stroke-opacity:1; fill:none\\\" points=\\\"\\n  1319.55,1405.94 1325.04,1458.19 \\n  \\\"/>\\n<polyline clip-path=\\\"url(#clip4402)\\\" style=\\\"stroke:#000000; stroke-width:4; stroke-opacity:1; fill:none\\\" points=\\\"\\n  1267.38,1382.41 1267.38,1487.47 \\n  \\\"/>\\n<polyline clip-path=\\\"url(#clip4402)\\\" style=\\\"stroke:#000000; stroke-width:4; stroke-opacity:1; fill:none\\\" points=\\\"\\n  1215.22,1405.94 1209.73,1458.19 \\n  \\\"/>\\n<polyline clip-path=\\\"url(#clip4402)\\\" style=\\\"stroke:#000000; stroke-width:4; stroke-opacity:1; fill:none\\\" points=\\\"\\n  1163.63,1397.77 1152.7,1449.16 \\n  \\\"/>\\n<polyline clip-path=\\\"url(#clip4402)\\\" style=\\\"stroke:#000000; stroke-width:4; stroke-opacity:1; fill:none\\\" points=\\\"\\n  1113.17,1384.25 1096.94,1434.21 \\n  \\\"/>\\n<polyline clip-path=\\\"url(#clip4402)\\\" style=\\\"stroke:#000000; stroke-width:4; stroke-opacity:1; fill:none\\\" points=\\\"\\n  1064.4,1365.53 1043.04,1413.52 \\n  \\\"/>\\n<polyline clip-path=\\\"url(#clip4402)\\\" style=\\\"stroke:#000000; stroke-width:4; stroke-opacity:1; fill:none\\\" points=\\\"\\n  1030.99,1319.07 978.463,1410.06 \\n  \\\"/>\\n<polyline clip-path=\\\"url(#clip4402)\\\" style=\\\"stroke:#000000; stroke-width:4; stroke-opacity:1; fill:none\\\" points=\\\"\\n  974.052,1313.37 943.176,1355.87 \\n  \\\"/>\\n<polyline clip-path=\\\"url(#clip4402)\\\" style=\\\"stroke:#000000; stroke-width:4; stroke-opacity:1; fill:none\\\" points=\\\"\\n  933.458,1280.5 898.308,1319.53 \\n  \\\"/>\\n<polyline clip-path=\\\"url(#clip4402)\\\" style=\\\"stroke:#000000; stroke-width:4; stroke-opacity:1; fill:none\\\" points=\\\"\\n  896.521,1243.56 857.483,1278.71 \\n  \\\"/>\\n<polyline clip-path=\\\"url(#clip4402)\\\" style=\\\"stroke:#000000; stroke-width:4; stroke-opacity:1; fill:none\\\" points=\\\"\\n  863.648,1202.97 821.15,1233.84 \\n  \\\"/>\\n<polyline clip-path=\\\"url(#clip4402)\\\" style=\\\"stroke:#000000; stroke-width:4; stroke-opacity:1; fill:none\\\" points=\\\"\\n  857.945,1146.02 766.959,1198.56 \\n  \\\"/>\\n<polyline clip-path=\\\"url(#clip4402)\\\" style=\\\"stroke:#000000; stroke-width:4; stroke-opacity:1; fill:none\\\" points=\\\"\\n  811.484,1112.62 763.495,1133.98 \\n  \\\"/>\\n<polyline clip-path=\\\"url(#clip4402)\\\" style=\\\"stroke:#000000; stroke-width:4; stroke-opacity:1; fill:none\\\" points=\\\"\\n  792.765,1063.85 742.805,1080.08 \\n  \\\"/>\\n<polyline clip-path=\\\"url(#clip4402)\\\" style=\\\"stroke:#000000; stroke-width:4; stroke-opacity:1; fill:none\\\" points=\\\"\\n  779.245,1013.39 727.862,1024.31 \\n  \\\"/>\\n<polyline clip-path=\\\"url(#clip4402)\\\" style=\\\"stroke:#000000; stroke-width:4; stroke-opacity:1; fill:none\\\" points=\\\"\\n  771.074,961.801 718.831,967.292 \\n  \\\"/>\\n<polyline clip-path=\\\"url(#clip4402)\\\" style=\\\"stroke:#000000; stroke-width:4; stroke-opacity:1; fill:none\\\" points=\\\"\\n  794.605,909.636 689.544,909.636 \\n  \\\"/>\\n<polyline clip-path=\\\"url(#clip4402)\\\" style=\\\"stroke:#000000; stroke-width:4; stroke-opacity:1; fill:none\\\" points=\\\"\\n  771.074,857.472 718.831,851.981 \\n  \\\"/>\\n<polyline clip-path=\\\"url(#clip4402)\\\" style=\\\"stroke:#000000; stroke-width:4; stroke-opacity:1; fill:none\\\" points=\\\"\\n  779.245,805.88 727.862,794.958 \\n  \\\"/>\\n<polyline clip-path=\\\"url(#clip4402)\\\" style=\\\"stroke:#000000; stroke-width:4; stroke-opacity:1; fill:none\\\" points=\\\"\\n  792.765,755.424 742.805,739.191 \\n  \\\"/>\\n<polyline clip-path=\\\"url(#clip4402)\\\" style=\\\"stroke:#000000; stroke-width:4; stroke-opacity:1; fill:none\\\" points=\\\"\\n  811.484,706.658 763.495,685.292 \\n  \\\"/>\\n<polyline clip-path=\\\"url(#clip4402)\\\" style=\\\"stroke:#000000; stroke-width:4; stroke-opacity:1; fill:none\\\" points=\\\"\\n  857.945,673.248 766.959,620.717 \\n  \\\"/>\\n<polyline clip-path=\\\"url(#clip4402)\\\" style=\\\"stroke:#000000; stroke-width:4; stroke-opacity:1; fill:none\\\" points=\\\"\\n  863.648,616.307 821.15,585.43 \\n  \\\"/>\\n<polyline clip-path=\\\"url(#clip4402)\\\" style=\\\"stroke:#000000; stroke-width:4; stroke-opacity:1; fill:none\\\" points=\\\"\\n  896.521,575.712 857.483,540.562 \\n  \\\"/>\\n<polyline clip-path=\\\"url(#clip4402)\\\" style=\\\"stroke:#000000; stroke-width:4; stroke-opacity:1; fill:none\\\" points=\\\"\\n  933.458,538.776 898.308,499.738 \\n  \\\"/>\\n<polyline clip-path=\\\"url(#clip4402)\\\" style=\\\"stroke:#000000; stroke-width:4; stroke-opacity:1; fill:none\\\" points=\\\"\\n  974.052,505.903 943.176,463.405 \\n  \\\"/>\\n<polyline clip-path=\\\"url(#clip4402)\\\" style=\\\"stroke:#000000; stroke-width:4; stroke-opacity:1; fill:none\\\" points=\\\"\\n  1030.99,500.2 978.463,409.214 \\n  \\\"/>\\n<polyline clip-path=\\\"url(#clip4402)\\\" style=\\\"stroke:#000000; stroke-width:4; stroke-opacity:1; fill:none\\\" points=\\\"\\n  1064.4,453.739 1043.04,405.75 \\n  \\\"/>\\n<polyline clip-path=\\\"url(#clip4402)\\\" style=\\\"stroke:#000000; stroke-width:4; stroke-opacity:1; fill:none\\\" points=\\\"\\n  1113.17,435.019 1096.94,385.059 \\n  \\\"/>\\n<polyline clip-path=\\\"url(#clip4402)\\\" style=\\\"stroke:#000000; stroke-width:4; stroke-opacity:1; fill:none\\\" points=\\\"\\n  1163.63,421.5 1152.7,370.117 \\n  \\\"/>\\n<polyline clip-path=\\\"url(#clip4402)\\\" style=\\\"stroke:#000000; stroke-width:4; stroke-opacity:1; fill:none\\\" points=\\\"\\n  1215.22,413.328 1209.73,361.085 \\n  \\\"/>\\n<g clip-path=\\\"url(#clip4400)\\\">\\n<text style=\\\"fill:#000000; fill-opacity:1; font-family:Arial,Helvetica Neue,Helvetica,sans-serif; font-size:84px; text-anchor:middle;\\\" transform=\\\"rotate(0, 1267.38, 309.767)\\\" x=\\\"1267.38\\\" y=\\\"309.767\\\">0</text>\\n</g>\\n<g clip-path=\\\"url(#clip4400)\\\">\\n<text style=\\\"fill:#000000; fill-opacity:1; font-family:Arial,Helvetica Neue,Helvetica,sans-serif; font-size:84px; text-anchor:middle;\\\" transform=\\\"rotate(0, 1582.57, 394.221)\\\" x=\\\"1582.57\\\" y=\\\"394.221\\\">5</text>\\n</g>\\n<g clip-path=\\\"url(#clip4400)\\\">\\n<text style=\\\"fill:#000000; fill-opacity:1; font-family:Arial,Helvetica Neue,Helvetica,sans-serif; font-size:84px; text-anchor:middle;\\\" transform=\\\"rotate(0, 1813.3, 624.952)\\\" x=\\\"1813.3\\\" y=\\\"624.952\\\">10</text>\\n</g>\\n<g clip-path=\\\"url(#clip4400)\\\">\\n<text style=\\\"fill:#000000; fill-opacity:1; font-family:Arial,Helvetica Neue,Helvetica,sans-serif; font-size:84px; text-anchor:middle;\\\" transform=\\\"rotate(0, 1897.75, 940.136)\\\" x=\\\"1897.75\\\" y=\\\"940.136\\\">15</text>\\n</g>\\n<g clip-path=\\\"url(#clip4400)\\\">\\n<text style=\\\"fill:#000000; fill-opacity:1; font-family:Arial,Helvetica Neue,Helvetica,sans-serif; font-size:84px; text-anchor:middle;\\\" transform=\\\"rotate(0, 1813.3, 1255.32)\\\" x=\\\"1813.3\\\" y=\\\"1255.32\\\">20</text>\\n</g>\\n<g clip-path=\\\"url(#clip4400)\\\">\\n<text style=\\\"fill:#000000; fill-opacity:1; font-family:Arial,Helvetica Neue,Helvetica,sans-serif; font-size:84px; text-anchor:middle;\\\" transform=\\\"rotate(0, 1582.57, 1486.05)\\\" x=\\\"1582.57\\\" y=\\\"1486.05\\\">25</text>\\n</g>\\n<g clip-path=\\\"url(#clip4400)\\\">\\n<text style=\\\"fill:#000000; fill-opacity:1; font-family:Arial,Helvetica Neue,Helvetica,sans-serif; font-size:84px; text-anchor:middle;\\\" transform=\\\"rotate(0, 1267.38, 1570.51)\\\" x=\\\"1267.38\\\" y=\\\"1570.51\\\">30</text>\\n</g>\\n<g clip-path=\\\"url(#clip4400)\\\">\\n<text style=\\\"fill:#000000; fill-opacity:1; font-family:Arial,Helvetica Neue,Helvetica,sans-serif; font-size:84px; text-anchor:middle;\\\" transform=\\\"rotate(0, 952.197, 1486.05)\\\" x=\\\"952.197\\\" y=\\\"1486.05\\\">35</text>\\n</g>\\n<g clip-path=\\\"url(#clip4400)\\\">\\n<text style=\\\"fill:#000000; fill-opacity:1; font-family:Arial,Helvetica Neue,Helvetica,sans-serif; font-size:84px; text-anchor:middle;\\\" transform=\\\"rotate(0, 721.466, 1255.32)\\\" x=\\\"721.466\\\" y=\\\"1255.32\\\">40</text>\\n</g>\\n<g clip-path=\\\"url(#clip4400)\\\">\\n<text style=\\\"fill:#000000; fill-opacity:1; font-family:Arial,Helvetica Neue,Helvetica,sans-serif; font-size:84px; text-anchor:middle;\\\" transform=\\\"rotate(0, 637.013, 940.136)\\\" x=\\\"637.013\\\" y=\\\"940.136\\\">45</text>\\n</g>\\n<g clip-path=\\\"url(#clip4400)\\\">\\n<text style=\\\"fill:#000000; fill-opacity:1; font-family:Arial,Helvetica Neue,Helvetica,sans-serif; font-size:84px; text-anchor:middle;\\\" transform=\\\"rotate(0, 721.466, 624.952)\\\" x=\\\"721.466\\\" y=\\\"624.952\\\">50</text>\\n</g>\\n<g clip-path=\\\"url(#clip4400)\\\">\\n<text style=\\\"fill:#000000; fill-opacity:1; font-family:Arial,Helvetica Neue,Helvetica,sans-serif; font-size:84px; text-anchor:middle;\\\" transform=\\\"rotate(0, 952.197, 394.221)\\\" x=\\\"952.197\\\" y=\\\"394.221\\\">55</text>\\n</g>\\n</svg>\\n\")), Dict{String,Tuple{Observables.AbstractObservable,Union{Nothing, Bool}}}(\"obs-output\"=>(Observable{AbstractString} with 1 listeners. Value:\n",
       "\"<?xml version=\\\"1.0\\\" encoding=\\\"utf-8\\\"?>\\n<svg xmlns=\\\"http://www.w3.org/2000/svg\\\" xmlns:xlink=\\\"http://www.w3.org/1999/xlink\\\" width=\\\"600\\\" height=\\\"400\\\" viewBox=\\\"0 0 2400 1600\\\">\\n<defs>\\n  <clipPath id=\\\"clip4400\\\">\\n    <rect x=\\\"0\\\" y=\\\"0\\\" width=\\\"2400\\\" height=\\\"1600\\\"/>\\n  </clipPath>\\n</defs>\\n<polygon clip-path=\\\"url(#clip4400)\\\" points=\\\"\\n0,1600 2400,1600 2400,0 0,0 \\n  \\\" fill=\\\"#ffffff\\\" fill-rule=\\\"evenodd\\\" fill-opacity=\\\"1\\\"/>\\n<defs>\\n  <clipPath id=\\\"clip4401\\\">\\n    <rect x=\\\"480\\\" y=\\\"0\\\" width=\\\"1681\\\" height=\\\"1600\\\"/>\\n  </clipPath>\\n</defs>\\n<polygon clip-path=\\\"url(#clip4400)\\\" points=\\\"\\n689.544,1487.47 1845.22,1487.47 1845.22,121.675 689.544,121.675 \\n  \\\" fill=\\\"#ffffff\\\" fill-rule=\\\"evenodd\\\" fill-opacity=\\\"1\\\"/>\\n<defs>\\n  <clipPath id=\\\"clip4402\\\">\\n    <rect x=\\\"689\\\" y=\\\"121\\\" width=\\\"1157\\\" height=\\\"1367\\\"/>\\n  </clipPath>\\n</defs>\\n<g clip-path=\\\"url(#clip4400)\\\">\\n<text style=\\\"fill:#000000; fill-opacity:1; font-family:Arial,Helvetica Neue,Helvetica,sans-serif; font-size:84px; text-anchor:middle;\\\" transform=\\\"rotate(0, 1267.38, 73.2)\\\" x=\\\"1267.38\\\" y=\\\"73.2\\\">0 [s]</text>\\n</g>\\n<polyline clip-path=\\\"url(#clip4402)\\\" style=\\\"stroke:#000000; stroke-width:16; stroke-opacity:0.5; fill:none\\\" points=\\\"\\n  1267.38,909.636 1267.38,384.329 \\n  \\\"/>\\n<polyline clip-path=\\\"url(#clip4402)\\\" style=\\\"stroke:#000000; stroke-width:16; stroke-opacity:0.5; fill:none\\\" points=\\\"\\n  1249.38,420.329 1267.38,384.329 1285.38,420.329 \\n  \\\"/>\\n<polyline clip-path=\\\"url(#clip4402)\\\" style=\\\"stroke:#000000; stroke-width:16; stroke-opacity:0.5; fill:none\\\" points=\\\"\\n  1267.38,384.329 1267.38,909.636 \\n  \\\"/>\\n<polyline clip-path=\\\"url(#clip4402)\\\" style=\\\"stroke:#000000; stroke-width:4; stroke-opacity:1; fill:none\\\" points=\\\"\\n  1267.38,436.86 1267.38,331.798 \\n  \\\"/>\\n<polyline clip-path=\\\"url(#clip4402)\\\" style=\\\"stroke:#000000; stroke-width:4; stroke-opacity:1; fill:none\\\" points=\\\"\\n  1319.55,413.328 1325.04,361.085 \\n  \\\"/>\\n<polyline clip-path=\\\"url(#clip4402)\\\" style=\\\"stroke:#000000; stroke-width:4; stroke-opacity:1; fill:none\\\" points=\\\"\\n  1371.14,421.5 1382.06,370.117 \\n  \\\"/>\\n<polyline clip-path=\\\"url(#clip4402)\\\" style=\\\"stroke:#000000; stroke-width:4; stroke-opacity:1; fill:none\\\" points=\\\"\\n  1421.59,435.019 1437.83,385.059 \\n  \\\"/>\\n<polyline clip-path=\\\"url(#clip4402)\\\" style=\\\"stroke:#000000; stroke-width:4; stroke-opacity:1; fill:none\\\" points=\\\"\\n  1470.36,453.739 1491.73,405.75 \\n  \\\"/>\\n<polyline clip-path=\\\"url(#clip4402)\\\" style=\\\"stroke:#000000; stroke-width:4; stroke-opacity:1; fill:none\\\" points=\\\"\\n  1503.77,500.2 1556.3,409.214 \\n  \\\"/>\\n<polyline clip-path=\\\"url(#clip4402)\\\" style=\\\"stroke:#000000; stroke-width:4; stroke-opacity:1; fill:none\\\" points=\\\"\\n  1560.71,505.903 1591.59,463.405 \\n  \\\"/>\\n<polyline clip-path=\\\"url(#clip4402)\\\" style=\\\"stroke:#000000; stroke-width:4; stroke-opacity:1; fill:none\\\" points=\\\"\\n  1601.31,538.776 1636.46,499.738 \\n  \\\"/>\\n<polyline clip-path=\\\"url(#clip4402)\\\" style=\\\"stroke:#000000; stroke-width:4; stroke-opacity:1; fill:none\\\" points=\\\"\\n  1638.24,575.712 1677.28,540.562 \\n  \\\"/>\\n<polyline clip-path=\\\"url(#clip4402)\\\" style=\\\"stroke:#000000; stroke-width:4; stroke-opacity:1; fill:none\\\" points=\\\"\\n  1671.12,616.307 1713.61,585.43 \\n  \\\"/>\\n<polyline clip-path=\\\"url(#clip4402)\\\" style=\\\"stroke:#000000; stroke-width:4; stroke-opacity:1; fill:none\\\" points=\\\"\\n  1676.82,673.248 1767.8,620.717 \\n  \\\"/>\\n<polyline clip-path=\\\"url(#clip4402)\\\" style=\\\"stroke:#000000; stroke-width:4; stroke-opacity:1; fill:none\\\" points=\\\"\\n  1723.28,706.658 1771.27,685.292 \\n  \\\"/>\\n<polyline clip-path=\\\"url(#clip4402)\\\" style=\\\"stroke:#000000; stroke-width:4; stroke-opacity:1; fill:none\\\" points=\\\"\\n  1742,755.424 1791.96,739.191 \\n  \\\"/>\\n<polyline clip-path=\\\"url(#clip4402)\\\" style=\\\"stroke:#000000; stroke-width:4; stroke-opacity:1; fill:none\\\" points=\\\"\\n  1755.52,805.88 1806.9,794.958 \\n  \\\"/>\\n<polyline clip-path=\\\"url(#clip4402)\\\" style=\\\"stroke:#000000; stroke-width:4; stroke-opacity:1; fill:none\\\" points=\\\"\\n  1763.69,857.472 1815.93,851.981 \\n  \\\"/>\\n<polyline clip-path=\\\"url(#clip4402)\\\" style=\\\"stroke:#000000; stroke-width:4; stroke-opacity:1; fill:none\\\" points=\\\"\\n  1740.16,909.636 1845.22,909.636 \\n  \\\"/>\\n<polyline clip-path=\\\"url(#clip4402)\\\" style=\\\"stroke:#000000; stroke-width:4; stroke-opacity:1; fill:none\\\" points=\\\"\\n  1763.69,961.801 1815.93,967.292 \\n  \\\"/>\\n<polyline clip-path=\\\"url(#clip4402)\\\" style=\\\"stroke:#000000; stroke-width:4; stroke-opacity:1; fill:none\\\" points=\\\"\\n  1755.52,1013.39 1806.9,1024.31 \\n  \\\"/>\\n<polyline clip-path=\\\"url(#clip4402)\\\" style=\\\"stroke:#000000; stroke-width:4; stroke-opacity:1; fill:none\\\" points=\\\"\\n  1742,1063.85 1791.96,1080.08 \\n  \\\"/>\\n<polyline clip-path=\\\"url(#clip4402)\\\" style=\\\"stroke:#000000; stroke-width:4; stroke-opacity:1; fill:none\\\" points=\\\"\\n  1723.28,1112.62 1771.27,1133.98 \\n  \\\"/>\\n<polyline clip-path=\\\"url(#clip4402)\\\" style=\\\"stroke:#000000; stroke-width:4; stroke-opacity:1; fill:none\\\" points=\\\"\\n  1676.82,1146.02 1767.8,1198.56 \\n  \\\"/>\\n<polyline clip-path=\\\"url(#clip4402)\\\" style=\\\"stroke:#000000; stroke-width:4; stroke-opacity:1; fill:none\\\" points=\\\"\\n  1671.12,1202.97 1713.61,1233.84 \\n  \\\"/>\\n<polyline clip-path=\\\"url(#clip4402)\\\" style=\\\"stroke:#000000; stroke-width:4; stroke-opacity:1; fill:none\\\" points=\\\"\\n  1638.24,1243.56 1677.28,1278.71 \\n  \\\"/>\\n<polyline clip-path=\\\"url(#clip4402)\\\" style=\\\"stroke:#000000; stroke-width:4; stroke-opacity:1; fill:none\\\" points=\\\"\\n  1601.31,1280.5 1636.46,1319.53 \\n  \\\"/>\\n<polyline clip-path=\\\"url(#clip4402)\\\" style=\\\"stroke:#000000; stroke-width:4; stroke-opacity:1; fill:none\\\" points=\\\"\\n  1560.71,1313.37 1591.59,1355.87 \\n  \\\"/>\\n<polyline clip-path=\\\"url(#clip4402)\\\" style=\\\"stroke:#000000; stroke-width:4; stroke-opacity:1; fill:none\\\" points=\\\"\\n  1503.77,1319.07 1556.3,1410.06 \\n  \\\"/>\\n<polyline clip-path=\\\"url(#clip4402)\\\" style=\\\"stroke:#000000; stroke-width:4; stroke-opacity:1; fill:none\\\" points=\\\"\\n  1470.36,1365.53 1491.73,1413.52 \\n  \\\"/>\\n<polyline clip-path=\\\"url(#clip4402)\\\" style=\\\"stroke:#000000; stroke-width:4; stroke-opacity:1; fill:none\\\" points=\\\"\\n  1421.59,1384.25 1437.83,1434.21 \\n  \\\"/>\\n<polyline clip-path=\\\"url(#clip4402)\\\" style=\\\"stroke:#000000; stroke-width:4; stroke-opacity:1; fill:none\\\" points=\\\"\\n  1371.14,1397.77 1382.06,1449.16 \\n  \\\"/>\\n<polyline clip-path=\\\"url(#clip4402)\\\" style=\\\"stroke:#000000; stroke-width:4; stroke-opacity:1; fill:none\\\" points=\\\"\\n  1319.55,1405.94 1325.04,1458.19 \\n  \\\"/>\\n<polyline clip-path=\\\"url(#clip4402)\\\" style=\\\"stroke:#000000; stroke-width:4; stroke-opacity:1; fill:none\\\" points=\\\"\\n  1267.38,1382.41 1267.38,1487.47 \\n  \\\"/>\\n<polyline clip-path=\\\"url(#clip4402)\\\" style=\\\"stroke:#000000; stroke-width:4; stroke-opacity:1; fill:none\\\" points=\\\"\\n  1215.22,1405.94 1209.73,1458.19 \\n  \\\"/>\\n<polyline clip-path=\\\"url(#clip4402)\\\" style=\\\"stroke:#000000; stroke-width:4; stroke-opacity:1; fill:none\\\" points=\\\"\\n  1163.63,1397.77 1152.7,1449.16 \\n  \\\"/>\\n<polyline clip-path=\\\"url(#clip4402)\\\" style=\\\"stroke:#000000; stroke-width:4; stroke-opacity:1; fill:none\\\" points=\\\"\\n  1113.17,1384.25 1096.94,1434.21 \\n  \\\"/>\\n<polyline clip-path=\\\"url(#clip4402)\\\" style=\\\"stroke:#000000; stroke-width:4; stroke-opacity:1; fill:none\\\" points=\\\"\\n  1064.4,1365.53 1043.04,1413.52 \\n  \\\"/>\\n<polyline clip-path=\\\"url(#clip4402)\\\" style=\\\"stroke:#000000; stroke-width:4; stroke-opacity:1; fill:none\\\" points=\\\"\\n  1030.99,1319.07 978.463,1410.06 \\n  \\\"/>\\n<polyline clip-path=\\\"url(#clip4402)\\\" style=\\\"stroke:#000000; stroke-width:4; stroke-opacity:1; fill:none\\\" points=\\\"\\n  974.052,1313.37 943.176,1355.87 \\n  \\\"/>\\n<polyline clip-path=\\\"url(#clip4402)\\\" style=\\\"stroke:#000000; stroke-width:4; stroke-opacity:1; fill:none\\\" points=\\\"\\n  933.458,1280.5 898.308,1319.53 \\n  \\\"/>\\n<polyline clip-path=\\\"url(#clip4402)\\\" style=\\\"stroke:#000000; stroke-width:4; stroke-opacity:1; fill:none\\\" points=\\\"\\n  896.521,1243.56 857.483,1278.71 \\n  \\\"/>\\n<polyline clip-path=\\\"url(#clip4402)\\\" style=\\\"stroke:#000000; stroke-width:4; stroke-opacity:1; fill:none\\\" points=\\\"\\n  863.648,1202.97 821.15,1233.84 \\n  \\\"/>\\n<polyline clip-path=\\\"url(#clip4402)\\\" style=\\\"stroke:#000000; stroke-width:4; stroke-opacity:1; fill:none\\\" points=\\\"\\n  857.945,1146.02 766.959,1198.56 \\n  \\\"/>\\n<polyline clip-path=\\\"url(#clip4402)\\\" style=\\\"stroke:#000000; stroke-width:4; stroke-opacity:1; fill:none\\\" points=\\\"\\n  811.484,1112.62 763.495,1133.98 \\n  \\\"/>\\n<polyline clip-path=\\\"url(#clip4402)\\\" style=\\\"stroke:#000000; stroke-width:4; stroke-opacity:1; fill:none\\\" points=\\\"\\n  792.765,1063.85 742.805,1080.08 \\n  \\\"/>\\n<polyline clip-path=\\\"url(#clip4402)\\\" style=\\\"stroke:#000000; stroke-width:4; stroke-opacity:1; fill:none\\\" points=\\\"\\n  779.245,1013.39 727.862,1024.31 \\n  \\\"/>\\n<polyline clip-path=\\\"url(#clip4402)\\\" style=\\\"stroke:#000000; stroke-width:4; stroke-opacity:1; fill:none\\\" points=\\\"\\n  771.074,961.801 718.831,967.292 \\n  \\\"/>\\n<polyline clip-path=\\\"url(#clip4402)\\\" style=\\\"stroke:#000000; stroke-width:4; stroke-opacity:1; fill:none\\\" points=\\\"\\n  794.605,909.636 689.544,909.636 \\n  \\\"/>\\n<polyline clip-path=\\\"url(#clip4402)\\\" style=\\\"stroke:#000000; stroke-width:4; stroke-opacity:1; fill:none\\\" points=\\\"\\n  771.074,857.472 718.831,851.981 \\n  \\\"/>\\n<polyline clip-path=\\\"url(#clip4402)\\\" style=\\\"stroke:#000000; stroke-width:4; stroke-opacity:1; fill:none\\\" points=\\\"\\n  779.245,805.88 727.862,794.958 \\n  \\\"/>\\n<polyline clip-path=\\\"url(#clip4402)\\\" style=\\\"stroke:#000000; stroke-width:4; stroke-opacity:1; fill:none\\\" points=\\\"\\n  792.765,755.424 742.805,739.191 \\n  \\\"/>\\n<polyline clip-path=\\\"url(#clip4402)\\\" style=\\\"stroke:#000000; stroke-width:4; stroke-opacity:1; fill:none\\\" points=\\\"\\n  811.484,706.658 763.495,685.292 \\n  \\\"/>\\n<polyline clip-path=\\\"url(#clip4402)\\\" style=\\\"stroke:#000000; stroke-width:4; stroke-opacity:1; fill:none\\\" points=\\\"\\n  857.945,673.248 766.959,620.717 \\n  \\\"/>\\n<polyline clip-path=\\\"url(#clip4402)\\\" style=\\\"stroke:#000000; stroke-width:4; stroke-opacity:1; fill:none\\\" points=\\\"\\n  863.648,616.307 821.15,585.43 \\n  \\\"/>\\n<polyline clip-path=\\\"url(#clip4402)\\\" style=\\\"stroke:#000000; stroke-width:4; stroke-opacity:1; fill:none\\\" points=\\\"\\n  896.521,575.712 857.483,540.562 \\n  \\\"/>\\n<polyline clip-path=\\\"url(#clip4402)\\\" style=\\\"stroke:#000000; stroke-width:4; stroke-opacity:1; fill:none\\\" points=\\\"\\n  933.458,538.776 898.308,499.738 \\n  \\\"/>\\n<polyline clip-path=\\\"url(#clip4402)\\\" style=\\\"stroke:#000000; stroke-width:4; stroke-opacity:1; fill:none\\\" points=\\\"\\n  974.052,505.903 943.176,463.405 \\n  \\\"/>\\n<polyline clip-path=\\\"url(#clip4402)\\\" style=\\\"stroke:#000000; stroke-width:4; stroke-opacity:1; fill:none\\\" points=\\\"\\n  1030.99,500.2 978.463,409.214 \\n  \\\"/>\\n<polyline clip-path=\\\"url(#clip4402)\\\" style=\\\"stroke:#000000; stroke-width:4; stroke-opacity:1; fill:none\\\" points=\\\"\\n  1064.4,453.739 1043.04,405.75 \\n  \\\"/>\\n<polyline clip-path=\\\"url(#clip4402)\\\" style=\\\"stroke:#000000; stroke-width:4; stroke-opacity:1; fill:none\\\" points=\\\"\\n  1113.17,435.019 1096.94,385.059 \\n  \\\"/>\\n<polyline clip-path=\\\"url(#clip4402)\\\" style=\\\"stroke:#000000; stroke-width:4; stroke-opacity:1; fill:none\\\" points=\\\"\\n  1163.63,421.5 1152.7,370.117 \\n  \\\"/>\\n<polyline clip-path=\\\"url(#clip4402)\\\" style=\\\"stroke:#000000; stroke-width:4; stroke-opacity:1; fill:none\\\" points=\\\"\\n  1215.22,413.328 1209.73,361.085 \\n  \\\"/>\\n<g clip-path=\\\"url(#clip4400)\\\">\\n<text style=\\\"fill:#000000; fill-opacity:1; font-family:Arial,Helvetica Neue,Helvetica,sans-serif; font-size:84px; text-anchor:middle;\\\" transform=\\\"rotate(0, 1267.38, 309.767)\\\" x=\\\"1267.38\\\" y=\\\"309.767\\\">0</text>\\n</g>\\n<g clip-path=\\\"url(#clip4400)\\\">\\n<text style=\\\"fill:#000000; fill-opacity:1; font-family:Arial,Helvetica Neue,Helvetica,sans-serif; font-size:84px; text-anchor:middle;\\\" transform=\\\"rotate(0, 1582.57, 394.221)\\\" x=\\\"1582.57\\\" y=\\\"394.221\\\">5</text>\\n</g>\\n<g clip-path=\\\"url(#clip4400)\\\">\\n<text style=\\\"fill:#000000; fill-opacity:1; font-family:Arial,Helvetica Neue,Helvetica,sans-serif; font-size:84px; text-anchor:middle;\\\" transform=\\\"rotate(0, 1813.3, 624.952)\\\" x=\\\"1813.3\\\" y=\\\"624.952\\\">10</text>\\n</g>\\n<g clip-path=\\\"url(#clip4400)\\\">\\n<text style=\\\"fill:#000000; fill-opacity:1; font-family:Arial,Helvetica Neue,Helvetica,sans-serif; font-size:84px; text-anchor:middle;\\\" transform=\\\"rotate(0, 1897.75, 940.136)\\\" x=\\\"1897.75\\\" y=\\\"940.136\\\">15</text>\\n</g>\\n<g clip-path=\\\"url(#clip4400)\\\">\\n<text style=\\\"fill:#000000; fill-opacity:1; font-family:Arial,Helvetica Neue,Helvetica,sans-serif; font-size:84px; text-anchor:middle;\\\" transform=\\\"rotate(0, 1813.3, 1255.32)\\\" x=\\\"1813.3\\\" y=\\\"1255.32\\\">20</text>\\n</g>\\n<g clip-path=\\\"url(#clip4400)\\\">\\n<text style=\\\"fill:#000000; fill-opacity:1; font-family:Arial,Helvetica Neue,Helvetica,sans-serif; font-size:84px; text-anchor:middle;\\\" transform=\\\"rotate(0, 1582.57, 1486.05)\\\" x=\\\"1582.57\\\" y=\\\"1486.05\\\">25</text>\\n</g>\\n<g clip-path=\\\"url(#clip4400)\\\">\\n<text style=\\\"fill:#000000; fill-opacity:1; font-family:Arial,Helvetica Neue,Helvetica,sans-serif; font-size:84px; text-anchor:middle;\\\" transform=\\\"rotate(0, 1267.38, 1570.51)\\\" x=\\\"1267.38\\\" y=\\\"1570.51\\\">30</text>\\n</g>\\n<g clip-path=\\\"url(#clip4400)\\\">\\n<text style=\\\"fill:#000000; fill-opacity:1; font-family:Arial,Helvetica Neue,Helvetica,sans-serif; font-size:84px; text-anchor:middle;\\\" transform=\\\"rotate(0, 952.197, 1486.05)\\\" x=\\\"952.197\\\" y=\\\"1486.05\\\">35</text>\\n</g>\\n<g clip-path=\\\"url(#clip4400)\\\">\\n<text style=\\\"fill:#000000; fill-opacity:1; font-family:Arial,Helvetica Neue,Helvetica,sans-serif; font-size:84px; text-anchor:middle;\\\" transform=\\\"rotate(0, 721.466, 1255.32)\\\" x=\\\"721.466\\\" y=\\\"1255.32\\\">40</text>\\n</g>\\n<g clip-path=\\\"url(#clip4400)\\\">\\n<text style=\\\"fill:#000000; fill-opacity:1; font-family:Arial,Helvetica Neue,Helvetica,sans-serif; font-size:84px; text-anchor:middle;\\\" transform=\\\"rotate(0, 637.013, 940.136)\\\" x=\\\"637.013\\\" y=\\\"940.136\\\">45</text>\\n</g>\\n<g clip-path=\\\"url(#clip4400)\\\">\\n<text style=\\\"fill:#000000; fill-opacity:1; font-family:Arial,Helvetica Neue,Helvetica,sans-serif; font-size:84px; text-anchor:middle;\\\" transform=\\\"rotate(0, 721.466, 624.952)\\\" x=\\\"721.466\\\" y=\\\"624.952\\\">50</text>\\n</g>\\n<g clip-path=\\\"url(#clip4400)\\\">\\n<text style=\\\"fill:#000000; fill-opacity:1; font-family:Arial,Helvetica Neue,Helvetica,sans-serif; font-size:84px; text-anchor:middle;\\\" transform=\\\"rotate(0, 952.197, 394.221)\\\" x=\\\"952.197\\\" y=\\\"394.221\\\">55</text>\\n</g>\\n</svg>\\n\", nothing)), Set(String[]), nothing, Asset[], Dict{Any,Any}(\"obs-output\"=>Any[JSString(\"function (value, scope) {\\n    scope.setInnerHTML(value);\\n}\\n\")]), WebIO.ConnectionPool(Channel{Any}(sz_max:9223372036854775807,sz_curr:0), Set(AbstractConnection[]), Channel{AbstractConnection}(sz_max:32,sz_curr:0)), WebIO.JSString[]):\n",
       "    (div { className=\"webio-observable\" setInnerHtml=\"<?xml version=\\\"1.0\\\" encoding=\\\"utf-8\\\"?>\\n<svg xmlns=\\\"http://www.w3.org/2000/svg\\\" xmlns:xlink=\\\"http://www.w3.org/1999/xlink\\\" width=\\\"600\\\" height=\\\"400\\\" viewBox=\\\"0 0 2400 1600\\\">\\n<defs>\\n  <clipPath id=\\\"clip4400\\\">\\n    <rect x=\\\"0\\\" y=\\\"0\\\" width=\\\"2400\\\" height=\\\"1600\\\"/>\\n  </clipPath>\\n</defs>\\n<polygon clip-path=\\\"url(#clip4400)\\\" points=\\\"\\n0,1600 2400,1600 2400,0 0,0 \\n  \\\" fill=\\\"#ffffff\\\" fill-rule=\\\"evenodd\\\" fill-opacity=\\\"1\\\"/>\\n<defs>\\n  <clipPath id=\\\"clip4401\\\">\\n    <rect x=\\\"480\\\" y=\\\"0\\\" width=\\\"1681\\\" height=\\\"1600\\\"/>\\n  </clipPath>\\n</defs>\\n<polygon clip-path=\\\"url(#clip4400)\\\" points=\\\"\\n689.544,1487.47 1845.22,1487.47 1845.22,121.675 689.544,121.675 \\n  \\\" fill=\\\"#ffffff\\\" fill-rule=\\\"evenodd\\\" fill-opacity=\\\"1\\\"/>\\n<defs>\\n  <clipPath id=\\\"clip4402\\\">\\n    <rect x=\\\"689\\\" y=\\\"121\\\" width=\\\"1157\\\" height=\\\"1367\\\"/>\\n  </clipPath>\\n</defs>\\n<g clip-path=\\\"url(#clip4400)\\\">\\n<text style=\\\"fill:#000000; fill-opacity:1; font-family:Arial,Helvetica Neue,Helvetica,sans-serif; font-size:84px; text-anchor:middle;\\\" transform=\\\"rotate(0, 1267.38, 73.2)\\\" x=\\\"1267.38\\\" y=\\\"73.2\\\">0 [s]</text>\\n</g>\\n<polyline clip-path=\\\"url(#clip4402)\\\" style=\\\"stroke:#000000; stroke-width:16; stroke-opacity:0.5; fill:none\\\" points=\\\"\\n  1267.38,909.636 1267.38,384.329 \\n  \\\"/>\\n<polyline clip-path=\\\"url(#clip4402)\\\" style=\\\"stroke:#000000; stroke-width:16; stroke-opacity:0.5; fill:none\\\" points=\\\"\\n  1249.38,420.329 1267.38,384.329 1285.38,420.329 \\n  \\\"/>\\n<polyline clip-path=\\\"url(#clip4402)\\\" style=\\\"stroke:#000000; stroke-width:16; stroke-opacity:0.5; fill:none\\\" points=\\\"\\n  1267.38,384.329 1267.38,909.636 \\n  \\\"/>\\n<polyline clip-path=\\\"url(#clip4402)\\\" style=\\\"stroke:#000000; stroke-width:4; stroke-opacity:1; fill:none\\\" points=\\\"\\n  1267.38,436.86 1267.38,331.798 \\n  \\\"/>\\n<polyline clip-path=\\\"url(#clip4402)\\\" style=\\\"stroke:#000000; stroke-width:4; stroke-opacity:1; fill:none\\\" points=\\\"\\n  1319.55,413.328 1325.04,361.085 \\n  \\\"/>\\n<polyline clip-path=\\\"url(#clip4402)\\\" style=\\\"stroke:#000000; stroke-width:4; stroke-opacity:1; fill:none\\\" points=\\\"\\n  1371.14,421.5 1382.06,370.117 \\n  \\\"/>\\n<polyline clip-path=\\\"url(#clip4402)\\\" style=\\\"stroke:#000000; stroke-width:4; stroke-opacity:1; fill:none\\\" points=\\\"\\n  1421.59,435.019 1437.83,385.059 \\n  \\\"/>\\n<polyline clip-path=\\\"url(#clip4402)\\\" style=\\\"stroke:#000000; stroke-width:4; stroke-opacity:1; fill:none\\\" points=\\\"\\n  1470.36,453.739 1491.73,405.75 \\n  \\\"/>\\n<polyline clip-path=\\\"url(#clip4402)\\\" style=\\\"stroke:#000000; stroke-width:4; stroke-opacity:1; fill:none\\\" points=\\\"\\n  1503.77,500.2 1556.3,409.214 \\n  \\\"/>\\n<polyline clip-path=\\\"url(#clip4402)\\\" style=\\\"stroke:#000000; stroke-width:4; stroke-opacity:1; fill:none\\\" points=\\\"\\n  1560.71,505.903 1591.59,463.405 \\n  \\\"/>\\n<polyline clip-path=\\\"url(#clip4402)\\\" style=\\\"stroke:#000000; stroke-width:4; stroke-opacity:1; fill:none\\\" points=\\\"\\n  1601.31,538.776 1636.46,499.738 \\n  \\\"/>\\n<polyline clip-path=\\\"url(#clip4402)\\\" style=\\\"stroke:#000000; stroke-width:4; stroke-opacity:1; fill:none\\\" points=\\\"\\n  1638.24,575.712 1677.28,540.562 \\n  \\\"/>\\n<polyline clip-path=\\\"url(#clip4402)\\\" style=\\\"stroke:#000000; stroke-width:4; stroke-opacity:1; fill:none\\\" points=\\\"\\n  1671.12,616.307 1713.61,585.43 \\n  \\\"/>\\n<polyline clip-path=\\\"url(#clip4402)\\\" style=\\\"stroke:#000000; stroke-width:4; stroke-opacity:1; fill:none\\\" points=\\\"\\n  1676.82,673.248 1767.8,620.717 \\n  \\\"/>\\n<polyline clip-path=\\\"url(#clip4402)\\\" style=\\\"stroke:#000000; stroke-width:4; stroke-opacity:1; fill:none\\\" points=\\\"\\n  1723.28,706.658 1771.27,685.292 \\n  \\\"/>\\n<polyline clip-path=\\\"url(#clip4402)\\\" style=\\\"stroke:#000000; stroke-width:4; stroke-opacity:1; fill:none\\\" points=\\\"\\n  1742,755.424 1791.96,739.191 \\n  \\\"/>\\n<polyline clip-path=\\\"url(#clip4402)\\\" style=\\\"stroke:#000000; stroke-width:4; stroke-opacity:1; fill:none\\\" points=\\\"\\n  1755.52,805.88 1806.9,794.958 \\n  \\\"/>\\n<polyline clip-path=\\\"url(#clip4402)\\\" style=\\\"stroke:#000000; stroke-width:4; stroke-opacity:1; fill:none\\\" points=\\\"\\n  1763.69,857.472 1815.93,851.981 \\n  \\\"/>\\n<polyline clip-path=\\\"url(#clip4402)\\\" style=\\\"stroke:#000000; stroke-width:4; stroke-opacity:1; fill:none\\\" points=\\\"\\n  1740.16,909.636 1845.22,909.636 \\n  \\\"/>\\n<polyline clip-path=\\\"url(#clip4402)\\\" style=\\\"stroke:#000000; stroke-width:4; stroke-opacity:1; fill:none\\\" points=\\\"\\n  1763.69,961.801 1815.93,967.292 \\n  \\\"/>\\n<polyline clip-path=\\\"url(#clip4402)\\\" style=\\\"stroke:#000000; stroke-width:4; stroke-opacity:1; fill:none\\\" points=\\\"\\n  1755.52,1013.39 1806.9,1024.31 \\n  \\\"/>\\n<polyline clip-path=\\\"url(#clip4402)\\\" style=\\\"stroke:#000000; stroke-width:4; stroke-opacity:1; fill:none\\\" points=\\\"\\n  1742,1063.85 1791.96,1080.08 \\n  \\\"/>\\n<polyline clip-path=\\\"url(#clip4402)\\\" style=\\\"stroke:#000000; stroke-width:4; stroke-opacity:1; fill:none\\\" points=\\\"\\n  1723.28,1112.62 1771.27,1133.98 \\n  \\\"/>\\n<polyline clip-path=\\\"url(#clip4402)\\\" style=\\\"stroke:#000000; stroke-width:4; stroke-opacity:1; fill:none\\\" points=\\\"\\n  1676.82,1146.02 1767.8,1198.56 \\n  \\\"/>\\n<polyline clip-path=\\\"url(#clip4402)\\\" style=\\\"stroke:#000000; stroke-width:4; stroke-opacity:1; fill:none\\\" points=\\\"\\n  1671.12,1202.97 1713.61,1233.84 \\n  \\\"/>\\n<polyline clip-path=\\\"url(#clip4402)\\\" style=\\\"stroke:#000000; stroke-width:4; stroke-opacity:1; fill:none\\\" points=\\\"\\n  1638.24,1243.56 1677.28,1278.71 \\n  \\\"/>\\n<polyline clip-path=\\\"url(#clip4402)\\\" style=\\\"stroke:#000000; stroke-width:4; stroke-opacity:1; fill:none\\\" points=\\\"\\n  1601.31,1280.5 1636.46,1319.53 \\n  \\\"/>\\n<polyline clip-path=\\\"url(#clip4402)\\\" style=\\\"stroke:#000000; stroke-width:4; stroke-opacity:1; fill:none\\\" points=\\\"\\n  1560.71,1313.37 1591.59,1355.87 \\n  \\\"/>\\n<polyline clip-path=\\\"url(#clip4402)\\\" style=\\\"stroke:#000000; stroke-width:4; stroke-opacity:1; fill:none\\\" points=\\\"\\n  1503.77,1319.07 1556.3,1410.06 \\n  \\\"/>\\n<polyline clip-path=\\\"url(#clip4402)\\\" style=\\\"stroke:#000000; stroke-width:4; stroke-opacity:1; fill:none\\\" points=\\\"\\n  1470.36,1365.53 1491.73,1413.52 \\n  \\\"/>\\n<polyline clip-path=\\\"url(#clip4402)\\\" style=\\\"stroke:#000000; stroke-width:4; stroke-opacity:1; fill:none\\\" points=\\\"\\n  1421.59,1384.25 1437.83,1434.21 \\n  \\\"/>\\n<polyline clip-path=\\\"url(#clip4402)\\\" style=\\\"stroke:#000000; stroke-width:4; stroke-opacity:1; fill:none\\\" points=\\\"\\n  1371.14,1397.77 1382.06,1449.16 \\n  \\\"/>\\n<polyline clip-path=\\\"url(#clip4402)\\\" style=\\\"stroke:#000000; stroke-width:4; stroke-opacity:1; fill:none\\\" points=\\\"\\n  1319.55,1405.94 1325.04,1458.19 \\n  \\\"/>\\n<polyline clip-path=\\\"url(#clip4402)\\\" style=\\\"stroke:#000000; stroke-width:4; stroke-opacity:1; fill:none\\\" points=\\\"\\n  1267.38,1382.41 1267.38,1487.47 \\n  \\\"/>\\n<polyline clip-path=\\\"url(#clip4402)\\\" style=\\\"stroke:#000000; stroke-width:4; stroke-opacity:1; fill:none\\\" points=\\\"\\n  1215.22,1405.94 1209.73,1458.19 \\n  \\\"/>\\n<polyline clip-path=\\\"url(#clip4402)\\\" style=\\\"stroke:#000000; stroke-width:4; stroke-opacity:1; fill:none\\\" points=\\\"\\n  1163.63,1397.77 1152.7,1449.16 \\n  \\\"/>\\n<polyline clip-path=\\\"url(#clip4402)\\\" style=\\\"stroke:#000000; stroke-width:4; stroke-opacity:1; fill:none\\\" points=\\\"\\n  1113.17,1384.25 1096.94,1434.21 \\n  \\\"/>\\n<polyline clip-path=\\\"url(#clip4402)\\\" style=\\\"stroke:#000000; stroke-width:4; stroke-opacity:1; fill:none\\\" points=\\\"\\n  1064.4,1365.53 1043.04,1413.52 \\n  \\\"/>\\n<polyline clip-path=\\\"url(#clip4402)\\\" style=\\\"stroke:#000000; stroke-width:4; stroke-opacity:1; fill:none\\\" points=\\\"\\n  1030.99,1319.07 978.463,1410.06 \\n  \\\"/>\\n<polyline clip-path=\\\"url(#clip4402)\\\" style=\\\"stroke:#000000; stroke-width:4; stroke-opacity:1; fill:none\\\" points=\\\"\\n  974.052,1313.37 943.176,1355.87 \\n  \\\"/>\\n<polyline clip-path=\\\"url(#clip4402)\\\" style=\\\"stroke:#000000; stroke-width:4; stroke-opacity:1; fill:none\\\" points=\\\"\\n  933.458,1280.5 898.308,1319.53 \\n  \\\"/>\\n<polyline clip-path=\\\"url(#clip4402)\\\" style=\\\"stroke:#000000; stroke-width:4; stroke-opacity:1; fill:none\\\" points=\\\"\\n  896.521,1243.56 857.483,1278.71 \\n  \\\"/>\\n<polyline clip-path=\\\"url(#clip4402)\\\" style=\\\"stroke:#000000; stroke-width:4; stroke-opacity:1; fill:none\\\" points=\\\"\\n  863.648,1202.97 821.15,1233.84 \\n  \\\"/>\\n<polyline clip-path=\\\"url(#clip4402)\\\" style=\\\"stroke:#000000; stroke-width:4; stroke-opacity:1; fill:none\\\" points=\\\"\\n  857.945,1146.02 766.959,1198.56 \\n  \\\"/>\\n<polyline clip-path=\\\"url(#clip4402)\\\" style=\\\"stroke:#000000; stroke-width:4; stroke-opacity:1; fill:none\\\" points=\\\"\\n  811.484,1112.62 763.495,1133.98 \\n  \\\"/>\\n<polyline clip-path=\\\"url(#clip4402)\\\" style=\\\"stroke:#000000; stroke-width:4; stroke-opacity:1; fill:none\\\" points=\\\"\\n  792.765,1063.85 742.805,1080.08 \\n  \\\"/>\\n<polyline clip-path=\\\"url(#clip4402)\\\" style=\\\"stroke:#000000; stroke-width:4; stroke-opacity:1; fill:none\\\" points=\\\"\\n  779.245,1013.39 727.862,1024.31 \\n  \\\"/>\\n<polyline clip-path=\\\"url(#clip4402)\\\" style=\\\"stroke:#000000; stroke-width:4; stroke-opacity:1; fill:none\\\" points=\\\"\\n  771.074,961.801 718.831,967.292 \\n  \\\"/>\\n<polyline clip-path=\\\"url(#clip4402)\\\" style=\\\"stroke:#000000; stroke-width:4; stroke-opacity:1; fill:none\\\" points=\\\"\\n  794.605,909.636 689.544,909.636 \\n  \\\"/>\\n<polyline clip-path=\\\"url(#clip4402)\\\" style=\\\"stroke:#000000; stroke-width:4; stroke-opacity:1; fill:none\\\" points=\\\"\\n  771.074,857.472 718.831,851.981 \\n  \\\"/>\\n<polyline clip-path=\\\"url(#clip4402)\\\" style=\\\"stroke:#000000; stroke-width:4; stroke-opacity:1; fill:none\\\" points=\\\"\\n  779.245,805.88 727.862,794.958 \\n  \\\"/>\\n<polyline clip-path=\\\"url(#clip4402)\\\" style=\\\"stroke:#000000; stroke-width:4; stroke-opacity:1; fill:none\\\" points=\\\"\\n  792.765,755.424 742.805,739.191 \\n  \\\"/>\\n<polyline clip-path=\\\"url(#clip4402)\\\" style=\\\"stroke:#000000; stroke-width:4; stroke-opacity:1; fill:none\\\" points=\\\"\\n  811.484,706.658 763.495,685.292 \\n  \\\"/>\\n<polyline clip-path=\\\"url(#clip4402)\\\" style=\\\"stroke:#000000; stroke-width:4; stroke-opacity:1; fill:none\\\" points=\\\"\\n  857.945,673.248 766.959,620.717 \\n  \\\"/>\\n<polyline clip-path=\\\"url(#clip4402)\\\" style=\\\"stroke:#000000; stroke-width:4; stroke-opacity:1; fill:none\\\" points=\\\"\\n  863.648,616.307 821.15,585.43 \\n  \\\"/>\\n<polyline clip-path=\\\"url(#clip4402)\\\" style=\\\"stroke:#000000; stroke-width:4; stroke-opacity:1; fill:none\\\" points=\\\"\\n  896.521,575.712 857.483,540.562 \\n  \\\"/>\\n<polyline clip-path=\\\"url(#clip4402)\\\" style=\\\"stroke:#000000; stroke-width:4; stroke-opacity:1; fill:none\\\" points=\\\"\\n  933.458,538.776 898.308,499.738 \\n  \\\"/>\\n<polyline clip-path=\\\"url(#clip4402)\\\" style=\\\"stroke:#000000; stroke-width:4; stroke-opacity:1; fill:none\\\" points=\\\"\\n  974.052,505.903 943.176,463.405 \\n  \\\"/>\\n<polyline clip-path=\\\"url(#clip4402)\\\" style=\\\"stroke:#000000; stroke-width:4; stroke-opacity:1; fill:none\\\" points=\\\"\\n  1030.99,500.2 978.463,409.214 \\n  \\\"/>\\n<polyline clip-path=\\\"url(#clip4402)\\\" style=\\\"stroke:#000000; stroke-width:4; stroke-opacity:1; fill:none\\\" points=\\\"\\n  1064.4,453.739 1043.04,405.75 \\n  \\\"/>\\n<polyline clip-path=\\\"url(#clip4402)\\\" style=\\\"stroke:#000000; stroke-width:4; stroke-opacity:1; fill:none\\\" points=\\\"\\n  1113.17,435.019 1096.94,385.059 \\n  \\\"/>\\n<polyline clip-path=\\\"url(#clip4402)\\\" style=\\\"stroke:#000000; stroke-width:4; stroke-opacity:1; fill:none\\\" points=\\\"\\n  1163.63,421.5 1152.7,370.117 \\n  \\\"/>\\n<polyline clip-path=\\\"url(#clip4402)\\\" style=\\\"stroke:#000000; stroke-width:4; stroke-opacity:1; fill:none\\\" points=\\\"\\n  1215.22,413.328 1209.73,361.085 \\n  \\\"/>\\n<g clip-path=\\\"url(#clip4400)\\\">\\n<text style=\\\"fill:#000000; fill-opacity:1; font-family:Arial,Helvetica Neue,Helvetica,sans-serif; font-size:84px; text-anchor:middle;\\\" transform=\\\"rotate(0, 1267.38, 309.767)\\\" x=\\\"1267.38\\\" y=\\\"309.767\\\">0</text>\\n</g>\\n<g clip-path=\\\"url(#clip4400)\\\">\\n<text style=\\\"fill:#000000; fill-opacity:1; font-family:Arial,Helvetica Neue,Helvetica,sans-serif; font-size:84px; text-anchor:middle;\\\" transform=\\\"rotate(0, 1582.57, 394.221)\\\" x=\\\"1582.57\\\" y=\\\"394.221\\\">5</text>\\n</g>\\n<g clip-path=\\\"url(#clip4400)\\\">\\n<text style=\\\"fill:#000000; fill-opacity:1; font-family:Arial,Helvetica Neue,Helvetica,sans-serif; font-size:84px; text-anchor:middle;\\\" transform=\\\"rotate(0, 1813.3, 624.952)\\\" x=\\\"1813.3\\\" y=\\\"624.952\\\">10</text>\\n</g>\\n<g clip-path=\\\"url(#clip4400)\\\">\\n<text style=\\\"fill:#000000; fill-opacity:1; font-family:Arial,Helvetica Neue,Helvetica,sans-serif; font-size:84px; text-anchor:middle;\\\" transform=\\\"rotate(0, 1897.75, 940.136)\\\" x=\\\"1897.75\\\" y=\\\"940.136\\\">15</text>\\n</g>\\n<g clip-path=\\\"url(#clip4400)\\\">\\n<text style=\\\"fill:#000000; fill-opacity:1; font-family:Arial,Helvetica Neue,Helvetica,sans-serif; font-size:84px; text-anchor:middle;\\\" transform=\\\"rotate(0, 1813.3, 1255.32)\\\" x=\\\"1813.3\\\" y=\\\"1255.32\\\">20</text>\\n</g>\\n<g clip-path=\\\"url(#clip4400)\\\">\\n<text style=\\\"fill:#000000; fill-opacity:1; font-family:Arial,Helvetica Neue,Helvetica,sans-serif; font-size:84px; text-anchor:middle;\\\" transform=\\\"rotate(0, 1582.57, 1486.05)\\\" x=\\\"1582.57\\\" y=\\\"1486.05\\\">25</text>\\n</g>\\n<g clip-path=\\\"url(#clip4400)\\\">\\n<text style=\\\"fill:#000000; fill-opacity:1; font-family:Arial,Helvetica Neue,Helvetica,sans-serif; font-size:84px; text-anchor:middle;\\\" transform=\\\"rotate(0, 1267.38, 1570.51)\\\" x=\\\"1267.38\\\" y=\\\"1570.51\\\">30</text>\\n</g>\\n<g clip-path=\\\"url(#clip4400)\\\">\\n<text style=\\\"fill:#000000; fill-opacity:1; font-family:Arial,Helvetica Neue,Helvetica,sans-serif; font-size:84px; text-anchor:middle;\\\" transform=\\\"rotate(0, 952.197, 1486.05)\\\" x=\\\"952.197\\\" y=\\\"1486.05\\\">35</text>\\n</g>\\n<g clip-path=\\\"url(#clip4400)\\\">\\n<text style=\\\"fill:#000000; fill-opacity:1; font-family:Arial,Helvetica Neue,Helvetica,sans-serif; font-size:84px; text-anchor:middle;\\\" transform=\\\"rotate(0, 721.466, 1255.32)\\\" x=\\\"721.466\\\" y=\\\"1255.32\\\">40</text>\\n</g>\\n<g clip-path=\\\"url(#clip4400)\\\">\\n<text style=\\\"fill:#000000; fill-opacity:1; font-family:Arial,Helvetica Neue,Helvetica,sans-serif; font-size:84px; text-anchor:middle;\\\" transform=\\\"rotate(0, 637.013, 940.136)\\\" x=\\\"637.013\\\" y=\\\"940.136\\\">45</text>\\n</g>\\n<g clip-path=\\\"url(#clip4400)\\\">\\n<text style=\\\"fill:#000000; fill-opacity:1; font-family:Arial,Helvetica Neue,Helvetica,sans-serif; font-size:84px; text-anchor:middle;\\\" transform=\\\"rotate(0, 721.466, 624.952)\\\" x=\\\"721.466\\\" y=\\\"624.952\\\">50</text>\\n</g>\\n<g clip-path=\\\"url(#clip4400)\\\">\\n<text style=\\\"fill:#000000; fill-opacity:1; font-family:Arial,Helvetica Neue,Helvetica,sans-serif; font-size:84px; text-anchor:middle;\\\" transform=\\\"rotate(0, 952.197, 394.221)\\\" x=\\\"952.197\\\" y=\\\"394.221\\\">55</text>\\n</g>\\n</svg>\\n\" })))"
      ]
     },
     "metadata": {
      "application/vnd.webio.node+json": {
       "kernelId": "c6dffd51-0c8c-4dcd-aa97-15be6ec6494b"
      }
     },
     "output_type": "display_data"
    },
    {
     "name": "stderr",
     "output_type": "stream",
     "text": [
      "┌ Warning: Accessing `scope.id` is deprecated, use `scopeid(scope)` instead.\n",
      "│   caller = ip:0x0\n",
      "└ @ Core :-1\n"
     ]
    }
   ],
   "source": [
    "btn₊ = button(\"+\")\n",
    "btn₋ = button(\"-\")\n",
    "btn₊10 = button(\"+10\")\n",
    "btn₋10 = button(\"-10\")\n",
    "const initval = 5\n",
    "timer = Interact.@map begin\n",
    "    &btn₊, &btn₋\n",
    "    s = initval + 10*&btn₊10 + &btn₊ - &btn₋ - 10*&btn₋10\n",
    "    # do not allow set `s` to negative value.\n",
    "    s = max(s, 0)\n",
    "    Widgets.wdglabel(\"$(s)\")\n",
    "end\n",
    "\n",
    "btnstart = button(\"Start\")\n",
    "function dosomething(t)\n",
    "    maxtime = parse(Int, t.val.children[1])\n",
    "    run_clock(maxtime)\n",
    "end\n",
    "\n",
    "on(_ -> dosomething(timer), btnstart)\n",
    "\n",
    "buttons = hbox(btn₋10, btn₋, timer, btn₊, btn₊10, btnstart)\n",
    "clock = map(sec->tick_clock(sec), timestatus)\n",
    "ui = vbox(buttons,clock)\n",
    "display(ui)"
   ]
  },
  {
   "cell_type": "code",
   "execution_count": 5,
   "metadata": {},
   "outputs": [
    {
     "data": {
      "text/plain": [
       "Page(1, WebSocket(server, \u001b[32mCONNECTED\u001b[39m), Dict{String,Any}(\"webio\"=>##28#29{WebIOBlinkComm}(WebIOBlinkComm(Window(1, Electron(Process(`\u001b[4m/Users/terasakisatoshi/.julia/packages/Blink/AO8uN/deps/Julia.app/Contents/MacOS/Julia\u001b[24m \u001b[4m/Users/terasakisatoshi/.julia/packages/Blink/AO8uN/src/AtomShell/main.js\u001b[24m \u001b[4mport\u001b[24m \u001b[4m7824\u001b[24m`, ProcessRunning), TCPSocket(RawFD(0x00000033) active, 0 bytes waiting), Dict{String,Any}(\"callback\"=>##1#2())), Page(#= circular reference @-5 =#), Task (done) @0x000000010bd35f90))),\"callback\"=>##1#2()), Distributed.Future(1, 1, 1, Some(true)))"
      ]
     },
     "execution_count": 5,
     "metadata": {},
     "output_type": "execute_result"
    }
   ],
   "source": [
    "using Blink\n",
    "w = Window()\n",
    "body!(w, ui)"
   ]
  },
  {
   "cell_type": "code",
   "execution_count": 6,
   "metadata": {},
   "outputs": [
    {
     "data": {
      "text/plain": [
       "Task (runnable) @0x0000000126c0cb50"
      ]
     },
     "execution_count": 6,
     "metadata": {},
     "output_type": "execute_result"
    }
   ],
   "source": [
    "using Mux\n",
    "port=9000\n",
    "WebIO.webio_serve(page(\"/\", req -> ui),port)"
   ]
  },
  {
   "cell_type": "markdown",
   "metadata": {},
   "source": [
    "- open http://localhost:9000"
   ]
  }
 ],
 "metadata": {
  "@webio": {
   "lastCommId": "c561c4b5debf4012855b138170248c8e",
   "lastKernelId": "c6dffd51-0c8c-4dcd-aa97-15be6ec6494b"
  },
  "kernelspec": {
   "display_name": "Julia 1.1.1",
   "language": "julia",
   "name": "julia-1.1"
  },
  "language_info": {
   "file_extension": ".jl",
   "mimetype": "application/julia",
   "name": "julia",
   "version": "1.1.1"
  }
 },
 "nbformat": 4,
 "nbformat_minor": 2
}
