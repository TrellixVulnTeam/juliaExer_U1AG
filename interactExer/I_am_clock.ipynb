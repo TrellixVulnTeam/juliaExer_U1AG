{
 "cells": [
  {
   "cell_type": "code",
   "execution_count": 18,
   "metadata": {},
   "outputs": [
    {
     "ename": "ArgumentError",
     "evalue": "ArgumentError: Package Interact not found in current path:\n- Run `import Pkg; Pkg.add(\"Interact\")` to install the Interact package.\n",
     "output_type": "error",
     "traceback": [
      "ArgumentError: Package Interact not found in current path:\n- Run `import Pkg; Pkg.add(\"Interact\")` to install the Interact package.\n",
      "",
      "Stacktrace:",
      " [1] require(::Module, ::Symbol) at ./loading.jl:823",
      " [2] top-level scope at In[18]:1"
     ]
    }
   ],
   "source": [
    "using Interact\n",
    "using Plots\n",
    "using Dates"
   ]
  },
  {
   "cell_type": "code",
   "execution_count": 19,
   "metadata": {},
   "outputs": [
    {
     "data": {
      "text/plain": [
       "tick_clock (generic function with 1 method)"
      ]
     },
     "execution_count": 19,
     "metadata": {},
     "output_type": "execute_result"
    }
   ],
   "source": [
    "function tick_clock(sec)\n",
    "    rad = sec * 2pi / 60\n",
    "    r = mod(rad, 2pi)\n",
    "    r = pi / 2 - r\n",
    "    # make needle\n",
    "    q = quiver([0], [0],\n",
    "              quiver = ([cos(r)], [sin(r)]),\n",
    "              color = :black,\n",
    "              linewidth = 4,\n",
    "              linealpha = 0.5)\n",
    "    # draw tick\n",
    "    for k in 0:59\n",
    "        offset = 15\n",
    "        t = k - offset\n",
    "        if mod(k, 5) == 0\n",
    "            b, e = 0.9, 1.1\n",
    "            plot!([b * cos(-t * 2pi / 60), e * cos(-t * 2pi / 60)],\n",
    "                  [b * sin(-t * 2pi / 60), e * sin(-t * 2pi / 60)],\n",
    "                  color = :black)\n",
    "            annotate!([(1.2 * cos(-t * 2pi / 60), 1.2 * sin(-t * 2pi / 60), \"$k\")])\n",
    "        else\n",
    "            b, e = 0.95, 1.05\n",
    "            plot!([b * cos(-t * 2pi / 60), e * cos(-t * 2pi / 60)],\n",
    "                  [b * sin(-t * 2pi / 60), e * sin(-t * 2pi / 60)],\n",
    "                  color = :black)\n",
    "        end\n",
    "    end\n",
    "    # adjust style\n",
    "    plot!(xlim = (-1.1, 1.1), ylim = (-1.1, 1.5),\n",
    "        aspect_ratio = :equal,\n",
    "        leg = false,\n",
    "        showaxis = false,\n",
    "        grid = false,\n",
    "        title = \"$(sec) [s]\")\n",
    "end"
   ]
  },
  {
   "cell_type": "code",
   "execution_count": 20,
   "metadata": {},
   "outputs": [
    {
     "ename": "UndefVarError",
     "evalue": "UndefVarError: Observable not defined",
     "output_type": "error",
     "traceback": [
      "UndefVarError: Observable not defined",
      "",
      "Stacktrace:",
      " [1] top-level scope at In[20]:1"
     ]
    }
   ],
   "source": [
    "timestatus = Observable(0)\n",
    "function run_clock(maxsec)\n",
    "    init_state = 0\n",
    "    interval = 1\n",
    "    count = init_state\n",
    "    while true\n",
    "        sleep(interval)\n",
    "        timestatus[] = count\n",
    "        count += interval\n",
    "        if count > maxsec\n",
    "            break\n",
    "        end\n",
    "    end\n",
    "    # reset\n",
    "    sleep(interval)\n",
    "    timestatus[] = init_state\n",
    "end\n"
   ]
  },
  {
   "cell_type": "code",
   "execution_count": 21,
   "metadata": {},
   "outputs": [
    {
     "ename": "UndefVarError",
     "evalue": "UndefVarError: button not defined",
     "output_type": "error",
     "traceback": [
      "UndefVarError: button not defined",
      "",
      "Stacktrace:",
      " [1] top-level scope at In[21]:1"
     ]
    }
   ],
   "source": [
    "btn₊ = button(\"+\")\n",
    "btn₋ = button(\"-\")\n",
    "btn₊10 = button(\"+10\")\n",
    "btn₋10 = button(\"-10\")\n",
    "const initval = 5\n",
    "timer = Interact.@map begin\n",
    "    &btn₊, &btn₋\n",
    "    s = initval + 10*&btn₊10 + &btn₊ - &btn₋ - 10*&btn₋10\n",
    "    # do not allow set `s` to negative value.\n",
    "    s = max(s, 0)\n",
    "    Widgets.wdglabel(\"$(s)\")\n",
    "end\n",
    "\n",
    "btnstart = button(\"Start\")\n",
    "function dosomething(t)\n",
    "    maxtime = parse(Int, t.val.children[1])\n",
    "    run_clock(maxtime)\n",
    "end\n",
    "\n",
    "on(_ -> dosomething(timer), btnstart)\n",
    "\n",
    "buttons = hbox(btn₋10, btn₋, timer, btn₊, btn₊10, btnstart)\n",
    "clock = map(sec->tick_clock(sec), timestatus)\n",
    "ui = vbox(buttons,clock)\n",
    "display(ui)"
   ]
  },
  {
   "cell_type": "code",
   "execution_count": 22,
   "metadata": {},
   "outputs": [
    {
     "ename": "ErrorException",
     "evalue": "Cannot find Electron. Try `Blink.AtomShell.install()`.",
     "output_type": "error",
     "traceback": [
      "Cannot find Electron. Try `Blink.AtomShell.install()`.",
      "",
      "Stacktrace:",
      " [1] error(::String) at ./error.jl:33",
      " [2] electron at /Users/terasakisatoshi/.julia/packages/Blink/AO8uN/src/AtomShell/process.jl:70 [inlined]",
      " [3] #init#12(::Bool, ::Function) at /Users/terasakisatoshi/.julia/packages/Blink/AO8uN/src/AtomShell/process.jl:88",
      " [4] #init at ./none:0 [inlined]",
      " [5] #shell#15(::Bool, ::Function) at /Users/terasakisatoshi/.julia/packages/Blink/AO8uN/src/AtomShell/process.jl:129",
      " [6] shell at /Users/terasakisatoshi/.julia/packages/Blink/AO8uN/src/AtomShell/process.jl:127 [inlined]",
      " [7] #Window#20(::Base.Iterators.Pairs{Union{},Union{},Tuple{},NamedTuple{(),Tuple{}}}, ::Type) at /Users/terasakisatoshi/.julia/packages/Blink/AO8uN/src/AtomShell/window.jl:89",
      " [8] Window() at /Users/terasakisatoshi/.julia/packages/Blink/AO8uN/src/AtomShell/window.jl:89",
      " [9] top-level scope at In[22]:2"
     ]
    }
   ],
   "source": [
    "using Blink\n",
    "w = Window()\n",
    "body!(w, ui)"
   ]
  },
  {
   "cell_type": "code",
   "execution_count": 12,
   "metadata": {},
   "outputs": [
    {
     "ename": "ArgumentError",
     "evalue": "ArgumentError: Package Mux not found in current path:\n- Run `import Pkg; Pkg.add(\"Mux\")` to install the Mux package.\n",
     "output_type": "error",
     "traceback": [
      "ArgumentError: Package Mux not found in current path:\n- Run `import Pkg; Pkg.add(\"Mux\")` to install the Mux package.\n",
      "",
      "Stacktrace:",
      " [1] require(::Module, ::Symbol) at ./loading.jl:823",
      " [2] top-level scope at In[12]:1"
     ]
    }
   ],
   "source": [
    "using Mux\n",
    "port=9000\n",
    "WebIO.webio_serve(page(\"/\", req -> ui),port)"
   ]
  },
  {
   "cell_type": "markdown",
   "metadata": {},
   "source": [
    "- open http://localhost:9000"
   ]
  }
 ],
 "metadata": {
  "@webio": {
   "lastCommId": "6855643cbde04f1d8901f4d9e4d1e827",
   "lastKernelId": "dd9c780b-8688-449f-87d3-d22c94a8c007"
  },
  "kernelspec": {
   "display_name": "Julia 1.1.1",
   "language": "julia",
   "name": "julia-1.1"
  },
  "language_info": {
   "file_extension": ".jl",
   "mimetype": "application/julia",
   "name": "julia",
   "version": "1.1.1"
  }
 },
 "nbformat": 4,
 "nbformat_minor": 2
}
