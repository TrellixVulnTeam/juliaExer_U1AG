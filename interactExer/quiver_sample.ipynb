{
 "cells": [
  {
   "cell_type": "code",
   "execution_count": null,
   "metadata": {},
   "outputs": [],
   "source": [
    "using Interact\n",
    "using Plots"
   ]
  },
  {
   "cell_type": "markdown",
   "metadata": {},
   "source": [
    "# quiver sample"
   ]
  },
  {
   "cell_type": "code",
   "execution_count": null,
   "metadata": {},
   "outputs": [],
   "source": [
    "@doc quiver"
   ]
  },
  {
   "cell_type": "code",
   "execution_count": null,
   "metadata": {},
   "outputs": [],
   "source": [
    "quiver([1,2,3],[3,2,1],quiver=([1,1,1],[1,2,3]))"
   ]
  },
  {
   "cell_type": "markdown",
   "metadata": {},
   "source": [
    "# with Interact.jl"
   ]
  },
  {
   "cell_type": "markdown",
   "metadata": {},
   "source": [
    "# Rotation"
   ]
  },
  {
   "cell_type": "code",
   "execution_count": null,
   "metadata": {},
   "outputs": [],
   "source": [
    "angle_slider=slider(-180:180,value=30, label=\"angle\")\n",
    "\n",
    "function plot_quiver(angle)\n",
    "    e1=[1,0]\n",
    "    e2=[0,1]\n",
    "    es=[e1 e2]\n",
    "    θ=deg2rad(angle)\n",
    "    m=[cos(θ) -sin(θ);\n",
    "         sin(θ) cos(θ)]\n",
    "    trans1=m*e1\n",
    "    trans2=m*e2\n",
    "    plot(xlabel=\"x\",ylabel=\"y\",xlims=(-3,3),ylims=(-3,3),aspect_ratio=:equal)\n",
    "    # もっとスマートな引数の渡し方が知りたい　[] を何回も打つのはイヤだ splat 展開使いたい\n",
    "    quiver!([0],[0], quiver=([e1[1]],[e1[2]]), color=RGBA(1,0,0,0.3))\n",
    "    quiver!([0],[0], quiver=([e2[1]],[e2[2]]), color=RGBA(1,0,0,0.3))\n",
    "    quiver!([0],[0], quiver=([trans1[1]],[trans1[2]]), color=RGB(1,0,0))\n",
    "    quiver!([0],[0], quiver=([trans2[1]],[trans2[2]]), color=RGB(0,0,1))\n",
    "end\n",
    "\n",
    "q=map(angle-> plot_quiver(angle),observe(angle_slider))\n",
    "map(display, [angle_slider,q]);"
   ]
  },
  {
   "cell_type": "markdown",
   "metadata": {},
   "source": [
    "# generic example"
   ]
  },
  {
   "cell_type": "code",
   "execution_count": null,
   "metadata": {},
   "outputs": [],
   "source": [
    "a_slider=slider(-3:0.05:3,value=1.0, label=\"a\")\n",
    "b_slider=slider(-3:0.05:3,value=1.0, label=\"b\")\n",
    "c_slider=slider(-3:0.05:3,value=1.0, label=\"c\")\n",
    "d_slider=slider(-3:0.05:3,value=1.0, label=\"d\")\n",
    "\n",
    "function plot_quiver(a,b,c,d)\n",
    "    e1=[1,0]\n",
    "    e2=[0,1]\n",
    "    es=[e1 e2]\n",
    "    m=[a b;\n",
    "         c d]\n",
    "    transformed=m*[e1 e2]\n",
    "    plot(xlabel=\"x\",ylabel=\"y\",xlims=(-3,3),ylims=(-3,3),aspect_ratio=:equal)\n",
    "    quiver!(\n",
    "        zeros(2),zeros(2),\n",
    "        quiver=(es[1,:],es[2,:]),\n",
    "        color=RGBA(1,0,0,0.3),\n",
    "    )\n",
    "    quiver!(\n",
    "        zeros(2),zeros(2),\n",
    "        quiver=(transformed[1,:],transformed[2,:]),\n",
    "        color=RGB(1,0,0),\n",
    "    )\n",
    "end\n",
    "\n",
    "q=map(\n",
    "    (a,b,c,d)-> plot_quiver(a,b,c,d),\n",
    "    observe.([a_slider,b_slider,c_slider,d_slider])...\n",
    ")\n",
    "\n",
    "vbox(\n",
    "    hbox(a_slider,b_slider),\n",
    "    hbox(c_slider,d_slider),\n",
    "    q\n",
    ")"
   ]
  }
 ],
 "metadata": {
  "@webio": {
   "lastCommId": null,
   "lastKernelId": null
  },
  "kernelspec": {
   "display_name": "Julia 1.1.0",
   "language": "julia",
   "name": "julia-1.1"
  },
  "language_info": {
   "file_extension": ".jl",
   "mimetype": "application/julia",
   "name": "julia",
   "version": "1.1.0"
  }
 },
 "nbformat": 4,
 "nbformat_minor": 2
}
