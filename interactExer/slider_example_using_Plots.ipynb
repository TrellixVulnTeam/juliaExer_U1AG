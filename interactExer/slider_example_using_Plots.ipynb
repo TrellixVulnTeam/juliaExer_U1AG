{
 "cells": [
  {
   "cell_type": "code",
   "execution_count": null,
   "metadata": {},
   "outputs": [],
   "source": [
    "# Example of Interact using Plots\n",
    "using Interact\n",
    "using Plots\n",
    "using Rotations"
   ]
  },
  {
   "cell_type": "code",
   "execution_count": null,
   "metadata": {},
   "outputs": [],
   "source": [
    "function f(a)\n",
    "    xs=-pi:0.01:pi\n",
    "    ys=sin.(xs.-a)\n",
    "    plot(xs,ys)\n",
    "end\n",
    "\n",
    "a_slider=slider(-3:0.1:3,label=\"a_slider\")\n",
    "p=map(a->f(a), observe(a_slider))\n",
    "map(display,[p,a_slider])"
   ]
  },
  {
   "cell_type": "code",
   "execution_count": null,
   "metadata": {},
   "outputs": [],
   "source": [
    "p=ones(3)/sqrt(3)\n",
    "scatter3d(\n",
    "    [p[1]],[p[2]],[p[3]],\n",
    "    xlabel=\"x\",ylabel=\"y\",zlabel=\"z\",\n",
    "    color=:blue\n",
    ")\n",
    "\n",
    "function plot_rotated_pts(x_angle,y_angle,z_angle)\n",
    "    xyz_rad = deg2rad.([x_angle,y_angle,z_angle])\n",
    "    r=RotXYZ(xyz_rad...)\n",
    "    q=r*p\n",
    "    scatter3d!([q[1]],[q[2]],[q[3]],color=:green,legend=false)\n",
    "    xlims!((-1.0,1.0)); ylims!((-1.0,1.0)); zlims!((-1.0,1.0))\n",
    "end\n",
    "\n",
    "x_axis=slider(-180:180, label=\"x_axis\")\n",
    "y_axis=slider(-180:180, label=\"y_axis\")\n",
    "z_axis=slider(-180:180, label=\"z_axis\")\n",
    "\n",
    "angle_plot=map(\n",
    "    (x_deg,y_deg,z_deg)->plot_rotated_pts(x_deg,y_deg,z_deg),\n",
    "    observe(x_axis),observe(y_axis),observe(z_axis)\n",
    ")\n",
    "\n",
    "map(display,[x_axis, y_axis, z_axis, angle_plot]);"
   ]
  }
 ],
 "metadata": {
  "@webio": {
   "lastCommId": null,
   "lastKernelId": null
  },
  "kernelspec": {
   "display_name": "Julia 1.1.1",
   "language": "julia",
   "name": "julia-1.1"
  },
  "language_info": {
   "file_extension": ".jl",
   "mimetype": "application/julia",
   "name": "julia",
   "version": "1.1.1"
  }
 },
 "nbformat": 4,
 "nbformat_minor": 2
}
