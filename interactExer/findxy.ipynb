{
 "cells": [
  {
   "cell_type": "markdown",
   "metadata": {},
   "source": [
    "# Find pair of integers\n",
    "\n",
    "Let $a$ and $b$ be integers which are [coprime](https://en.wikipedia.org/wiki/Coprime_integers).\n",
    "Then, from number theory, there exist intergers $x$ and $y$ such that $ax+by=1$.\n",
    "\n",
    "- [see also Bézout's identity](https://en.wikipedia.org/wiki/B%C3%A9zout%27s_identity)\n",
    "\n",
    "From now, let's find $x$ and $y$ by yourself.\n",
    "Here is a Julia application which will help you to solve the quiz."
   ]
  },
  {
   "cell_type": "code",
   "execution_count": null,
   "metadata": {},
   "outputs": [],
   "source": [
    "using Interact\n",
    "using Plots"
   ]
  },
  {
   "cell_type": "code",
   "execution_count": null,
   "metadata": {},
   "outputs": [],
   "source": [
    "a,b=3,7\n",
    "\n",
    "a₊btn= button(\"+\")\n",
    "b₊btn= button(\"+\")\n",
    "a₋btn= button(\"-\")\n",
    "b₋btn= button(\"-\")\n",
    "x= Interact.@map ((&a₊btn, &a₋btn); latex(\"x=$(&a₊btn- &a₋btn)\"))\n",
    "y= Interact.@map ((&b₊btn, &b₋btn); latex(\"y=$(&b₊btn- &b₋btn)\"))\n",
    "\n",
    "\n",
    "output= Interact.@map ( (&a₊btn, &a₋btn,&b₊btn, &b₋btn); \n",
    "    widget(a*(&a₊btn- &a₋btn) + b*(&b₊btn- &b₋btn))\n",
    ")\n",
    "\n",
    "function setequation(eq, output)\n",
    "    wids=[]\n",
    "    for c in eq\n",
    "        push!(wids, latex(string(c)))\n",
    "        push!(wids, hskip(2em))\n",
    "    end\n",
    "    push!(wids,output)\n",
    "    return hbox(wids...)\n",
    "end\n",
    "\n",
    "ui=vbox(\n",
    "    hbox(hskip(2em),a₊btn, hskip(5.8em),b₊btn),\n",
    "    hbox(hskip(2em),a₋btn, hskip(6em),b₋btn),\n",
    "    setequation(\"$(a)x+$(b)y=\", output),\n",
    "    hbox(hskip(2.5em), x, hskip(5em), y),\n",
    ")"
   ]
  }
 ],
 "metadata": {
  "@webio": {
   "lastCommId": null,
   "lastKernelId": null
  },
  "kernelspec": {
   "display_name": "Julia 1.1.1",
   "language": "julia",
   "name": "julia-1.1"
  },
  "language_info": {
   "file_extension": ".jl",
   "mimetype": "application/julia",
   "name": "julia",
   "version": "1.1.1"
  }
 },
 "nbformat": 4,
 "nbformat_minor": 2
}
