{
 "cells": [
  {
   "cell_type": "code",
   "execution_count": null,
   "metadata": {},
   "outputs": [],
   "source": [
    "using Blink\n",
    "using CSV\n",
    "using DataFrames\n",
    "using Interact\n",
    "using Plots"
   ]
  },
  {
   "cell_type": "code",
   "execution_count": null,
   "metadata": {},
   "outputs": [],
   "source": [
    "df1 = DataFrame(Any[10*randn(500), 10*rand(500), 10*rand(500)], [:AAA, :BBB, :CCC])\n",
    "@show names(df1)\n",
    "CSV.write(\"sample.csv\", df1)"
   ]
  },
  {
   "cell_type": "code",
   "execution_count": null,
   "metadata": {},
   "outputs": [],
   "source": [
    "loadbutton = filepicker()\n",
    "columnbuttons = Observable{Any}(dom\"div\"())\n",
    "data = Observable{Any}(DataFrame)\n",
    "plt = Observable{Any}(plot())\n",
    "map!(CSV.read, data, loadbutton)\n",
    "\n",
    "function makebuttons(df)\n",
    "    buttons = button.(string.(names(df)))\n",
    "    for (btn, name) in zip(buttons, names(df))\n",
    "        map!(t -> histogram(df[name]), plt, btn)\n",
    "    end\n",
    "    dom\"div\"(hbox(buttons))\n",
    "end\n",
    "\n",
    "map!(makebuttons, columnbuttons, data)\n",
    "\n",
    "ui = dom\"div\"(loadbutton, columnbuttons, plt)\n",
    "\n",
    "w = Window()\n",
    "body!(w, ui)"
   ]
  }
 ],
 "metadata": {
  "@webio": {
   "lastCommId": null,
   "lastKernelId": null
  },
  "kernelspec": {
   "display_name": "Julia 1.1.1",
   "language": "julia",
   "name": "julia-1.1"
  },
  "language_info": {
   "file_extension": ".jl",
   "mimetype": "application/julia",
   "name": "julia",
   "version": "1.1.1"
  }
 },
 "nbformat": 4,
 "nbformat_minor": 2
}
