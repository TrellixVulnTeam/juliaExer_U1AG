{
 "cells": [
  {
   "cell_type": "code",
   "execution_count": null,
   "metadata": {},
   "outputs": [],
   "source": [
    "using Interact\n",
    "using Mux"
   ]
  },
  {
   "cell_type": "code",
   "execution_count": null,
   "metadata": {},
   "outputs": [],
   "source": [
    "using Plots\n",
    "gr()\n",
    "plotsui=@manipulate for a in -4:0.05:4\n",
    "    x= -π:0.01:π\n",
    "    y=sin.(x.-a)\n",
    "    Plots.plot(x, y, xlim=(-π, π), ylim=(-1,1))\n",
    "end\n",
    "p=page(\"/\", req -> plotsui)\n",
    "WebIO.webio_serve(p, 9999)"
   ]
  },
  {
   "cell_type": "markdown",
   "metadata": {},
   "source": [
    "Then,  [open http://localhost:9999 or click here](http://localhost:9999)"
   ]
  },
  {
   "cell_type": "code",
   "execution_count": null,
   "metadata": {},
   "outputs": [],
   "source": [
    "using Makie\n",
    "\n",
    "makieui = @manipulate for a in -4:0.1:4\n",
    "    x= -π:0.01:π\n",
    "    y=sin.(x.-a)\n",
    "    Makie.lines(x,　y)\n",
    "end\n",
    "\n",
    "WebIO.webio_serve(page(\"/\", req -> makieui), 9998)"
   ]
  },
  {
   "cell_type": "markdown",
   "metadata": {},
   "source": [
    "Then,  [open http://localhost:9998 or click here](http://localhost:9998)"
   ]
  }
 ],
 "metadata": {
  "@webio": {
   "lastCommId": null,
   "lastKernelId": null
  },
  "kernelspec": {
   "display_name": "Julia 1.1.1",
   "language": "julia",
   "name": "julia-1.1"
  },
  "language_info": {
   "file_extension": ".jl",
   "mimetype": "application/julia",
   "name": "julia",
   "version": "1.1.1"
  }
 },
 "nbformat": 4,
 "nbformat_minor": 2
}
