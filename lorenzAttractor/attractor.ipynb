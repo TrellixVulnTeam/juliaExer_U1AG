{
 "cells": [
  {
   "cell_type": "code",
   "execution_count": 1,
   "metadata": {},
   "outputs": [
    {
     "name": "stderr",
     "output_type": "stream",
     "text": [
      "\u001b[1m\u001b[36mINFO: \u001b[39m\u001b[22m\u001b[36mSaved animation to /Users/terasakisatoshi/work/juliaLang/lorenzAttractor/tmp.gif\n",
      "\u001b[39m"
     ]
    },
    {
     "data": {
      "text/html": [
       "<img src=\"tmp.gif?0.9776053780705973>\" />"
      ],
      "text/plain": [
       "Plots.AnimatedGif(\"/Users/terasakisatoshi/work/juliaLang/lorenzAttractor/tmp.gif\")"
      ]
     },
     "execution_count": 1,
     "metadata": {},
     "output_type": "execute_result"
    }
   ],
   "source": [
    "#Reference:http://docs.juliaplots.org/latest/\n",
    "\n",
    "using Plots\n",
    "\n",
    "# initialize the attractor\n",
    "n = 1500\n",
    "dt = 0.02\n",
    "σ, ρ, β = 10., 28., 8/3\n",
    "x, y, z = 1., 1., 1.\n",
    "\n",
    "# initialize a 3D plot with 1 empty series\n",
    "plt = path3d(1, xlim=(-25,25), ylim=(-25,25), zlim=(0,50),\n",
    "                xlab = \"x\", ylab = \"y\", zlab = \"z\",\n",
    "                title = \"Lorenz Attractor\", marker = 1)\n",
    "\n",
    "# build an animated gif, saving every 10th frame\n",
    "@gif for i=1:n\n",
    "    dx = σ*(y - x)     ; x += dt * dx\n",
    "    dy = x*(ρ - z) - y ; y += dt * dy\n",
    "    dz = x*y - β*z     ; z += dt * dz\n",
    "    push!(plt, x, y, z)\n",
    "end every 10"
   ]
  },
  {
   "cell_type": "code",
   "execution_count": 2,
   "metadata": {},
   "outputs": [
    {
     "name": "stderr",
     "output_type": "stream",
     "text": [
      "\u001b[32mProgress:   1%|                                         |  ETA: 0:15:07\u001b[39m/Users/terasakisatoshi/.julia/v0.6/Conda/deps/usr/lib/python2.7/site-packages/matplotlib/contour.py:967: UserWarning: The following kwargs were not used by contour: 'label'\n",
      "  s)\n",
      "\u001b[32mProgress: 100%|█████████████████████████████████████████| Time: 0:03:55\u001b[39m\n",
      "\u001b[1m\u001b[36mINFO: \u001b[39m\u001b[22m\u001b[36mSaved animation to /Users/terasakisatoshi/work/juliaLang/lorenzAttractor/tmp.gif\n",
      "\u001b[39m"
     ]
    },
    {
     "data": {
      "text/html": [
       "<img src=\"tmp.gif?0.928316968346754>\" />"
      ],
      "text/plain": [
       "Plots.AnimatedGif(\"/Users/terasakisatoshi/work/juliaLang/lorenzAttractor/tmp.gif\")"
      ]
     },
     "execution_count": 2,
     "metadata": {},
     "output_type": "execute_result"
    }
   ],
   "source": [
    "using Plots, ProgressMeter\n",
    "pyplot(leg=false, ticks=nothing)\n",
    "x = y = linspace(-5, 5, 40)\n",
    "zs = zeros(0,40)\n",
    "n = 100\n",
    "\n",
    "# create a progress bar for tracking the animation generation\n",
    "prog = Progress(n,1)\n",
    "\n",
    "@gif for i in linspace(0, 2π, n)\n",
    "    f(x,y) = sin(x + 10sin(i)) + cos(y)\n",
    "\n",
    "    # create a plot with 3 subplots and a custom layout\n",
    "    l = @layout [a{0.7w} b; c{0.2h}]\n",
    "    p = plot(x, y, f, st = [:surface, :contourf], layout=l)\n",
    "\n",
    "    # induce a slight oscillating camera angle sweep, in degrees (azimuth, altitude)\n",
    "    plot!(p[1],camera=(15*cos(i),40))\n",
    "\n",
    "    # add a tracking line\n",
    "    fixed_x = zeros(40)\n",
    "    z = map(f,fixed_x,y)\n",
    "    plot!(p[1], fixed_x, y, z, line = (:black, 5, 0.2))\n",
    "    vline!(p[2], [0], line = (:black, 5))\n",
    "\n",
    "    # add to and show the tracked values over time\n",
    "    zs = vcat(zs, z')\n",
    "    plot!(p[3], zs, alpha = 0.2, palette = cgrad(:blues).colors)\n",
    "\n",
    "    # increment the progress bar\n",
    "    next!(prog)\n",
    "end"
   ]
  },
  {
   "cell_type": "code",
   "execution_count": null,
   "metadata": {},
   "outputs": [],
   "source": []
  }
 ],
 "metadata": {
  "kernelspec": {
   "display_name": "Julia 0.6.1",
   "language": "julia",
   "name": "julia-0.6"
  },
  "language_info": {
   "file_extension": ".jl",
   "mimetype": "application/julia",
   "name": "julia",
   "version": "0.6.1"
  }
 },
 "nbformat": 4,
 "nbformat_minor": 2
}
