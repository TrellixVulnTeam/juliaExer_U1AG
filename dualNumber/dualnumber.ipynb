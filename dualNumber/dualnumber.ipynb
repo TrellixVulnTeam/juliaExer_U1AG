{
 "cells": [
  {
   "cell_type": "markdown",
   "metadata": {},
   "source": [
    "# dual number"
   ]
  },
  {
   "cell_type": "code",
   "execution_count": 1,
   "metadata": {},
   "outputs": [],
   "source": [
    "mutable struct D{T<:Number} <:Number \n",
    "    a::T\n",
    "    b::T\n",
    "end "
   ]
  },
  {
   "cell_type": "code",
   "execution_count": 2,
   "metadata": {},
   "outputs": [
    {
     "data": {
      "text/plain": [
       "D{Int64}(0, 1)"
      ]
     },
     "execution_count": 2,
     "metadata": {},
     "output_type": "execute_result"
    }
   ],
   "source": [
    "const epsilon = D(0,1)\n",
    "const ε = epsilon"
   ]
  },
  {
   "cell_type": "code",
   "execution_count": 3,
   "metadata": {},
   "outputs": [],
   "source": [
    "Base.promote_rule(::Type{D{T}}, ::Type{S}) where {T<:Number,S<:Number} = D{promote_type(T,S)}\n",
    "Base.promote_rule(::Type{S}, ::Type{D{T}}) where {T<:Number,S<:Number} = D{promote_type(T,S)}\n",
    "Base.promote_rule(::Type{D{T}}, ::Type{D{S}}) where {T<:Number,S<:Number} = D{promote_type(T,S)}\n",
    "\n",
    "function Base.convert(::Type{D{T}},x::D{S}) where {T<:Number,S<:Number}\n",
    "    P=promote_type(T,S)\n",
    "    D(P(x.a),P(x.b))\n",
    "end \n",
    "\n",
    "function Base.convert(::Type{D{T}},x::S) where {T<:Number,S<:Number}\n",
    "    P=promote_type(T,S)\n",
    "    D(P(x),zero(P))\n",
    "end \n",
    "\n",
    "Base.:+(x::D,y::D) = D(x.a+y.a, x.b+y.b)\n",
    "Base.:-(x::D,y::D) = D(x.a-y.a, x.b-y.b)\n",
    "Base.:-(x::D) = D(-x.a,-x.b)\n",
    "Base.:*(x::D,y::D) = D(x.a*y.a, x.a*y.b+x.b*y.a)\n",
    "Base.:/(x::D,y::D) = D(x.a/y.a, (x.b-x.a*y.b/y.a)/y.a)\n",
    "\n",
    "Base.show(io::IO, x::D) = print(io, \"($(x.a)) + ($(x.b))ε\")\n",
    "function Base.show(io::IO, x::D{T}) where T<:Real \n",
    "    if x.b>=0\n",
    "        print(io, \"$(x.a) + $(x.b)ε\")\n",
    "    else\n",
    "        print(io, \"$(x.a) - $(abs(x.b))ε\")\n",
    "    end\n",
    "end"
   ]
  },
  {
   "cell_type": "code",
   "execution_count": 4,
   "metadata": {},
   "outputs": [
    {
     "data": {
      "text/plain": [
       "1//1 + 1//1ε"
      ]
     },
     "execution_count": 4,
     "metadata": {},
     "output_type": "execute_result"
    }
   ],
   "source": [
    "a=1//1+ε"
   ]
  },
  {
   "cell_type": "code",
   "execution_count": 5,
   "metadata": {},
   "outputs": [
    {
     "name": "stdout",
     "output_type": "stream",
     "text": [
      "D{Rational{Int64}}\n",
      "  a: Rational{Int64}\n",
      "    num: Int64 1\n",
      "    den: Int64 1\n",
      "  b: Rational{Int64}\n",
      "    num: Int64 1\n",
      "    den: Int64 1\n"
     ]
    }
   ],
   "source": [
    "dump(a)"
   ]
  },
  {
   "cell_type": "code",
   "execution_count": 6,
   "metadata": {},
   "outputs": [
    {
     "data": {
      "text/plain": [
       "1//1 + 2//1ε"
      ]
     },
     "execution_count": 6,
     "metadata": {},
     "output_type": "execute_result"
    }
   ],
   "source": [
    "a^2"
   ]
  },
  {
   "cell_type": "code",
   "execution_count": null,
   "metadata": {},
   "outputs": [],
   "source": []
  }
 ],
 "metadata": {
  "kernelspec": {
   "display_name": "Julia 0.6.2",
   "language": "julia",
   "name": "julia-0.6"
  },
  "language_info": {
   "file_extension": ".jl",
   "mimetype": "application/julia",
   "name": "julia",
   "version": "0.6.2"
  }
 },
 "nbformat": 4,
 "nbformat_minor": 2
}
