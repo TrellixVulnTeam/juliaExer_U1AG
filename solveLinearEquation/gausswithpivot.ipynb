{
 "cells": [
  {
   "cell_type": "markdown",
   "metadata": {},
   "source": [
    "# gauss with pivot"
   ]
  },
  {
   "cell_type": "code",
   "execution_count": 1,
   "metadata": {},
   "outputs": [
    {
     "data": {
      "text/plain": [
       "4-element Array{Float64,1}:\n",
       " 0.0\n",
       " 0.0\n",
       " 0.0\n",
       " 0.0"
      ]
     },
     "execution_count": 1,
     "metadata": {},
     "output_type": "execute_result"
    }
   ],
   "source": [
    "#Example1\n",
    "a=Float64[0 4 5 2;\n",
    "         1 0 2 -6;\n",
    "         4 1 0 -2;\n",
    "         1 7 1 0 ]\n",
    "b=Float64[9,-3, 1, -3]\n",
    "x=Float64[0, 0, 0, 0]"
   ]
  },
  {
   "cell_type": "code",
   "execution_count": 2,
   "metadata": {},
   "outputs": [
    {
     "data": {
      "text/plain": [
       "4×5 Array{Float64,2}:\n",
       " 0.0  4.0  5.0   2.0   9.0\n",
       " 1.0  0.0  2.0  -6.0  -3.0\n",
       " 4.0  1.0  0.0  -2.0   1.0\n",
       " 1.0  7.0  1.0   0.0  -3.0"
      ]
     },
     "execution_count": 2,
     "metadata": {},
     "output_type": "execute_result"
    }
   ],
   "source": [
    "ori_a=a\n",
    "a=hcat(a,b)"
   ]
  },
  {
   "cell_type": "code",
   "execution_count": 3,
   "metadata": {},
   "outputs": [
    {
     "data": {
      "text/plain": [
       "(4, 5)"
      ]
     },
     "execution_count": 3,
     "metadata": {},
     "output_type": "execute_result"
    }
   ],
   "source": [
    "row,col=size(a)"
   ]
  },
  {
   "cell_type": "code",
   "execution_count": 4,
   "metadata": {},
   "outputs": [
    {
     "data": {
      "text/plain": [
       "5-element Array{Float64,1}:\n",
       " 0.0\n",
       " 4.0\n",
       " 5.0\n",
       " 2.0\n",
       " 9.0"
      ]
     },
     "execution_count": 4,
     "metadata": {},
     "output_type": "execute_result"
    }
   ],
   "source": [
    "a[1,:]"
   ]
  },
  {
   "cell_type": "code",
   "execution_count": 5,
   "metadata": {
    "collapsed": true
   },
   "outputs": [],
   "source": [
    "for j in 1:row\n",
    "    #search pivot\n",
    "    maxidx=j-1+indmax(abs.(a[j:end,j]))\n",
    "    #swap\n",
    "    a[j,:],a[maxidx,:]=a[maxidx,:],a[j,:]\n",
    "    #push foward\n",
    "    for i in j+1:row\n",
    "        p=-a[i,j]/a[j,j]\n",
    "        a[i,:]+=p*a[j,:]\n",
    "    end\n",
    "end"
   ]
  },
  {
   "cell_type": "code",
   "execution_count": 6,
   "metadata": {},
   "outputs": [
    {
     "data": {
      "text/plain": [
       "4×5 Array{Float64,2}:\n",
       " 4.0  1.0   0.0      -2.0       1.0    \n",
       " 0.0  6.75  1.0       0.5      -3.25   \n",
       " 0.0  0.0   4.40741   1.7037   10.9259 \n",
       " 0.0  0.0   0.0      -6.26891  -8.42017"
      ]
     },
     "execution_count": 6,
     "metadata": {},
     "output_type": "execute_result"
    }
   ],
   "source": [
    "a"
   ]
  },
  {
   "cell_type": "code",
   "execution_count": 7,
   "metadata": {
    "collapsed": true
   },
   "outputs": [],
   "source": [
    "#back foward\n",
    "for i in row:-1:1\n",
    "    x[i]=(a[i,col]-dot(a[i,i+1:row],x[i+1:row]))/a[i,i]\n",
    "end"
   ]
  },
  {
   "cell_type": "code",
   "execution_count": 8,
   "metadata": {},
   "outputs": [
    {
     "data": {
      "text/plain": [
       "4-element Array{Float64,1}:\n",
       "  1.13941 \n",
       " -0.871314\n",
       "  1.95979 \n",
       "  1.34316 "
      ]
     },
     "execution_count": 8,
     "metadata": {},
     "output_type": "execute_result"
    }
   ],
   "source": [
    "x"
   ]
  },
  {
   "cell_type": "code",
   "execution_count": 9,
   "metadata": {},
   "outputs": [
    {
     "data": {
      "text/plain": [
       "4-element Array{Float64,1}:\n",
       " -1.77636e-15\n",
       "  1.77636e-15\n",
       "  0.0        \n",
       " -4.44089e-16"
      ]
     },
     "execution_count": 9,
     "metadata": {},
     "output_type": "execute_result"
    }
   ],
   "source": [
    "ori_a*x-b"
   ]
  }
 ],
 "metadata": {
  "kernelspec": {
   "display_name": "Julia 0.6.1",
   "language": "julia",
   "name": "julia-0.6"
  },
  "language_info": {
   "file_extension": ".jl",
   "mimetype": "application/julia",
   "name": "julia",
   "version": "0.6.1"
  }
 },
 "nbformat": 4,
 "nbformat_minor": 2
}
