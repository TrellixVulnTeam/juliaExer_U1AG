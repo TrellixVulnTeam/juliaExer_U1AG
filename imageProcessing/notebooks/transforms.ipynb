{
 "cells": [
  {
   "cell_type": "code",
   "execution_count": null,
   "metadata": {},
   "outputs": [],
   "source": [
    "using Images\n",
    "using TestImages"
   ]
  },
  {
   "cell_type": "code",
   "execution_count": null,
   "metadata": {},
   "outputs": [],
   "source": [
    "filename=\"lena_color_512\""
   ]
  },
  {
   "cell_type": "markdown",
   "metadata": {},
   "source": [
    "# Visualize Original Image"
   ]
  },
  {
   "cell_type": "code",
   "execution_count": null,
   "metadata": {},
   "outputs": [],
   "source": [
    "img = testimage(filename)"
   ]
  },
  {
   "cell_type": "markdown",
   "metadata": {},
   "source": [
    "# Resize Image"
   ]
  },
  {
   "cell_type": "code",
   "execution_count": null,
   "metadata": {},
   "outputs": [],
   "source": [
    "W=180\n",
    "H=120\n",
    "img = testimage(filename)\n",
    "imresize(img, (W,H))"
   ]
  },
  {
   "cell_type": "markdown",
   "metadata": {},
   "source": [
    "# Rotate"
   ]
  },
  {
   "cell_type": "code",
   "execution_count": null,
   "metadata": {},
   "outputs": [],
   "source": [
    "using CoordinateTransformations\n",
    "img = testimage(filename)\n",
    "tfm = recenter(RotMatrix(pi/4), center(img))\n",
    "img=parent(warp(img,tfm))"
   ]
  },
  {
   "cell_type": "markdown",
   "metadata": {},
   "source": [
    "# Translate"
   ]
  },
  {
   "cell_type": "code",
   "execution_count": null,
   "metadata": {},
   "outputs": [],
   "source": [
    "img = testimage(filename)\n",
    "img1 = Gray.(img)\n",
    "tform = Translation(180,70)\n",
    "img2 = warp(img1, tform, axes(img1))"
   ]
  },
  {
   "cell_type": "code",
   "execution_count": null,
   "metadata": {},
   "outputs": [],
   "source": [
    "img = testimage(filename)\n",
    "img1 = Gray.(img)\n",
    "rot = recenter(RotMatrix(-pi/4), center(img1)) # a rotation around the center\n",
    "tform = rot ∘ Translation(180,70)\n",
    "img2 = warp(img1, tform, axes(img1))"
   ]
  },
  {
   "cell_type": "code",
   "execution_count": null,
   "metadata": {},
   "outputs": [],
   "source": [
    "img=testimage(filename)"
   ]
  },
  {
   "cell_type": "markdown",
   "metadata": {},
   "source": [
    "# Crop"
   ]
  },
  {
   "cell_type": "code",
   "execution_count": null,
   "metadata": {},
   "outputs": [],
   "source": [
    "img=testimage(filename)\n",
    "y_slice=range(150,300)\n",
    "x_slice=range(100,400)\n",
    "crop_img= img[y_slice,x_slice]"
   ]
  },
  {
   "cell_type": "markdown",
   "metadata": {},
   "source": [
    "## Crop but no copy"
   ]
  },
  {
   "cell_type": "code",
   "execution_count": null,
   "metadata": {},
   "outputs": [],
   "source": [
    "fill!(channelview(crop_img),0)\n",
    "[crop_img,img]"
   ]
  },
  {
   "cell_type": "code",
   "execution_count": null,
   "metadata": {},
   "outputs": [],
   "source": [
    "img=testimage(filename)\n",
    "y_slice=range(150,300)\n",
    "x_slice=range(100,400)\n",
    "crop_img= @view img[y_slice,x_slice]\n",
    "fill!(channelview(crop_img),0)\n",
    "[crop_img,img]"
   ]
  },
  {
   "cell_type": "markdown",
   "metadata": {},
   "source": [
    "# Flip"
   ]
  },
  {
   "cell_type": "code",
   "execution_count": null,
   "metadata": {},
   "outputs": [],
   "source": [
    "img=testimage(filename)\n",
    "flipped = img[:,end:-1:1]\n",
    "y_slice=UnitRange(150,300)\n",
    "x_slice=UnitRange(100,400)\n",
    "chvflipped=channelview(flipped[y_slice,x_slice])\n",
    "fill!(chvflipped,0)\n",
    "[img, flipped]"
   ]
  },
  {
   "cell_type": "code",
   "execution_count": null,
   "metadata": {},
   "outputs": [],
   "source": [
    "img=testimage(filename)\n",
    "flipped = @view img[:,end:-1:1]\n",
    "y_slice=UnitRange(150,300)\n",
    "x_slice=UnitRange(100,400)\n",
    "@views chvflipped=channelview(flipped[y_slice,x_slice])\n",
    "fill!(chvflipped,0)\n",
    "[img, flipped]"
   ]
  }
 ],
 "metadata": {
  "@webio": {
   "lastCommId": null,
   "lastKernelId": null
  },
  "kernelspec": {
   "display_name": "Julia 1.2.0",
   "language": "julia",
   "name": "julia-1.2"
  },
  "language_info": {
   "file_extension": ".jl",
   "mimetype": "application/julia",
   "name": "julia",
   "version": "1.2.0"
  }
 },
 "nbformat": 4,
 "nbformat_minor": 2
}
